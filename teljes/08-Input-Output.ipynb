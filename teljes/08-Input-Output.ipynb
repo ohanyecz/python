{
 "cells": [
  {
   "cell_type": "markdown",
   "metadata": {},
   "source": [
    "# Input/Output"
   ]
  },
  {
   "cell_type": "markdown",
   "metadata": {},
   "source": [
    "A legtöbb programozási nyelvben lehetőség van\n",
    "\n",
    "- kérni valamilyen adatot a felhaszálótól és\n",
    "- fájlból beolvasni (Input) és kiírni (Output) az adatokat.\n",
    "\n",
    "Ebben a részben ezzel a két dologgal foglalkozunk."
   ]
  },
  {
   "cell_type": "markdown",
   "metadata": {},
   "source": [
    "## Adat kérése a felhasználótól: az `input()` függvény"
   ]
  },
  {
   "cell_type": "markdown",
   "metadata": {},
   "source": [
    "A beépített `input()` függvénnyel lehetőség van adatot kérni a felhasználótól. Ez a függvény addig vár, amíg egy ENTER lenyomásával végzünk az adat megadásával:"
   ]
  },
  {
   "cell_type": "code",
   "execution_count": 1,
   "metadata": {},
   "outputs": [
    {
     "name": "stdin",
     "output_type": "stream",
     "text": [
      " egy\n"
     ]
    },
    {
     "name": "stdout",
     "output_type": "stream",
     "text": [
      "egy\n"
     ]
    }
   ],
   "source": [
    "a = input()\n",
    "print(a)"
   ]
  },
  {
   "cell_type": "markdown",
   "metadata": {},
   "source": [
    "Ez a függvény *mindig* string típusú adattal fog visszatérni. Ha például azt akarjuk ellenőrizni, hogy a megadott szám nagyobb vagy egyenlő mint négy, akkor az `int()` függvényt felhasználva átkonvertálhatjuk az `input()`-ból származó adatot:"
   ]
  },
  {
   "cell_type": "code",
   "execution_count": 2,
   "metadata": {},
   "outputs": [
    {
     "name": "stdin",
     "output_type": "stream",
     "text": [
      " 6\n"
     ]
    },
    {
     "name": "stdout",
     "output_type": "stream",
     "text": [
      "Az input nagyobb vagy egyenlő mint 4\n"
     ]
    }
   ],
   "source": [
    "a = input()\n",
    "if int(a) >= 4:\n",
    "    print(\"Az input nagyobb vagy egyenlő mint 4\")\n",
    "else:\n",
    "    print(\"Az input kisebb mint 4\")"
   ]
  },
  {
   "cell_type": "markdown",
   "metadata": {},
   "source": [
    "Az `input()` függvénynek átadható egy string, amivel jelezhető, hogy a program most adatot vár:"
   ]
  },
  {
   "cell_type": "code",
   "execution_count": 3,
   "metadata": {},
   "outputs": [
    {
     "name": "stdin",
     "output_type": "stream",
     "text": [
      "Adj meg egy számot:  3\n"
     ]
    },
    {
     "name": "stdout",
     "output_type": "stream",
     "text": [
      "3\n"
     ]
    }
   ],
   "source": [
    "a = input(\"Adj meg egy számot: \")\n",
    "print(a)"
   ]
  },
  {
   "cell_type": "markdown",
   "metadata": {},
   "source": [
    "## Adat olvasása fájlból és írása fájlba: az `open()` függvény"
   ]
  },
  {
   "cell_type": "markdown",
   "metadata": {},
   "source": [
    "Sokszor előfordul, hogy egy fájlban lévő adatokat kell feldolgoznunk, vagy a feldolgozott adatokat kell fájlba kiírni. Ehhez nyújt segítséget az `open()` függvény. Ennek a függvénynek leggyakrabban két paramétert adunk át: az első paraméter a fájl neve, amiből beolvasunk vagy amibe írunk, a második paraméter meg a fájl megnyitásának módja. Ebben a paraméterben azt jelezzük a Pythonnak, hogy mit fogunk csinálni a fájlal:\n",
    "\n",
    "- az `r` mód azt jelöli, hogy csak olvassuk a fájlt (ez az alapértelmezett)\n",
    "- a `w` mód azt jelöli, hogy a fájlba írunk (ha már van olyan nevű fájl, amit megnyitottunk, akkor az törlődni fog)\n",
    "- az `a` mód a hozzáadást jelöli, ez egy fájl végére hozzáírja azt, amit szeretnénk\n",
    "- az `r+` mód olvasást és írást jelöl."
   ]
  },
  {
   "cell_type": "markdown",
   "metadata": {},
   "source": [
    "Nyissuk meg a *data* mappában található *rr_lyrae.txt* fájlt, ami a TESS űrtávcső méréseit tartalmazza. Figyeljünk arra, hogy az adatok nem ebben a mappában találhatók, ezért ebből egyel vissza kell lépni a `../` segítségével, majd elérhetjük a `data/rr_lyrae.txt` útvonalon:"
   ]
  },
  {
   "cell_type": "code",
   "execution_count": 4,
   "metadata": {},
   "outputs": [],
   "source": [
    "rr_lyrae = open(\"../data/rr_lyrae.txt\", mode=\"r\")"
   ]
  },
  {
   "cell_type": "markdown",
   "metadata": {},
   "source": [
    "Ennek a megnyitási módnak van egy hátránya: mindig a programozónak kell bezárnia a fájlt a `close()` metódussal:"
   ]
  },
  {
   "cell_type": "code",
   "execution_count": 5,
   "metadata": {},
   "outputs": [],
   "source": [
    "rr_lyrae.close()"
   ]
  },
  {
   "cell_type": "markdown",
   "metadata": {},
   "source": [
    "Sok hiba forrása lehet, ha ezt elfelejtjük kiírni, ezért inkább a `with` kulcsszót használjuk a fájl megnyitására. Ez egy összetett utasítás, ami gondoskodni fog nekünk a fájl bezárásáról, így nem kell a `close()` metódussal foglalkozni. Néhány esetben hasznos lehet a fenti mód, de ritkán fordul elő.\n",
    "\n",
    "A `with` kulcsszó után az `open()` függvényt kell használni a fájl megnyitására, amit az `as` kulcsszó követ, ami után a megnyitott fájlnak adhatunk egy nevet, majd a `:` zárja a sort. \n",
    "\n",
    "Egy fájl tartalmát string formában lehet beolvasni, aminek több módja is van. Az egyik mód a `read()` metódus, ami a fájl teljes tartalmát beolvassa egy string-be:"
   ]
  },
  {
   "cell_type": "code",
   "execution_count": 6,
   "metadata": {},
   "outputs": [
    {
     "name": "stdout",
     "output_type": "stream",
     "text": [
      "1683.3564705189142\t88994.25\n",
      "1683.3578594148944\t88922.375\n",
      "1683.3592483106422\t88844.4375\n",
      "1683.360637206622\t88808.671875\n",
      "1683.3620261023686\t88623.0\n",
      "1683.363414998349\t88668.1640625\n",
      "1683.3648038940964\t88466.6328125\n",
      "1683.366192790077\t88751.375\n",
      "1683.3675816858245\t88565.015625\n",
      "1683.3689705818042\t88687.734375\n",
      "1683.3703594775511\t88920.796875\n",
      "1683.3717483735313\t89079.890625\n",
      "1683.3731372692791\t89291.75\n",
      "1683.3745261652593\t89448.890625\n",
      "1683.3759150610072\t89919.9765625\n"
     ]
    }
   ],
   "source": [
    "with open(\"../data/rr_lyrae_short.txt\", mode=\"r\") as rr_lyrae:\n",
    "    lc = rr_lyrae.read()\n",
    "    print(lc)"
   ]
  },
  {
   "cell_type": "markdown",
   "metadata": {},
   "source": [
    "A `readlines()` metódus egy listát ad, aminek egy eleme a fájl egy sorát fogja tartalmazni:"
   ]
  },
  {
   "cell_type": "code",
   "execution_count": 7,
   "metadata": {},
   "outputs": [
    {
     "name": "stdout",
     "output_type": "stream",
     "text": [
      "['1683.3564705189142\\t88994.25\\n', '1683.3578594148944\\t88922.375\\n', '1683.3592483106422\\t88844.4375\\n', '1683.360637206622\\t88808.671875\\n', '1683.3620261023686\\t88623.0\\n', '1683.363414998349\\t88668.1640625\\n', '1683.3648038940964\\t88466.6328125\\n', '1683.366192790077\\t88751.375\\n', '1683.3675816858245\\t88565.015625\\n', '1683.3689705818042\\t88687.734375\\n', '1683.3703594775511\\t88920.796875\\n', '1683.3717483735313\\t89079.890625\\n', '1683.3731372692791\\t89291.75\\n', '1683.3745261652593\\t89448.890625\\n', '1683.3759150610072\\t89919.9765625']\n"
     ]
    }
   ],
   "source": [
    "with open(\"../data/rr_lyrae_short.txt\", mode=\"r\") as rr_lyrae:\n",
    "    lc = rr_lyrae.readlines()\n",
    "    print(lc)"
   ]
  },
  {
   "cell_type": "markdown",
   "metadata": {},
   "source": [
    "A `readline()` metódus pontosan egy sort olvas be a fájlból:"
   ]
  },
  {
   "cell_type": "code",
   "execution_count": 8,
   "metadata": {},
   "outputs": [
    {
     "name": "stdout",
     "output_type": "stream",
     "text": [
      "1683.3564705189142\t88994.25\n",
      "\n",
      "1683.3578594148944\t88922.375\n",
      "\n",
      "1683.3592483106422\t88844.4375\n",
      "\n"
     ]
    }
   ],
   "source": [
    "with open(\"../data/rr_lyrae_short.txt\", mode=\"r\") as rr_lyrae:\n",
    "    print(rr_lyrae.readline())\n",
    "    print(rr_lyrae.readline())\n",
    "    print(rr_lyrae.readline())"
   ]
  },
  {
   "cell_type": "markdown",
   "metadata": {},
   "source": [
    "Figyeljük meg az üres sort az adatok között! Ez azért van, mert a fájl beolvasásakor az újsor karakterek (`\\n`) mindig beolvasásra kerülnek és a kiíráskor egy üres sort fognak eredményezni! Mivel egy sor az egy string, használhatjuk rá a Stringeknél megismert `strip()` metódust, ami ezeket az újsor karaktereket fogja levágni.\n",
    "\n",
    "Ha a `readline()` használatakor elérünk a fájl végére, akkor egy üres stringet (`''`) kapunk eredményül."
   ]
  },
  {
   "cell_type": "markdown",
   "metadata": {},
   "source": [
    "Lehetőség van egy fájl tartalmát soronként beolvasni. Ezt egy ciklussal hatékonyan megtehetjük és nem fogja a fájl teljes tartalmát a számítógép memóriájában tartani, mint a `read()` vagy `readlines()` metódusok:"
   ]
  },
  {
   "cell_type": "code",
   "execution_count": 9,
   "metadata": {},
   "outputs": [
    {
     "name": "stdout",
     "output_type": "stream",
     "text": [
      "1683.3564705189142\t88994.25\n",
      "1683.3578594148944\t88922.375\n",
      "1683.3592483106422\t88844.4375\n",
      "1683.360637206622\t88808.671875\n",
      "1683.3620261023686\t88623.0\n",
      "1683.363414998349\t88668.1640625\n",
      "1683.3648038940964\t88466.6328125\n",
      "1683.366192790077\t88751.375\n",
      "1683.3675816858245\t88565.015625\n",
      "1683.3689705818042\t88687.734375\n",
      "1683.3703594775511\t88920.796875\n",
      "1683.3717483735313\t89079.890625\n",
      "1683.3731372692791\t89291.75\n",
      "1683.3745261652593\t89448.890625\n",
      "1683.3759150610072\t89919.9765625\n"
     ]
    }
   ],
   "source": [
    "with open(\"../data/rr_lyrae_short.txt\", mode=\"r\") as rr_lyrae:\n",
    "    for line in rr_lyrae:\n",
    "        print(line.strip())  # a strip() levágja az újsor karaktert"
   ]
  },
  {
   "cell_type": "markdown",
   "metadata": {},
   "source": [
    "Fájlba íráskor a `write()` metódus használandó. Ez egy stringet vár paraméterül, amit abba a fájlba fog kiírni, amit megnyitottunk a `with` kulcsszóval. Fontos, hogy ha írni akarunk a fájlba, akkor a mode `w` legyen, különben hibát kapunk!"
   ]
  },
  {
   "cell_type": "code",
   "execution_count": 10,
   "metadata": {},
   "outputs": [],
   "source": [
    "with open(\"test.txt\", mode=\"w\") as f:\n",
    "    f.write(\"Hello, world!\")"
   ]
  },
  {
   "cell_type": "markdown",
   "metadata": {},
   "source": [
    "Természetesen listát is kiírhatunk egy fájlba, de a lista elemeit stringgé kell konvertálni:"
   ]
  },
  {
   "cell_type": "code",
   "execution_count": 11,
   "metadata": {},
   "outputs": [],
   "source": [
    "szamok = [1, 2, 3, 4, 5, 6, 7, 8]\n",
    "with open(\"test2.txt\", mode=\"w\") as f:\n",
    "    for i in szamok:\n",
    "        f.write(str(i) + \"\\n\")  # soronként egy listaelem"
   ]
  },
  {
   "cell_type": "markdown",
   "metadata": {},
   "source": [
    "## Feladatok"
   ]
  },
  {
   "cell_type": "markdown",
   "metadata": {},
   "source": [
    "### **1. feladat**: Készítsük el a következő programot:\n",
    "\n",
    "- Generáljunk egy random egész számot 0 és 100 között és tároljuk el egy változóban\n",
    "- Addig kérjünk a felhasználótól egy számot, amíg nem találja el, de írjuk ki, hogy a random szám nagyobb-e vagy kisebb, mint amit a felhasználó megadott!"
   ]
  },
  {
   "cell_type": "code",
   "execution_count": 12,
   "metadata": {},
   "outputs": [
    {
     "name": "stdin",
     "output_type": "stream",
     "text": [
      "Adj meg egy egész számot 0 és 100 között:  50\n"
     ]
    },
    {
     "name": "stdout",
     "output_type": "stream",
     "text": [
      "A szám nagyobb\n"
     ]
    },
    {
     "name": "stdin",
     "output_type": "stream",
     "text": [
      "Adj meg egy egész számot 0 és 100 között:  75\n"
     ]
    },
    {
     "name": "stdout",
     "output_type": "stream",
     "text": [
      "A szám nagyobb\n"
     ]
    },
    {
     "name": "stdin",
     "output_type": "stream",
     "text": [
      "Adj meg egy egész számot 0 és 100 között:  85\n"
     ]
    },
    {
     "name": "stdout",
     "output_type": "stream",
     "text": [
      "A szám nagyobb\n"
     ]
    },
    {
     "name": "stdin",
     "output_type": "stream",
     "text": [
      "Adj meg egy egész számot 0 és 100 között:  90\n"
     ]
    },
    {
     "name": "stdout",
     "output_type": "stream",
     "text": [
      "A szám nagyobb\n"
     ]
    },
    {
     "name": "stdin",
     "output_type": "stream",
     "text": [
      "Adj meg egy egész számot 0 és 100 között:  95\n"
     ]
    },
    {
     "name": "stdout",
     "output_type": "stream",
     "text": [
      "A szám nagyobb\n"
     ]
    },
    {
     "name": "stdin",
     "output_type": "stream",
     "text": [
      "Adj meg egy egész számot 0 és 100 között:  96\n"
     ]
    },
    {
     "name": "stdout",
     "output_type": "stream",
     "text": [
      "A szám nagyobb\n"
     ]
    },
    {
     "name": "stdin",
     "output_type": "stream",
     "text": [
      "Adj meg egy egész számot 0 és 100 között:  97\n"
     ]
    },
    {
     "name": "stdout",
     "output_type": "stream",
     "text": [
      "A szám nagyobb\n"
     ]
    },
    {
     "name": "stdin",
     "output_type": "stream",
     "text": [
      "Adj meg egy egész számot 0 és 100 között:  98\n"
     ]
    },
    {
     "name": "stdout",
     "output_type": "stream",
     "text": [
      "A szám nagyobb\n"
     ]
    },
    {
     "name": "stdin",
     "output_type": "stream",
     "text": [
      "Adj meg egy egész számot 0 és 100 között:  99\n"
     ]
    },
    {
     "name": "stdout",
     "output_type": "stream",
     "text": [
      "Eltaláltad! :)\n"
     ]
    }
   ],
   "source": [
    "# megoldás: \n",
    "\n",
    "from random import randrange\n",
    "\n",
    "i = randrange(0, 100)\n",
    "\n",
    "while True:\n",
    "    g = int(input(\"Adj meg egy egész számot 0 és 100 között: \"))\n",
    "    if g == i:\n",
    "        print(\"Eltaláltad! :)\")\n",
    "        break\n",
    "    elif g < i:\n",
    "        print(\"A szám nagyobb\")\n",
    "    else:\n",
    "        print(\"A szám kisebb\")"
   ]
  },
  {
   "cell_type": "markdown",
   "metadata": {},
   "source": [
    "### **2. feladat**: Írjunk egy kő-papír-olló játékot, ami az alábbi dolgokat tudja:\n",
    "\n",
    "- A játék egy bemenetet vár a felhasználótól: kő vagy papír vagy olló. Ha nem ezt adja meg, a program kérjen ismét bemenetet a felhasználótól\n",
    "- A játék addig fusson, amíg a felhasználó a `q` vagy `quit` vagy `exit` bemenetet nem ad meg\n",
    "- A játék minden körben generáljon egy saját kezet: kő vagy papír vagy olló\n",
    "- Minden körben írja ki az eredmény meghatározása előtt, de a felhasználó által megadott kéz után a gép által generált kezet\n",
    "- A játék végén írja ki, hogy a gépnek és a felhasználónak hány pontja lett. A döntetlen és vereség 0 pont, győzelem 1 pont\n",
    "\n",
    "A szabályok:\n",
    "\n",
    "- a kő legyőzi az ollót\n",
    "- az olló legyőzi a papírt\n",
    "- a papír legyőzi a követ\n",
    "- ugyanolyan kezek döntetlenre végződnek\n",
    "\n",
    "Sok helyes megoldás létezik."
   ]
  },
  {
   "cell_type": "code",
   "execution_count": 13,
   "metadata": {},
   "outputs": [
    {
     "name": "stdin",
     "output_type": "stream",
     "text": [
      "-->  q\n"
     ]
    },
    {
     "name": "stdout",
     "output_type": "stream",
     "text": [
      "Eredmények:\n",
      "A gép pontja:  0\n",
      "A te pontod:  0\n",
      "Köszi a játékot!\n"
     ]
    }
   ],
   "source": [
    "from random import choice\n",
    "\n",
    "p_user = 0\n",
    "p_machine = 0\n",
    "\n",
    "while True:\n",
    "    inp = input(\"--> \").lower()\n",
    "    if inp in [\"q\", \"quit\", \"exit\"]:\n",
    "        break\n",
    "    \n",
    "    if inp not in [\"kő\", \"papír\", \"olló\"]:\n",
    "        print(\"Hibás bemenet, újra!\")\n",
    "        continue\n",
    "    \n",
    "    \n",
    "    hand = choice([\"kő\", \"papír\", \"olló\"])\n",
    "    print(\"A gép ezt játszotta: \", hand)\n",
    "    \n",
    "    if inp == hand:\n",
    "        print(\"Döntetlen\")\n",
    "    elif inp == \"kő\":\n",
    "        if hand == \"papír\":\n",
    "            print(\"Papír legyőzte a követ! Vesztettél!\")\n",
    "            p_machine += 1\n",
    "        elif hand == \"olló\":\n",
    "            print(\"Kő legyőzte az ollót! Nyertél!\")\n",
    "            p_user += 1\n",
    "    elif inp == \"papír\":\n",
    "        if hand == \"olló\":\n",
    "            print(\"Olló legyőzte a papírt! Vesztettél!\")\n",
    "            p_machine += 1\n",
    "        elif hand == \"kő\":\n",
    "            print(\"Papír legyőzte a követ! Nyertél!\")\n",
    "            p_user += 1\n",
    "    elif inp == \"olló\":\n",
    "        if hand == \"kő\":\n",
    "            print(\"Kő legyőzte az ollót! Vesztettél!\")\n",
    "            p_machine += 1\n",
    "        elif hand == \"papír\":\n",
    "            print(\"Olló legyőzte a papírt! Nyertél\")\n",
    "            p_user += 1\n",
    "\n",
    "print(\"Eredmények:\")\n",
    "print(\"A gép pontja: \", p_machine)\n",
    "print(\"A te pontod: \", p_user)\n",
    "print(\"Köszi a játékot!\")"
   ]
  }
 ],
 "metadata": {
  "kernelspec": {
   "display_name": "Python 3",
   "language": "python",
   "name": "python3"
  },
  "language_info": {
   "codemirror_mode": {
    "name": "ipython",
    "version": 3
   },
   "file_extension": ".py",
   "mimetype": "text/x-python",
   "name": "python",
   "nbconvert_exporter": "python",
   "pygments_lexer": "ipython3",
   "version": "3.8.5"
  }
 },
 "nbformat": 4,
 "nbformat_minor": 4
}
