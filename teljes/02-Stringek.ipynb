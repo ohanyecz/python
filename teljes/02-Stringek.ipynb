{
 "cells": [
  {
   "cell_type": "markdown",
   "metadata": {},
   "source": [
    "# String-ek"
   ]
  },
  {
   "cell_type": "markdown",
   "metadata": {},
   "source": [
    "Pythonban egy string-et vagy szimpla idézőjelek között, vagy dupla idézőjelek között lehet megadni:"
   ]
  },
  {
   "cell_type": "code",
   "execution_count": 18,
   "metadata": {},
   "outputs": [
    {
     "name": "stdout",
     "output_type": "stream",
     "text": [
      "Hello, szakkör\n"
     ]
    }
   ],
   "source": [
    "print('Hello, szakkör')"
   ]
  },
  {
   "cell_type": "code",
   "execution_count": 19,
   "metadata": {},
   "outputs": [
    {
     "name": "stdout",
     "output_type": "stream",
     "text": [
      "Hello, szakkör\n"
     ]
    }
   ],
   "source": [
    "print(\"Hello, szakkör\")"
   ]
  },
  {
   "cell_type": "markdown",
   "metadata": {},
   "source": [
    "A kétfajta megadási mód között nincs különbség."
   ]
  },
  {
   "cell_type": "markdown",
   "metadata": {},
   "source": [
    "A különböző idézőjeleket lehet keverni. Ha a string-ben van idézőjel, ami nem ugyanolyan, mint ahogy a string-et megadtuk, akkor az kiíródik. Figyeljük meg az alábbi két string-ben az idézőjelek fajtáját:"
   ]
  },
  {
   "cell_type": "code",
   "execution_count": 20,
   "metadata": {},
   "outputs": [
    {
     "name": "stdout",
     "output_type": "stream",
     "text": [
      "Hello, '20-as évek!\n"
     ]
    }
   ],
   "source": [
    "print(\"Hello, '20-as évek!\")"
   ]
  },
  {
   "cell_type": "code",
   "execution_count": 21,
   "metadata": {},
   "outputs": [
    {
     "name": "stdout",
     "output_type": "stream",
     "text": [
      "Hello, \"20-as évek!\n"
     ]
    }
   ],
   "source": [
    "print('Hello, \"20-as évek!')"
   ]
  },
  {
   "cell_type": "markdown",
   "metadata": {},
   "source": [
    "Két vagy több string-et össze lehet adni, aminek az eredménye egy string lesz:"
   ]
  },
  {
   "cell_type": "code",
   "execution_count": 22,
   "metadata": {},
   "outputs": [
    {
     "data": {
      "text/plain": [
       "'Hello, szakkör!'"
      ]
     },
     "execution_count": 22,
     "metadata": {},
     "output_type": "execute_result"
    }
   ],
   "source": [
    "\"Hello, \" + \"szakkör\" + \"!\""
   ]
  },
  {
   "cell_type": "markdown",
   "metadata": {},
   "source": [
    "Egy string-et meg lehet szorozni egy egész számmal, aminek az eredménye egy string lesz az eredeti string számszorosával:"
   ]
  },
  {
   "cell_type": "code",
   "execution_count": 23,
   "metadata": {},
   "outputs": [
    {
     "data": {
      "text/plain": [
       "'HelloHelloHello'"
      ]
     },
     "execution_count": 23,
     "metadata": {},
     "output_type": "execute_result"
    }
   ],
   "source": [
    "\"Hello\" * 3"
   ]
  },
  {
   "cell_type": "markdown",
   "metadata": {},
   "source": [
    "**Vigyázat**: más nyelvekben általában egy külön függvény van erre definiálva."
   ]
  },
  {
   "cell_type": "markdown",
   "metadata": {},
   "source": [
    "A string-ek konkrét karakterét ki lehet szedni *indexeléssel*. Pythonban nincs karakter típus, a karakter is egy string, aminek a hossza 1. Az első karakter indexe 0:"
   ]
  },
  {
   "cell_type": "code",
   "execution_count": 24,
   "metadata": {},
   "outputs": [
    {
     "name": "stdout",
     "output_type": "stream",
     "text": [
      "H\n"
     ]
    }
   ],
   "source": [
    "v = \"Hello, szakkör\"\n",
    "print(v[0])  # az első karakter kírása"
   ]
  },
  {
   "cell_type": "code",
   "execution_count": 25,
   "metadata": {},
   "outputs": [
    {
     "name": "stdout",
     "output_type": "stream",
     "text": [
      "l\n"
     ]
    }
   ],
   "source": [
    "print(v[2])  # a harmadik karakter kiírása"
   ]
  },
  {
   "cell_type": "markdown",
   "metadata": {},
   "source": [
    "Negatív szám is használható indexelésre, ekkor a string hátuljáról kell számolni az indexeket a -1-től kezdve:"
   ]
  },
  {
   "cell_type": "code",
   "execution_count": 26,
   "metadata": {},
   "outputs": [
    {
     "name": "stdout",
     "output_type": "stream",
     "text": [
      "r\n"
     ]
    }
   ],
   "source": [
    "print(v[-1])  # az utolsó karakter kiírása"
   ]
  },
  {
   "cell_type": "code",
   "execution_count": 27,
   "metadata": {},
   "outputs": [
    {
     "name": "stdout",
     "output_type": "stream",
     "text": [
      "z\n"
     ]
    }
   ],
   "source": [
    "print(v[-6])  # hátulról a hatodik karakter kírása"
   ]
  },
  {
   "cell_type": "markdown",
   "metadata": {},
   "source": [
    "Hátulról miért -1-től számoljuk, amikor elölről 0-től? Az ok egyszerű: -0 = 0, ezért a -0-dik index is az első karaktert fogja kiírni."
   ]
  },
  {
   "cell_type": "markdown",
   "metadata": {},
   "source": [
    "Hibát kapunk, ha túl nagy indexű karaktert akarunk kiszedni:"
   ]
  },
  {
   "cell_type": "code",
   "execution_count": 28,
   "metadata": {},
   "outputs": [
    {
     "ename": "IndexError",
     "evalue": "string index out of range",
     "output_type": "error",
     "traceback": [
      "\u001b[0;31m---------------------------------------------------------------------------\u001b[0m",
      "\u001b[0;31mIndexError\u001b[0m                                Traceback (most recent call last)",
      "\u001b[0;32m<ipython-input-28-5b93bfc1854e>\u001b[0m in \u001b[0;36m<module>\u001b[0;34m\u001b[0m\n\u001b[0;32m----> 1\u001b[0;31m \u001b[0mprint\u001b[0m\u001b[0;34m(\u001b[0m\u001b[0mv\u001b[0m\u001b[0;34m[\u001b[0m\u001b[0;36m143\u001b[0m\u001b[0;34m]\u001b[0m\u001b[0;34m)\u001b[0m\u001b[0;34m\u001b[0m\u001b[0;34m\u001b[0m\u001b[0m\n\u001b[0m",
      "\u001b[0;31mIndexError\u001b[0m: string index out of range"
     ]
    }
   ],
   "source": [
    "print(v[143])"
   ]
  },
  {
   "cell_type": "markdown",
   "metadata": {},
   "source": [
    "Az `IndexError` egy másfajta hibaüzenet (a `NameError` volt a másik), ami akkor jön elő, ha olyan elemre vagyunk kíváncsiak, ami a string-ben (vagy később a listákban) nem létezik. Ezt jelenti a `string index out of range` üzenet."
   ]
  },
  {
   "cell_type": "markdown",
   "metadata": {},
   "source": [
    "Egy string hosszát lekérhetjük a beépített `len()` függvénnyel:"
   ]
  },
  {
   "cell_type": "code",
   "execution_count": 29,
   "metadata": {},
   "outputs": [
    {
     "name": "stdout",
     "output_type": "stream",
     "text": [
      "14\n"
     ]
    }
   ],
   "source": [
    "print(len(v))  # a \"Hello, szakkör\" string hossza"
   ]
  },
  {
   "cell_type": "markdown",
   "metadata": {},
   "source": [
    "Lehetőség van egy string szeletelése (*slice*), azaz a string egy részének kiszedésére a kettőspont (`:`) operátor segítségével:"
   ]
  },
  {
   "cell_type": "code",
   "execution_count": 30,
   "metadata": {},
   "outputs": [
    {
     "name": "stdout",
     "output_type": "stream",
     "text": [
      "Hel\n"
     ]
    }
   ],
   "source": [
    "print(v[0:3])"
   ]
  },
  {
   "cell_type": "markdown",
   "metadata": {},
   "source": [
    "**Figyelem**: ha ilyen módon adjuk meg az indexelést, a kettőspont utáni indexnek megfelelő pozíción lévő karakter már nem íródik ki! Azaz a `v[0:3]` csak a 0,1,2 indexen lévő karaktereket fogja kiírni!"
   ]
  },
  {
   "cell_type": "markdown",
   "metadata": {},
   "source": [
    "A szeleteknek van alapértelmezett értéke. Ha a string elejéről akarunk kiírni néhány karaktert, a 0 elhagyható a `:` előtt:"
   ]
  },
  {
   "cell_type": "code",
   "execution_count": 31,
   "metadata": {},
   "outputs": [
    {
     "name": "stdout",
     "output_type": "stream",
     "text": [
      "Hello,\n"
     ]
    }
   ],
   "source": [
    "print(v[:6])"
   ]
  },
  {
   "cell_type": "markdown",
   "metadata": {},
   "source": [
    "Ha a negyedik indexű pozíciótól a string végéig akarjuk azt kiírni, akkor az utolsó karakter indexe elhagyható:"
   ]
  },
  {
   "cell_type": "code",
   "execution_count": 32,
   "metadata": {},
   "outputs": [
    {
     "name": "stdout",
     "output_type": "stream",
     "text": [
      "o, szakkör\n"
     ]
    }
   ],
   "source": [
    "print(v[4:])"
   ]
  },
  {
   "cell_type": "markdown",
   "metadata": {},
   "source": [
    "Hasonló igaz a string hátuljáról is. Ha az utolsó néhány karatert akarjuk kiírni, a -1 elhagyható a `:` után:"
   ]
  },
  {
   "cell_type": "code",
   "execution_count": 33,
   "metadata": {},
   "outputs": [
    {
     "name": "stdout",
     "output_type": "stream",
     "text": [
      "akkör\n"
     ]
    }
   ],
   "source": [
    "print(v[-5:])"
   ]
  },
  {
   "cell_type": "markdown",
   "metadata": {},
   "source": [
    "A Python le tudja kezelni, ha a szeletelés során túl nagy indexet adunk meg:"
   ]
  },
  {
   "cell_type": "code",
   "execution_count": 34,
   "metadata": {},
   "outputs": [
    {
     "name": "stdout",
     "output_type": "stream",
     "text": [
      ", szakkör\n"
     ]
    }
   ],
   "source": [
    "print(v[5:143])"
   ]
  },
  {
   "cell_type": "code",
   "execution_count": 35,
   "metadata": {},
   "outputs": [
    {
     "name": "stdout",
     "output_type": "stream",
     "text": [
      "\n"
     ]
    }
   ],
   "source": [
    "print(v[52:])  # az 52-edik indextől a string végéig írjuk ki (az eredmény egy üres string)"
   ]
  },
  {
   "cell_type": "markdown",
   "metadata": {},
   "source": [
    "Hogyan működik az indexelés? Pythonban minden index 0-val kezdődik és a string, lista, stb. hosszáig tart. \n",
    "\n",
    "Az alábbi példában a \"Hello\" string hossza 5 (idézőjelek nélkül), a string látható a táblázat első sorában. A közvetlenül alatta lévő sor a string elejétől mutatja, hogy melyik index melyik karakterre mutat. Az utolsó sor pedig ugyanez, csak a string végétől az elejéig mutatja az indexek értékét.\n",
    "\n",
    "| H  | e  | l  | l  | o  |\n",
    "|----|----|----|----|----|\n",
    "| 0  | 1  | 2  | 3  | 4  |\n",
    "| -5 | -4 | -3 | -2 | -1 |"
   ]
  },
  {
   "cell_type": "markdown",
   "metadata": {},
   "source": [
    "## Feladatok"
   ]
  },
  {
   "cell_type": "markdown",
   "metadata": {},
   "source": [
    "### **1. feladat**: Adott egy `count` változó, amiben azt tároljuk, hogy hányszor szeretnénk ismételni egy `word` nevű, string típusú változót. A `res` változóban tároljuk el a `count`-szor megismételt `word`-öt, majd írjuk is ki!"
   ]
  },
  {
   "cell_type": "code",
   "execution_count": 36,
   "metadata": {},
   "outputs": [
    {
     "name": "stdout",
     "output_type": "stream",
     "text": [
      "palacsintapalacsinta\n"
     ]
    }
   ],
   "source": [
    "count = 2\n",
    "word = \"palacsinta\"\n",
    "\n",
    "# megoldás:\n",
    "res = count * word\n",
    "print(res)"
   ]
  },
  {
   "cell_type": "markdown",
   "metadata": {},
   "source": [
    "### **2. feladat**: Írd ki az előző feladatban szereplő `word` változónak az első két karakterének és az utolsó három karakterének az összegét! (Eredményül tehát a `panta` string-et kell kapni.)"
   ]
  },
  {
   "cell_type": "code",
   "execution_count": 37,
   "metadata": {},
   "outputs": [
    {
     "name": "stdout",
     "output_type": "stream",
     "text": [
      "panta\n"
     ]
    }
   ],
   "source": [
    "word = \"palacsinta\"\n",
    "\n",
    "# megoldás:\n",
    "print(word[:2] + word[-3:])"
   ]
  },
  {
   "cell_type": "markdown",
   "metadata": {},
   "source": [
    "### ***3. feladat**: Cseréld le a `word`-ben kapott string-ben az első karakternek megegyező karaktereket `*`-ra! \n",
    "\n",
    "Például: a `hahaha` string eredményének a `ha*a*a` kell kapnunk. \n",
    "\n",
    "(Hint: a `word.replace(old, new)` metódus a `word` nevű string típusú változóban az `old` karaktert minden előfordulását kicseréli a `new` karakterre. Pl. `\"alma\".replace(a, '*')` az `*lm*` string-et eredményezi)"
   ]
  },
  {
   "cell_type": "code",
   "execution_count": 38,
   "metadata": {},
   "outputs": [
    {
     "name": "stdout",
     "output_type": "stream",
     "text": [
      "bu**le\n"
     ]
    }
   ],
   "source": [
    "word = \"bubble\"\n",
    "\n",
    "# megoldás:\n",
    "res = word[0] + word.replace(word[0], '*')[1:]\n",
    "print(res)"
   ]
  },
  {
   "cell_type": "markdown",
   "metadata": {},
   "source": [
    "### Műveletek string-ekkel"
   ]
  },
  {
   "cell_type": "markdown",
   "metadata": {},
   "source": [
    "Nézzünk meg néhány műveletet, amit a stringekkel lehet csinálni Pythonban! A vonatkozó dokumentáció [itt érhető el](https://docs.python.org/3/library/stdtypes.html#string-methods)."
   ]
  },
  {
   "cell_type": "markdown",
   "metadata": {},
   "source": [
    "Egy string első karakterét nagybetűssé tehetünk a `capitalize()` metódussal:"
   ]
  },
  {
   "cell_type": "code",
   "execution_count": 39,
   "metadata": {},
   "outputs": [
    {
     "name": "stdout",
     "output_type": "stream",
     "text": [
      "Hello\n"
     ]
    }
   ],
   "source": [
    "s = \"hello\"\n",
    "print(s.capitalize())"
   ]
  },
  {
   "cell_type": "markdown",
   "metadata": {},
   "source": [
    "Ellenőrizhetjük, hogy egy string azzal végződik-e, amivel szeretnénk, hogy végződjön. Erre az `endswith()` metódus használható. Ennek az eredménye egy logikai érték lesz (következő részben részletesen lesz róla szó):"
   ]
  },
  {
   "cell_type": "code",
   "execution_count": 40,
   "metadata": {},
   "outputs": [
    {
     "name": "stdout",
     "output_type": "stream",
     "text": [
      "True\n"
     ]
    }
   ],
   "source": [
    "s = \"Hello, szakkör\"\n",
    "print(s.endswith(\"szakkör\"))"
   ]
  },
  {
   "cell_type": "code",
   "execution_count": 41,
   "metadata": {},
   "outputs": [
    {
     "name": "stdout",
     "output_type": "stream",
     "text": [
      "False\n"
     ]
    }
   ],
   "source": [
    "print(s.endswith(\"!\"))"
   ]
  },
  {
   "cell_type": "markdown",
   "metadata": {},
   "source": [
    "Hasonlóan, a `startswith()` metódus a string elején ellenőrzi, hogy a paraméterül átadott string-el kezdődik-e:"
   ]
  },
  {
   "cell_type": "code",
   "execution_count": 42,
   "metadata": {},
   "outputs": [
    {
     "name": "stdout",
     "output_type": "stream",
     "text": [
      "True\n"
     ]
    }
   ],
   "source": [
    "print(s.startswith(\"Hello\"))"
   ]
  },
  {
   "cell_type": "code",
   "execution_count": 43,
   "metadata": {},
   "outputs": [
    {
     "name": "stdout",
     "output_type": "stream",
     "text": [
      "False\n"
     ]
    }
   ],
   "source": [
    "print(s.startswith(\"hello\"))  # nem kisbetűs Hello"
   ]
  },
  {
   "cell_type": "markdown",
   "metadata": {},
   "source": [
    "Egy string-ről az `isnumeric()` metódussal lehet ellenőrizni, hogy a string egy számot reprezentál-e:"
   ]
  },
  {
   "cell_type": "code",
   "execution_count": 44,
   "metadata": {},
   "outputs": [
    {
     "name": "stdout",
     "output_type": "stream",
     "text": [
      "True\n"
     ]
    }
   ],
   "source": [
    "n = \"137\"\n",
    "print(n.isnumeric())"
   ]
  },
  {
   "cell_type": "code",
   "execution_count": 45,
   "metadata": {},
   "outputs": [
    {
     "name": "stdout",
     "output_type": "stream",
     "text": [
      "False\n"
     ]
    }
   ],
   "source": [
    "nn = \"137 \"  # figyeld meg a szóközt a string végén!\n",
    "print(nn.isnumeric())"
   ]
  },
  {
   "cell_type": "markdown",
   "metadata": {},
   "source": [
    "Egy string-ről az `isalpha()` metódussal eldönthető, hogy csak betűket tartalmaz-e:"
   ]
  },
  {
   "cell_type": "code",
   "execution_count": 46,
   "metadata": {},
   "outputs": [
    {
     "name": "stdout",
     "output_type": "stream",
     "text": [
      "True\n"
     ]
    }
   ],
   "source": [
    "s = \"hello\"\n",
    "print(s.isalpha())"
   ]
  },
  {
   "cell_type": "code",
   "execution_count": 47,
   "metadata": {},
   "outputs": [
    {
     "name": "stdout",
     "output_type": "stream",
     "text": [
      "False\n"
     ]
    }
   ],
   "source": [
    "s = \"hello \"  # figyeld meg a szóközt a string végén!\n",
    "print(s.isalpha())"
   ]
  },
  {
   "cell_type": "code",
   "execution_count": 48,
   "metadata": {},
   "outputs": [
    {
     "name": "stdout",
     "output_type": "stream",
     "text": [
      "False\n"
     ]
    }
   ],
   "source": [
    "s = \"alma1\"\n",
    "print(s.isalpha())"
   ]
  },
  {
   "cell_type": "markdown",
   "metadata": {},
   "source": [
    "Egy string-ről eldönthető az `isupper()` metódussal, hogy csak nagy betűt tartalmaz:"
   ]
  },
  {
   "cell_type": "code",
   "execution_count": 49,
   "metadata": {},
   "outputs": [
    {
     "name": "stdout",
     "output_type": "stream",
     "text": [
      "True\n"
     ]
    }
   ],
   "source": [
    "b = \"BATMAN\"\n",
    "print(b.isupper())"
   ]
  },
  {
   "cell_type": "code",
   "execution_count": 50,
   "metadata": {},
   "outputs": [
    {
     "name": "stdout",
     "output_type": "stream",
     "text": [
      "True\n"
     ]
    }
   ],
   "source": [
    "b = \"BATMAN \"\n",
    "print(b.isupper())"
   ]
  },
  {
   "cell_type": "code",
   "execution_count": 51,
   "metadata": {},
   "outputs": [
    {
     "name": "stdout",
     "output_type": "stream",
     "text": [
      "False\n"
     ]
    }
   ],
   "source": [
    "b = \"BatMan\"\n",
    "print(b.isupper())"
   ]
  },
  {
   "cell_type": "code",
   "execution_count": 52,
   "metadata": {},
   "outputs": [
    {
     "name": "stdout",
     "output_type": "stream",
     "text": [
      "False\n"
     ]
    }
   ],
   "source": [
    "b = \" \"\n",
    "print(b.isupper())"
   ]
  },
  {
   "cell_type": "markdown",
   "metadata": {},
   "source": [
    "Hasonlóan, az `islower()` metódus megmondja, hogy csak kis betűt tartalmaz-e:"
   ]
  },
  {
   "cell_type": "code",
   "execution_count": 53,
   "metadata": {},
   "outputs": [
    {
     "name": "stdout",
     "output_type": "stream",
     "text": [
      "True\n"
     ]
    }
   ],
   "source": [
    "l = \"batman\"\n",
    "print(l.islower())"
   ]
  },
  {
   "cell_type": "code",
   "execution_count": 54,
   "metadata": {},
   "outputs": [
    {
     "name": "stdout",
     "output_type": "stream",
     "text": [
      "True\n"
     ]
    }
   ],
   "source": [
    "l = \"batman \"\n",
    "print(l.islower())"
   ]
  },
  {
   "cell_type": "code",
   "execution_count": 55,
   "metadata": {},
   "outputs": [
    {
     "name": "stdout",
     "output_type": "stream",
     "text": [
      "False\n"
     ]
    }
   ],
   "source": [
    "l = \"Batman\"\n",
    "print(l.islower())"
   ]
  },
  {
   "cell_type": "code",
   "execution_count": 56,
   "metadata": {},
   "outputs": [
    {
     "name": "stdout",
     "output_type": "stream",
     "text": [
      "False\n"
     ]
    }
   ],
   "source": [
    "l = \" \"\n",
    "print(l.islower())"
   ]
  },
  {
   "cell_type": "markdown",
   "metadata": {},
   "source": [
    "Egy string-et a `lower()` metódussal kisbetűssé lehet tenni:"
   ]
  },
  {
   "cell_type": "code",
   "execution_count": 57,
   "metadata": {},
   "outputs": [
    {
     "name": "stdout",
     "output_type": "stream",
     "text": [
      "batman!\n"
     ]
    }
   ],
   "source": [
    "s = \"BATMAN!\"\n",
    "print(s.lower())"
   ]
  },
  {
   "cell_type": "markdown",
   "metadata": {},
   "source": [
    "Az `upper()` metódussal pedig csak nagybetűket tartalmazó string-é lehet tenni az eredeti string-et:"
   ]
  },
  {
   "cell_type": "code",
   "execution_count": 58,
   "metadata": {},
   "outputs": [
    {
     "name": "stdout",
     "output_type": "stream",
     "text": [
      "BATMAN!\n"
     ]
    }
   ],
   "source": [
    "s = \"batman!\"\n",
    "print(s.upper())"
   ]
  },
  {
   "cell_type": "markdown",
   "metadata": {},
   "source": [
    "A string elején lévő karaktereket az `lstrip()`, a string végén lévő karaktereket az `rstrip()` metódussal, valamint az ezeknek átadott karaktereket lehet levágni. Ha nem adunk át paramétert, akkor a space karaktereket vágja le:"
   ]
  },
  {
   "cell_type": "code",
   "execution_count": 59,
   "metadata": {},
   "outputs": [
    {
     "name": "stdout",
     "output_type": "stream",
     "text": [
      "21 Hello                \n"
     ]
    }
   ],
   "source": [
    "s = \"      Hello                \"  # sok space van a string-ben!\n",
    "s = s.lstrip()\n",
    "print(len(s), s)  # az `s` string végén ott vannak a space-ek!"
   ]
  },
  {
   "cell_type": "code",
   "execution_count": 60,
   "metadata": {},
   "outputs": [
    {
     "name": "stdout",
     "output_type": "stream",
     "text": [
      "example.com\n"
     ]
    }
   ],
   "source": [
    "s = \"www.example.com\"\n",
    "print(s.lstrip(\".cmowa\"))"
   ]
  },
  {
   "cell_type": "code",
   "execution_count": 61,
   "metadata": {},
   "outputs": [
    {
     "name": "stdout",
     "output_type": "stream",
     "text": [
      "      Hello\n"
     ]
    }
   ],
   "source": [
    "s = \"      Hello                \"  # sok space van a string-ben!\n",
    "s = s.rstrip()\n",
    "print(s)  # az `s` string elején ott vannak a space-ek!"
   ]
  },
  {
   "cell_type": "code",
   "execution_count": 62,
   "metadata": {},
   "outputs": [
    {
     "name": "stdout",
     "output_type": "stream",
     "text": [
      "mississ\n"
     ]
    }
   ],
   "source": [
    "s = \"mississippi\"\n",
    "print(s.rstrip(\"piz\"))"
   ]
  },
  {
   "cell_type": "markdown",
   "metadata": {},
   "source": [
    "Egy string-et szét lehet választani az általunk megadott karakter alapján a `split()` metódussal. Ennek az eredménye egy string-eket tartalmazó lista lesz. Ha nem adjuk meg, milyen karakter szerint válasszuk szét a string-ek, akkor szóközök szerint választódik szét:"
   ]
  },
  {
   "cell_type": "code",
   "execution_count": 63,
   "metadata": {},
   "outputs": [
    {
     "name": "stdout",
     "output_type": "stream",
     "text": [
      "['Hello,', 'szakkör!', 'Ez', 'itt', 'a', 'Python']\n"
     ]
    }
   ],
   "source": [
    "s = \"Hello, szakkör! Ez itt a Python\"\n",
    "print(s.split())"
   ]
  },
  {
   "cell_type": "code",
   "execution_count": 64,
   "metadata": {},
   "outputs": [
    {
     "name": "stdout",
     "output_type": "stream",
     "text": [
      "['Hello', ' szakkör! Ez itt a Python']\n"
     ]
    }
   ],
   "source": [
    "print(s.split(','))"
   ]
  },
  {
   "cell_type": "code",
   "execution_count": 65,
   "metadata": {},
   "outputs": [
    {
     "name": "stdout",
     "output_type": "stream",
     "text": [
      "['Hello, ', '! Ez itt a Python']\n"
     ]
    }
   ],
   "source": [
    "print(s.split(\"szakkör\"))"
   ]
  },
  {
   "cell_type": "code",
   "execution_count": 66,
   "metadata": {},
   "outputs": [
    {
     "name": "stdout",
     "output_type": "stream",
     "text": [
      "['1', '2', '', '3', '4']\n"
     ]
    }
   ],
   "source": [
    "s2 = \"1,2,,3,4\"\n",
    "print(s2.split(\",\"))"
   ]
  },
  {
   "cell_type": "code",
   "execution_count": 67,
   "metadata": {},
   "outputs": [
    {
     "name": "stdout",
     "output_type": "stream",
     "text": [
      "['1', '2', '3']\n"
     ]
    }
   ],
   "source": [
    "s3 = \"    1    2 3     \"\n",
    "print(s3.split())"
   ]
  },
  {
   "cell_type": "markdown",
   "metadata": {},
   "source": [
    "A `split()` metódusnak még egy opcionális paramétere, amiben megmondhatjuk, hogy *legfeljebb* hányszor válasszuk szét a string-et. Ha ezt nem adjuk meg, vagy `-1`-et adunk neki, akkor annyi részre bontódik a string, amennyire lehet. Ha nem adunk meg karaktert, ami alapján szét akarjuk választani a string-et, akkor a szóközök szerint választja szét:"
   ]
  },
  {
   "cell_type": "code",
   "execution_count": 68,
   "metadata": {},
   "outputs": [
    {
     "name": "stdout",
     "output_type": "stream",
     "text": [
      "['Hello,', 'szakkör!', 'Ez itt a Python']\n"
     ]
    }
   ],
   "source": [
    "print(s.split(maxsplit=2))"
   ]
  },
  {
   "cell_type": "markdown",
   "metadata": {},
   "source": [
    "Az `lstrip()` és `rstrip()` metódusok mellett van egy `strip()` metódus, ami a string elején és végén vágja le a megadott karakterek kombinációit. Ha nem adunk át semmit, akkor alapértelmezetten a szóközöket vágja le:"
   ]
  },
  {
   "cell_type": "code",
   "execution_count": 69,
   "metadata": {},
   "outputs": [
    {
     "name": "stdout",
     "output_type": "stream",
     "text": [
      "Hello,   szakkör!\n"
     ]
    }
   ],
   "source": [
    "s = \"    Hello,   szakkör!      \"\n",
    "print(s.strip())"
   ]
  },
  {
   "cell_type": "code",
   "execution_count": 70,
   "metadata": {},
   "outputs": [
    {
     "name": "stdout",
     "output_type": "stream",
     "text": [
      "example\n"
     ]
    }
   ],
   "source": [
    "s = \"www.example.com\"\n",
    "print(s.strip(\".cmwo\"))"
   ]
  }
 ],
 "metadata": {
  "kernelspec": {
   "display_name": "Python 3",
   "language": "python",
   "name": "python3"
  },
  "language_info": {
   "codemirror_mode": {
    "name": "ipython",
    "version": 3
   },
   "file_extension": ".py",
   "mimetype": "text/x-python",
   "name": "python",
   "nbconvert_exporter": "python",
   "pygments_lexer": "ipython3",
   "version": "3.8.5"
  }
 },
 "nbformat": 4,
 "nbformat_minor": 4
}
