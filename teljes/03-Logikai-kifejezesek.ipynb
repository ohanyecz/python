{
 "cells": [
  {
   "cell_type": "markdown",
   "metadata": {},
   "source": [
    "# Logikai kifejezések"
   ]
  },
  {
   "cell_type": "markdown",
   "metadata": {},
   "source": [
    "Különböző feltételek vizsgálata fontos, hogy a program további működésének az irányát meghatározzuk. A másodfokú egyenlet megoldóképkete ilyen. Attól függően, hogy a diszkrimináns pozitív vagy negatív, léteznek, illetve nem léteznek valós gyökök. Azaz itt van egy feltételünk, és a továbbhaladás irányát ez alapján kell meghatározni. Ez a feltétel lehet `True` vagy `False`. "
   ]
  },
  {
   "cell_type": "code",
   "execution_count": 1,
   "metadata": {},
   "outputs": [
    {
     "data": {
      "text/plain": [
       "True"
      ]
     },
     "execution_count": 1,
     "metadata": {},
     "output_type": "execute_result"
    }
   ],
   "source": [
    "True"
   ]
  },
  {
   "cell_type": "code",
   "execution_count": 2,
   "metadata": {},
   "outputs": [
    {
     "data": {
      "text/plain": [
       "bool"
      ]
     },
     "execution_count": 2,
     "metadata": {},
     "output_type": "execute_result"
    }
   ],
   "source": [
    "b = True\n",
    "type(b)"
   ]
  },
  {
   "cell_type": "markdown",
   "metadata": {},
   "source": [
    "A `True` vagy `False` értéket egy `bool` típusú változóban tárolhatjuk. Tehát az `int` és `float` mellett van egy új típusunk."
   ]
  },
  {
   "cell_type": "markdown",
   "metadata": {},
   "source": [
    "## Logikai operátorok"
   ]
  },
  {
   "cell_type": "markdown",
   "metadata": {},
   "source": [
    "Logikai kifejezéseket a *logikai és*, a *logikai vagy* és a *negáció* (más néven: nem) operátorokkal tudunk leírni. Van más operátor is, például az *implikáció*, azaz a következés operátora (ha-akkor), de ezek mind kifejezhetők az *és*, *vagy* és *negáció* segítségével. Az operátorok működését szokás igazságtáblázattal leírni, ami megmondja, hogy a bemeneti állítások (A és B) igazságértékétől függően mi lesz a logikai kifejezés értéke. Ez mindig vagy igaz (`True`) vagy hamis (`False`) lehet. Ez logika legegyszerűbb ága, a nulladrendű logika (*propositional logic*). A Python ezt használja.\n",
    "\n",
    "A *logikai és* művelet két bemenetet vár, egy A és B állítást. Az *és* akkor fog igaz (`True`) értékkel visszatérni, ha az A és a B állítás is igaz, minden más esetben hamis (`False`) lesz az eredmény. Jelölése: $A \\wedge B$. Igazságtáblával így írható fel:\n",
    "\n",
    "| A     | B     | A és B |\n",
    "|-------|-------|--------|\n",
    "| igaz  | igaz  | igaz   |\n",
    "| igaz  | hamis | hamis  |\n",
    "| hamis | igaz  | hamis  |\n",
    "| hamis | hamis | hamis  |\n",
    "\n",
    "\n",
    "A *logikai vagy* művelet is két bemenetet vár. A művelet eredménye akkor lesz igaz (`True`), ha legalább az egyik bemenet értéke igaz. Minden más esetben hamis (`False`) lesz az eredmény. Jelölése: $A \\vee B$. Igazságtáblával így írható fel:\n",
    "\n",
    "| A     | B     | A vagy B |\n",
    "|-------|-------|----------|\n",
    "| igaz  | igaz  | igaz     |\n",
    "| igaz  | hamis | igaz     |\n",
    "| hamis | igaz  | igaz     |\n",
    "| hamis | hamis | hamis    |\n",
    "\n",
    "\n",
    "A *negáció* művelete a bemenet értékét tagadja, tehát csak egy paramétert vár. Ha a bemenet igaz (`True`), akkor a kimenet hamis (`False`). Ha a bemenet hamis (`False`), akkor a kimenet igaz (`True`). Jelölése: $\\neg A$. Igazságtáblával így írható fel:\n",
    "\n",
    "| A      | nem A  |\n",
    "|--------|--------|\n",
    "| igaz   | hamis  |\n",
    "| hamis  | igaz   |\n",
    "\n",
    "\n",
    "A teljesség kedvéért az *implikáció* műveletének eredménye akkor lesz hamis, ha az első paraméter igaz, de a második hamis. Szemléletesen ez azt jelenti, hogy igaz állításból nem következhet hamis állítás. Viszont minden más esetben igaz lesz, hiszen hamis állításból bármi következik, valamint igaz állításból igaz állítás gond nélkül következhet. A Python az implikáció műveletét nem használja. Az implikációt szokás a $A \\supset B$ vagy $A \\to B$ jellel jelölni és kifejezhető a fentiek segítségével: $\\neg A \\vee B$. Igazságtáblázata a következő:\n",
    "\n",
    "| A     | B     | A $\\supset$ B | $\\neg A \\vee B$            |\n",
    "|-------|-------|---------------|----------------------------|\n",
    "| igaz  | igaz  | igaz          | hamis $\\vee$ igaz = igaz   |\n",
    "| igaz  | hamis | hamis         | hamis $\\vee$ hamis = hamis |\n",
    "| hamis | igaz  | igaz          | igaz $\\vee$ igaz = igaz    |\n",
    "| hamis | hamis | igaz          | igaz $\\vee$ hamis = igaz   |"
   ]
  },
  {
   "cell_type": "markdown",
   "metadata": {},
   "source": [
    "A Python három logikai operátort tartalmaz: `and`, `or`, `not`, és a fentiekkel megegyező módon működik:"
   ]
  },
  {
   "cell_type": "code",
   "execution_count": 3,
   "metadata": {},
   "outputs": [
    {
     "data": {
      "text/plain": [
       "False"
      ]
     },
     "execution_count": 3,
     "metadata": {},
     "output_type": "execute_result"
    }
   ],
   "source": [
    "True and False"
   ]
  },
  {
   "cell_type": "code",
   "execution_count": 4,
   "metadata": {},
   "outputs": [
    {
     "data": {
      "text/plain": [
       "True"
      ]
     },
     "execution_count": 4,
     "metadata": {},
     "output_type": "execute_result"
    }
   ],
   "source": [
    "False or True"
   ]
  },
  {
   "cell_type": "code",
   "execution_count": 5,
   "metadata": {},
   "outputs": [
    {
     "data": {
      "text/plain": [
       "True"
      ]
     },
     "execution_count": 5,
     "metadata": {},
     "output_type": "execute_result"
    }
   ],
   "source": [
    "not False"
   ]
  },
  {
   "cell_type": "markdown",
   "metadata": {},
   "source": [
    "Az `and` és `or` operátorok úgynevezett rövidzár (*short-circuit*) operátorok: az argumentumaik balról jobbra értékelődnek ki és a kiértékelés akkor áll le, amikor a kimenet már egyértelműen meghatározható. Az `and` esetén ha az első paraméter `False`, akkor az eredmény is `False` lesz, nem kell a második paraméterrel foglalkozni. Ha az első viszont `True`, akkor a második paraméter eredménye lesz az `and` eredménye (lásd igazságtáblázat). Az `or` esetén ha az első paraméter `True`, akkor az eredmény `True`, ha `False`, akkor a második paraméter eredménye lesz az `or` eredménye (lásd igazságtáblázat)."
   ]
  },
  {
   "cell_type": "markdown",
   "metadata": {},
   "source": [
    "Az operátorok precedenciája az erősebbtől a gyengébbig:\n",
    "\n",
    "* `not`\n",
    "* `and`\n",
    "* `or`"
   ]
  },
  {
   "cell_type": "markdown",
   "metadata": {},
   "source": [
    "Zárójelekkel megváltoztathatjuk a kiértékelés sorrendjét. Ekkor egy bonyolultabb kifejezés eredménye is megváltozhat:"
   ]
  },
  {
   "cell_type": "code",
   "execution_count": 6,
   "metadata": {},
   "outputs": [
    {
     "data": {
      "text/plain": [
       "True"
      ]
     },
     "execution_count": 6,
     "metadata": {},
     "output_type": "execute_result"
    }
   ],
   "source": [
    "True and True or True and False"
   ]
  },
  {
   "cell_type": "code",
   "execution_count": 7,
   "metadata": {},
   "outputs": [
    {
     "data": {
      "text/plain": [
       "False"
      ]
     },
     "execution_count": 7,
     "metadata": {},
     "output_type": "execute_result"
    }
   ],
   "source": [
    "(True and True or True) and False"
   ]
  },
  {
   "cell_type": "markdown",
   "metadata": {},
   "source": [
    "Természetesen egy `True` vagy `False` értéket változókba is eltehetünk, hogy később felhasználjuk:"
   ]
  },
  {
   "cell_type": "code",
   "execution_count": 8,
   "metadata": {},
   "outputs": [
    {
     "name": "stdout",
     "output_type": "stream",
     "text": [
      "True\n"
     ]
    }
   ],
   "source": [
    "b = True\n",
    "print(False or b)"
   ]
  },
  {
   "cell_type": "markdown",
   "metadata": {},
   "source": [
    "A Python tartalmaz egy beépített `bool()` függvényt. Ennek a meghívásával a `False` értéket kapjuk alapértelmezetten:"
   ]
  },
  {
   "cell_type": "code",
   "execution_count": 9,
   "metadata": {},
   "outputs": [
    {
     "name": "stdout",
     "output_type": "stream",
     "text": [
      "False\n"
     ]
    }
   ],
   "source": [
    "x = bool()\n",
    "print(x)"
   ]
  },
  {
   "cell_type": "markdown",
   "metadata": {},
   "source": [
    "A `bool()` függvénnyel tetszőleges kifejezés igazságértékét lehet ellenőrizni. Pythonban az alábbi dolgok *mindig* `False` értéket adnak vissza:"
   ]
  },
  {
   "cell_type": "code",
   "execution_count": 10,
   "metadata": {},
   "outputs": [
    {
     "name": "stdout",
     "output_type": "stream",
     "text": [
      "False\n"
     ]
    }
   ],
   "source": [
    "x = False\n",
    "print(x)"
   ]
  },
  {
   "cell_type": "code",
   "execution_count": 11,
   "metadata": {},
   "outputs": [
    {
     "name": "stdout",
     "output_type": "stream",
     "text": [
      "False\n"
     ]
    }
   ],
   "source": [
    "x = bool()\n",
    "print(x)"
   ]
  },
  {
   "cell_type": "code",
   "execution_count": 12,
   "metadata": {},
   "outputs": [
    {
     "name": "stdout",
     "output_type": "stream",
     "text": [
      "False\n"
     ]
    }
   ],
   "source": [
    "x = bool('')\n",
    "print(x)"
   ]
  },
  {
   "cell_type": "code",
   "execution_count": 13,
   "metadata": {},
   "outputs": [
    {
     "name": "stdout",
     "output_type": "stream",
     "text": [
      "False\n"
     ]
    }
   ],
   "source": [
    "x = bool(0)\n",
    "print(x)"
   ]
  },
  {
   "cell_type": "code",
   "execution_count": 14,
   "metadata": {},
   "outputs": [
    {
     "name": "stdout",
     "output_type": "stream",
     "text": [
      "False\n"
     ]
    }
   ],
   "source": [
    "x = bool([])  # üres lista\n",
    "print(x)"
   ]
  },
  {
   "cell_type": "code",
   "execution_count": 15,
   "metadata": {},
   "outputs": [
    {
     "name": "stdout",
     "output_type": "stream",
     "text": [
      "False\n"
     ]
    }
   ],
   "source": [
    "x = bool({})  # üres könyvtár vagy halmaz\n",
    "print(x)"
   ]
  },
  {
   "cell_type": "markdown",
   "metadata": {},
   "source": [
    "A `None` a Pythonban egy speciális típus, az azt fejezi ki, hogy \"itt nincs semmi\". (A C típusú nyelvek ezt üres referenciának hívják). Ez is `False` igazságértékű:"
   ]
  },
  {
   "cell_type": "code",
   "execution_count": 16,
   "metadata": {},
   "outputs": [
    {
     "name": "stdout",
     "output_type": "stream",
     "text": [
      "False\n"
     ]
    }
   ],
   "source": [
    "x = bool(None)\n",
    "print(x)"
   ]
  },
  {
   "cell_type": "markdown",
   "metadata": {},
   "source": [
    "Tehát az üres string, a 0 szám, a `None`, az üres lista, az üres könyvtár (és a legtöbb üres adatstruktúra) mind `False` értékű lesz."
   ]
  },
  {
   "cell_type": "markdown",
   "metadata": {},
   "source": [
    "A nem nulla számok, egy tetszőleges nem üres string, egy nem üres adatstruktúra viszont *mindig* `True` értékű lesz:"
   ]
  },
  {
   "cell_type": "code",
   "execution_count": 17,
   "metadata": {},
   "outputs": [
    {
     "name": "stdout",
     "output_type": "stream",
     "text": [
      "True\n"
     ]
    }
   ],
   "source": [
    "x = bool(1)\n",
    "print(x)"
   ]
  },
  {
   "cell_type": "code",
   "execution_count": 18,
   "metadata": {},
   "outputs": [
    {
     "name": "stdout",
     "output_type": "stream",
     "text": [
      "True\n"
     ]
    }
   ],
   "source": [
    "x = bool(\"BATMAN\")\n",
    "print(x)"
   ]
  },
  {
   "cell_type": "code",
   "execution_count": 19,
   "metadata": {},
   "outputs": [
    {
     "name": "stdout",
     "output_type": "stream",
     "text": [
      "True\n"
     ]
    }
   ],
   "source": [
    "x = bool([1, 2, 3])\n",
    "print(x)"
   ]
  },
  {
   "cell_type": "markdown",
   "metadata": {},
   "source": [
    "Mi lesz a visszatérési értéke a következő logikai kifejezéseknek?"
   ]
  },
  {
   "cell_type": "code",
   "execution_count": 20,
   "metadata": {},
   "outputs": [
    {
     "name": "stdout",
     "output_type": "stream",
     "text": [
      "a\n"
     ]
    }
   ],
   "source": [
    "x = 'a' or 'b'\n",
    "print(x)"
   ]
  },
  {
   "cell_type": "code",
   "execution_count": 21,
   "metadata": {},
   "outputs": [
    {
     "name": "stdout",
     "output_type": "stream",
     "text": [
      "b\n"
     ]
    }
   ],
   "source": [
    "x = 'a' and 'b'\n",
    "print(x)"
   ]
  },
  {
   "cell_type": "code",
   "execution_count": 22,
   "metadata": {},
   "outputs": [
    {
     "name": "stdout",
     "output_type": "stream",
     "text": [
      "False\n"
     ]
    }
   ],
   "source": [
    "x = not 'a'\n",
    "print(x)"
   ]
  },
  {
   "cell_type": "markdown",
   "metadata": {},
   "source": [
    "Ahelyett, hogy a logikai `True` vagy `False` értékkel térne vissza az `and` és `or`, annak a paraméternek az értékével térnek vissza, aminél eldönthető volt a kifejezés értéke. A `not` esetén a paraméter logikai értékét tagadja, azaz a visszatérési érték mindig egy `bool` típus lesz."
   ]
  },
  {
   "cell_type": "markdown",
   "metadata": {},
   "source": [
    "## Összehasonlítások"
   ]
  },
  {
   "cell_type": "markdown",
   "metadata": {},
   "source": [
    "Pythonban lehetőség van különböző dolgok összehasonlítására. Ezt leggyakrabban számok között végezzük el, de más dolgok között is definiálható az összehasonlítás. Az összehasonlításra a `<`, `<=`, `>`, `>=`, `==`, `!=` operátorok használhatóak:"
   ]
  },
  {
   "cell_type": "code",
   "execution_count": 23,
   "metadata": {},
   "outputs": [
    {
     "data": {
      "text/plain": [
       "True"
      ]
     },
     "execution_count": 23,
     "metadata": {},
     "output_type": "execute_result"
    }
   ],
   "source": [
    "1 < 2  # 1 kisebb mint 2"
   ]
  },
  {
   "cell_type": "code",
   "execution_count": 24,
   "metadata": {},
   "outputs": [
    {
     "data": {
      "text/plain": [
       "True"
      ]
     },
     "execution_count": 24,
     "metadata": {},
     "output_type": "execute_result"
    }
   ],
   "source": [
    "1 <= 1  # 1 kisebb vagy egyenlő mint 1"
   ]
  },
  {
   "cell_type": "code",
   "execution_count": 25,
   "metadata": {},
   "outputs": [
    {
     "data": {
      "text/plain": [
       "True"
      ]
     },
     "execution_count": 25,
     "metadata": {},
     "output_type": "execute_result"
    }
   ],
   "source": [
    "1 > 0  # 1 nagyobb mint 0"
   ]
  },
  {
   "cell_type": "code",
   "execution_count": 26,
   "metadata": {},
   "outputs": [
    {
     "data": {
      "text/plain": [
       "True"
      ]
     },
     "execution_count": 26,
     "metadata": {},
     "output_type": "execute_result"
    }
   ],
   "source": [
    "1 >= 1  # 1 nagyobb vagy egyenlő mint 1"
   ]
  },
  {
   "cell_type": "code",
   "execution_count": 27,
   "metadata": {},
   "outputs": [
    {
     "data": {
      "text/plain": [
       "False"
      ]
     },
     "execution_count": 27,
     "metadata": {},
     "output_type": "execute_result"
    }
   ],
   "source": [
    "1 == 2  # 1 egyenlő-e 2-vel"
   ]
  },
  {
   "cell_type": "code",
   "execution_count": 28,
   "metadata": {},
   "outputs": [
    {
     "data": {
      "text/plain": [
       "False"
      ]
     },
     "execution_count": 28,
     "metadata": {},
     "output_type": "execute_result"
    }
   ],
   "source": [
    "1 != 1  # 1 nem egyenlő-e 1-el"
   ]
  },
  {
   "cell_type": "code",
   "execution_count": 29,
   "metadata": {},
   "outputs": [
    {
     "data": {
      "text/plain": [
       "True"
      ]
     },
     "execution_count": 29,
     "metadata": {},
     "output_type": "execute_result"
    }
   ],
   "source": [
    "1 != 2  # 1 nem egyenlő-e 2-vel"
   ]
  },
  {
   "cell_type": "markdown",
   "metadata": {},
   "source": [
    "Összehasonlító operátorok precedenciája az erősebbtől a gyengébbig:\n",
    "\n",
    "* `in`, `not in`, `is`, `is not`, `<`, `<=`, `>`, `>=`, `!=`, `==`\n",
    "\n",
    "Nem elírás, tényleg ugyanolyan precedenciájúak a műveletek.\n",
    "\n",
    "A logikai operátorokkal kiegészítve a precedencia:\n",
    "\n",
    "* `in`, `not in`, `is`, `is not`, `<`, `<=`, `>`, `>=`, `!=`, `==`\n",
    "* `not`\n",
    "* `and`\n",
    "* `or`\n",
    "\n",
    "Az `in` és a `not in` operátorok azt tesztelik, hogy a paraméterül átadott elem benne van-e egy adatstruktúrában, az `is` és az `is not` operátorok két objektum azonosságát vizsgálják. Ezekről később lesz szó."
   ]
  },
  {
   "cell_type": "markdown",
   "metadata": {},
   "source": [
    "Az összehasonlító operátorok egymás után láncolhatók:"
   ]
  },
  {
   "cell_type": "code",
   "execution_count": 30,
   "metadata": {},
   "outputs": [
    {
     "data": {
      "text/plain": [
       "True"
      ]
     },
     "execution_count": 30,
     "metadata": {},
     "output_type": "execute_result"
    }
   ],
   "source": [
    "1 < 2 <= 3"
   ]
  },
  {
   "cell_type": "markdown",
   "metadata": {},
   "source": [
    "A fenti kifejezés ugyanazt jelenti, mint ez:"
   ]
  },
  {
   "cell_type": "code",
   "execution_count": 31,
   "metadata": {},
   "outputs": [
    {
     "data": {
      "text/plain": [
       "True"
      ]
     },
     "execution_count": 31,
     "metadata": {},
     "output_type": "execute_result"
    }
   ],
   "source": [
    "1 < 2 and 2 <= 3"
   ]
  },
  {
   "cell_type": "markdown",
   "metadata": {},
   "source": [
    "A fő különbség, hogy az első verzió hatékonyabban fut le, de nagyon hosszú kifejezésnél ronthatja az olvashatóságot és a megértést. Az összehasonlító operátorok tetszőlegesen hosszú kifejezéssé tehetők."
   ]
  },
  {
   "cell_type": "markdown",
   "metadata": {},
   "source": [
    "## Feladatok"
   ]
  },
  {
   "cell_type": "markdown",
   "metadata": {},
   "source": [
    "### **1. feladat**: Milyen logikai értékre értékelődnek ki a következő kifejezések?"
   ]
  },
  {
   "cell_type": "code",
   "execution_count": 32,
   "metadata": {},
   "outputs": [],
   "source": [
    "a = True\n",
    "b = False\n",
    "c = False\n",
    "d = True\n",
    "\n",
    "all0 = not not not not not not a\n",
    "all1 = not a or (b and (c or not a))\n",
    "all2 = a and (not (not c or not d or b)) and d\n",
    "all3 = d or a and not not b or c and c\n",
    "\n",
    "# megoldás:\n",
    "# True False False True"
   ]
  },
  {
   "cell_type": "markdown",
   "metadata": {},
   "source": [
    "### **2. feladat**: A következő kifejezésekben hagyjunk el annyi zárójelet, amennyit lehet, hogy ugyanazt az eredményt kapjuk!"
   ]
  },
  {
   "cell_type": "markdown",
   "metadata": {},
   "source": [
    "Tipp: használd a precedenciák sorrendjét a zárójelek elhagyásához! A legkülső zárójel mindig elhagyható."
   ]
  },
  {
   "cell_type": "code",
   "execution_count": 33,
   "metadata": {},
   "outputs": [],
   "source": [
    "a = True\n",
    "b = False\n",
    "c = True\n",
    "\n",
    "all1 = ((not a)) or b  # False\n",
    "all2 = ((a or b) and ((not (not a)) or (not b)))  # True\n",
    "all3 = ((not ((not a) or not b)) or ((not c) and (not b)))  # False\n",
    "\n",
    "# megoldás: \n",
    "all1 = not a or b\n",
    "all2 = (a or b) and (not not a or not b)\n",
    "all3 = not (not a or not b) or not c and not b"
   ]
  },
  {
   "cell_type": "markdown",
   "metadata": {},
   "source": [
    "### ***3. feladat**: Rajzoljuk fel az előző feladatban szereplő állítások igazságtábláját és ellenőrizzük az `a`, `b` és `c` változók állításával, hogy jól hagytuk-e el a zárójeleket!"
   ]
  },
  {
   "cell_type": "markdown",
   "metadata": {},
   "source": [
    "### **4. feladat**: Néha előfordul, hogy szeretnénk egy változó értékétől függően alapértelmezett értéket adni egy másik változónak. Például: ha egy `a` változóban tárolt érték nulla, akkor a `b` változó értéke legyen 137, minden más esetben tartsuk meg az `a` értékét a `b`-ben. Hogyan tudnánk ezt logikai operátorokkal megcsinálni? Írjuk ki a `b` értékét és módosítsuk az `a` változó értékét, hogy ellenőrizzük a működését!"
   ]
  },
  {
   "cell_type": "code",
   "execution_count": 34,
   "metadata": {},
   "outputs": [],
   "source": [
    "a = 0\n",
    "\n",
    "# megoldás:\n",
    "b = a or 137"
   ]
  },
  {
   "cell_type": "markdown",
   "metadata": {},
   "source": [
    "### **4. feladat**: Adott két, egész számot tartalmazó változó, `a` és `b`. Adjuk meg azt a kifejezést, ami eldönti, hogy a `b / a > 0`! Kezelje le a kifejezés azt az esetet, amikor a nevező 0!"
   ]
  },
  {
   "cell_type": "code",
   "execution_count": 35,
   "metadata": {},
   "outputs": [
    {
     "name": "stdout",
     "output_type": "stream",
     "text": [
      "False\n"
     ]
    }
   ],
   "source": [
    "a = 0\n",
    "b = 2\n",
    "\n",
    "# megoldás:\n",
    "print(a != 0 and b / a > 0)"
   ]
  }
 ],
 "metadata": {
  "kernelspec": {
   "display_name": "Python 3",
   "language": "python",
   "name": "python3"
  },
  "language_info": {
   "codemirror_mode": {
    "name": "ipython",
    "version": 3
   },
   "file_extension": ".py",
   "mimetype": "text/x-python",
   "name": "python",
   "nbconvert_exporter": "python",
   "pygments_lexer": "ipython3",
   "version": "3.8.5"
  }
 },
 "nbformat": 4,
 "nbformat_minor": 4
}
