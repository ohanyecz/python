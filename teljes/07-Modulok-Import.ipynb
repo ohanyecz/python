{
 "cells": [
  {
   "cell_type": "markdown",
   "metadata": {},
   "source": [
    "# Modulok, `import`"
   ]
  },
  {
   "cell_type": "markdown",
   "metadata": {},
   "source": [
    "Gyakran előfordul, hogy egy függvényt szeretnénk azután is felhasználni, hogy kikapcsoltuk a számítógépet, minden egyes alkalommal újra meg kéne írni a függvényeket. Ezért ésszerű lenne egy olyan rendszer létrehozása, ami valamilyen módon megtartja a függvényeinket, hogy később újra fel tudjuk használni ezeket. \n",
    "\n",
    "Amikor hosszabb programot írunk, akkor egy *szkriptet* írunk. Ez azt jelenti, hogy egy szövegszerkesztőben (nem Word, nem Jegyzettömb) megírjuk a futtatni kívánt programot, majd ezt a *fájlt* futtatjuk le. Amikor egy program már tényleg nagy lesz, ésszerűnek tűnik az egyes összefüggő részeket külön fájlokba szerkeszteni, és ezeket *importálni* abba a skriptbe, ahol használni szeretnénk.\n",
    "\n",
    "Amikor függvényeket és változókat fájlokba szerkesztünk, akkor *modularizáljuk* a programot, azaz jól elkülöníthető részekre bontjuk a programunkat. Egy ilyen modult általában a *főmodulba* importálunk, aminek a futtatásával megkapjuk a szkriptünk eredményét. Egy ilyen modul a `.py` fájlkiterjesztést kapja. \n",
    "\n",
    "Összefoglalva:\n",
    "- a modul függvényeket és változókat tartalmazó fájl\n",
    "- amikor használni akarunk egy modult, importáljuk\n",
    "- a programot, amit futtatunk, főmodulnak (angolul simán *main*) hívjuk\n",
    "- minden modul a `.py` kiterjesztést kapja"
   ]
  },
  {
   "cell_type": "markdown",
   "metadata": {},
   "source": [
    "Egy modult a fájl neve alapján importálunk be, ahol a kiterjesztéseket elhagyjuk. Ha például egy modul neve `awesome.py`, akkor azt az `import awesome` módon tudjuk beimportálni. Az `import` utasításokat mindig a modulok elejére írjuk.\n",
    "\n",
    "Hogyan tudunk használni egy beimportált függvényt? Amikor beimportálunk egy modult, akkor az abban definiált függvények és változók bekerülnek a Python szimbólumtáblájába (ahonnan tudni fogja, hogy mit kell meghívni), és ezeket a pont (`.`) operátor segítségével tudjuk elérni. Ha az `awesome` modulban van egy `print_hello()` függvény, akkor azt az `awesome.print_hello()` módon tudjuk elérni."
   ]
  },
  {
   "cell_type": "markdown",
   "metadata": {},
   "source": [
    "### **Közös feladat**: Készítsünk és használjunk egy modult!\n",
    "\n",
    "- Készítsünk egy modult, ami a függvényeknél megírt Fibonacci-sorozatokat számoló függvényeket tartalmazza! A modul neve legyen `fibonacci.py`!\n",
    "- Importáljuk be a `main.py` modulba!\n",
    "- Hívjuk meg az egyik függvényt a főmodulban!"
   ]
  },
  {
   "cell_type": "markdown",
   "metadata": {},
   "source": [
    "Mi van akkor, ha két különböző modulban ugyanolyan nevű függvények vannak? Minden modulnak van egy saját szimbólumtáblája, ami a modulban definiált változókat és függvényeket tartalmazza, így ez nem fordulhat elő. Később látni fogjuk, hogy van az importálásnak olyan fajtája, ami nem veszi ezt figyelembe, így okozhat gondot."
   ]
  },
  {
   "cell_type": "markdown",
   "metadata": {},
   "source": [
    "## Különböző `import` módok"
   ]
  },
  {
   "cell_type": "markdown",
   "metadata": {},
   "source": [
    "Az `import` lehetővé teszi, hogy konkrét függvényt importáljunk a modulba és ne kelljen a `.` operátort használni. Ehhez a `from` kulcsszót használhatjuk. Ennek a formája a következő: `from modulnév import függvények`. Az `import` kulcsszó után vesszővel elválasztva egyszerre több függvényt is írhatunk. Ilyenkor a függvényekhez tartozó zárójeleket nem írjuk ki."
   ]
  },
  {
   "cell_type": "code",
   "execution_count": 1,
   "metadata": {},
   "outputs": [],
   "source": [
    "from fibonacci import fib, print_hello"
   ]
  },
  {
   "cell_type": "markdown",
   "metadata": {},
   "source": [
    "Ha beimportáltuk a függvényeket, ugyanúgy tudjuk használni, mint eddig:"
   ]
  },
  {
   "cell_type": "code",
   "execution_count": 2,
   "metadata": {},
   "outputs": [
    {
     "name": "stdout",
     "output_type": "stream",
     "text": [
      "[0, 1, 1, 2, 3, 5, 8, 13, 21, 34]\n"
     ]
    }
   ],
   "source": [
    "print(fib(10))"
   ]
  },
  {
   "cell_type": "markdown",
   "metadata": {},
   "source": [
    "Ennek a hátránya, hogy ilyenkor csak azok a függvények importálódnak be, amiket kiírtunk az `import` során, különben a Python szólni fog, hogy olyan függvényt akarunk használni, amit nem definiáltunk:"
   ]
  },
  {
   "cell_type": "code",
   "execution_count": 3,
   "metadata": {},
   "outputs": [
    {
     "ename": "NameError",
     "evalue": "name 'fibonacci' is not defined",
     "output_type": "error",
     "traceback": [
      "\u001b[0;31m---------------------------------------------------------------------------\u001b[0m",
      "\u001b[0;31mNameError\u001b[0m                                 Traceback (most recent call last)",
      "\u001b[0;32m<ipython-input-3-2676a90d33ed>\u001b[0m in \u001b[0;36m<module>\u001b[0;34m\u001b[0m\n\u001b[0;32m----> 1\u001b[0;31m \u001b[0mfibonacci\u001b[0m\u001b[0;34m.\u001b[0m\u001b[0mfibonacci\u001b[0m\u001b[0;34m(\u001b[0m\u001b[0;36m10\u001b[0m\u001b[0;34m)\u001b[0m\u001b[0;34m\u001b[0m\u001b[0;34m\u001b[0m\u001b[0m\n\u001b[0m",
      "\u001b[0;31mNameError\u001b[0m: name 'fibonacci' is not defined"
     ]
    }
   ],
   "source": [
    "fibonacci.fibonacci(10)"
   ]
  },
  {
   "cell_type": "markdown",
   "metadata": {},
   "source": [
    "Lehetőség van az összes függvény és változó beimportálására úgy, hogy nem kell a `.` segítségével meghívni. Ezt a `*` segítségével tehetjük meg. Ha egy függvény alulvonással (`_`) kezdődik, azokat így nem lehet beimportálni."
   ]
  },
  {
   "cell_type": "code",
   "execution_count": 4,
   "metadata": {},
   "outputs": [],
   "source": [
    "from fibonacci import *"
   ]
  },
  {
   "cell_type": "markdown",
   "metadata": {},
   "source": [
    "Vigyázzunk, mert ha másik modulban van egy ugyanolyan nevű függvény, akkor csak az egyik lesz elérhető (hogy melyik, az az importálás sorrendjétől függ). Ezért ezt ne használjuk (és rossz programozói viselkedés is, ha mégis)."
   ]
  },
  {
   "cell_type": "markdown",
   "metadata": {},
   "source": [
    "Ha egy importálandó modul neve hosszú, akkor az `as` kulcsszóval adhatunk neki másik nevet. Innentől az új néven tudunk hivatkozni a modulra, a függvények nevei, ahogy eddig, nem változnak:"
   ]
  },
  {
   "cell_type": "code",
   "execution_count": 5,
   "metadata": {},
   "outputs": [
    {
     "name": "stdout",
     "output_type": "stream",
     "text": [
      "[0, 1, 1, 2, 3, 5, 8, 13, 21, 34]\n"
     ]
    }
   ],
   "source": [
    "import fibonacci as fib\n",
    "\n",
    "s = fib.fib(10)\n",
    "print(s)"
   ]
  },
  {
   "cell_type": "markdown",
   "metadata": {},
   "source": [
    "Végül lehetőség van a fentiek kombinálására (a `*`-ot itt se használjuk!):"
   ]
  },
  {
   "cell_type": "code",
   "execution_count": 6,
   "metadata": {},
   "outputs": [
    {
     "name": "stdout",
     "output_type": "stream",
     "text": [
      "Hello, szakkör!\n"
     ]
    }
   ],
   "source": [
    "from fibonacci import print_hello as hello\n",
    "\n",
    "hello()"
   ]
  }
 ],
 "metadata": {
  "kernelspec": {
   "display_name": "Python 3",
   "language": "python",
   "name": "python3"
  },
  "language_info": {
   "codemirror_mode": {
    "name": "ipython",
    "version": 3
   },
   "file_extension": ".py",
   "mimetype": "text/x-python",
   "name": "python",
   "nbconvert_exporter": "python",
   "pygments_lexer": "ipython3",
   "version": "3.8.5"
  }
 },
 "nbformat": 4,
 "nbformat_minor": 4
}
