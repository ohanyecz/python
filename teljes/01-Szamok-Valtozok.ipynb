{
 "cells": [
  {
   "cell_type": "markdown",
   "metadata": {},
   "source": [
    "# Számok, változók, string-ek"
   ]
  },
  {
   "cell_type": "markdown",
   "metadata": {},
   "source": [
    "## Egész és tört számok"
   ]
  },
  {
   "cell_type": "markdown",
   "metadata": {},
   "source": [
    "Számokkal végezhető műveletek: `+`, `-`, `*`, `/`, `//`, `**`, `%`"
   ]
  },
  {
   "cell_type": "code",
   "execution_count": 1,
   "metadata": {},
   "outputs": [
    {
     "data": {
      "text/plain": [
       "3"
      ]
     },
     "execution_count": 1,
     "metadata": {},
     "output_type": "execute_result"
    }
   ],
   "source": [
    "1 + 2  # összeadás"
   ]
  },
  {
   "cell_type": "code",
   "execution_count": 2,
   "metadata": {},
   "outputs": [
    {
     "data": {
      "text/plain": [
       "-5"
      ]
     },
     "execution_count": 2,
     "metadata": {},
     "output_type": "execute_result"
    }
   ],
   "source": [
    "5 - 10  # kivonás"
   ]
  },
  {
   "cell_type": "code",
   "execution_count": 3,
   "metadata": {},
   "outputs": [
    {
     "data": {
      "text/plain": [
       "10"
      ]
     },
     "execution_count": 3,
     "metadata": {},
     "output_type": "execute_result"
    }
   ],
   "source": [
    "5 * 2  # szorzás"
   ]
  },
  {
   "cell_type": "code",
   "execution_count": 4,
   "metadata": {},
   "outputs": [
    {
     "data": {
      "text/plain": [
       "5.0"
      ]
     },
     "execution_count": 4,
     "metadata": {},
     "output_type": "execute_result"
    }
   ],
   "source": [
    "10 / 2  # osztás"
   ]
  },
  {
   "cell_type": "code",
   "execution_count": 5,
   "metadata": {},
   "outputs": [
    {
     "data": {
      "text/plain": [
       "4"
      ]
     },
     "execution_count": 5,
     "metadata": {},
     "output_type": "execute_result"
    }
   ],
   "source": [
    "9 // 2  # egész osztás"
   ]
  },
  {
   "cell_type": "code",
   "execution_count": 6,
   "metadata": {},
   "outputs": [
    {
     "data": {
      "text/plain": [
       "47.0900838250635"
      ]
     },
     "execution_count": 6,
     "metadata": {},
     "output_type": "execute_result"
    }
   ],
   "source": [
    "2.4 ** 4.4  # hatványozás"
   ]
  },
  {
   "cell_type": "code",
   "execution_count": 7,
   "metadata": {},
   "outputs": [
    {
     "data": {
      "text/plain": [
       "1"
      ]
     },
     "execution_count": 7,
     "metadata": {},
     "output_type": "execute_result"
    }
   ],
   "source": [
    "11 % 2  # maradékos osztás"
   ]
  },
  {
   "cell_type": "markdown",
   "metadata": {},
   "source": [
    "A számok típusa a beépített `type()` függvénnyel kérhető le:"
   ]
  },
  {
   "cell_type": "code",
   "execution_count": 8,
   "metadata": {},
   "outputs": [
    {
     "data": {
      "text/plain": [
       "int"
      ]
     },
     "execution_count": 8,
     "metadata": {},
     "output_type": "execute_result"
    }
   ],
   "source": [
    "type(1)  "
   ]
  },
  {
   "cell_type": "code",
   "execution_count": 9,
   "metadata": {},
   "outputs": [
    {
     "data": {
      "text/plain": [
       "float"
      ]
     },
     "execution_count": 9,
     "metadata": {},
     "output_type": "execute_result"
    }
   ],
   "source": [
    "type(1.0)"
   ]
  },
  {
   "cell_type": "markdown",
   "metadata": {},
   "source": [
    "Az operátorok precedenciája megmondja, hogy melyik műveletet végzi el a Python előbb. Az erősebb predecendiájú művelet mindig elsőbbséget élvez, ezután következnek a gyengébb precedenciájú műveletek. \n",
    "\n",
    "Pythonban a számokon értelmezett műveletek precedenciája az erősebbtől a gyengébbig:\n",
    "* `**`\n",
    "* `*`, `/`, `//`, `%`\n",
    "* `+`, `-`\n",
    "\n",
    "Az ugyanolyan precedenciájú műveletek abban a sorrendben hajtódnak végre, ahogy leírtuk. \n",
    "\n",
    "Az alábbi kifejezésben a hatványozás (`**`) előbb fog elvégződni, mint a szorzás (`*`), majd ezt követi az összeadás (`+`):"
   ]
  },
  {
   "cell_type": "code",
   "execution_count": 10,
   "metadata": {},
   "outputs": [
    {
     "data": {
      "text/plain": [
       "637"
      ]
     },
     "execution_count": 10,
     "metadata": {},
     "output_type": "execute_result"
    }
   ],
   "source": [
    "137 + 5 * 10 ** 2"
   ]
  },
  {
   "cell_type": "markdown",
   "metadata": {},
   "source": [
    "Zárójelekkel a műveletek végzési sorrendje módosítható:"
   ]
  },
  {
   "cell_type": "code",
   "execution_count": 11,
   "metadata": {},
   "outputs": [
    {
     "data": {
      "text/plain": [
       "2016400"
      ]
     },
     "execution_count": 11,
     "metadata": {},
     "output_type": "execute_result"
    }
   ],
   "source": [
    "((137 + 5) * 10) ** 2"
   ]
  },
  {
   "cell_type": "markdown",
   "metadata": {},
   "source": [
    "Néhány megjegyzés:\n",
    "\n",
    "* akármilyen kicsi és nagy számok leírhatók (C típusú nyelvekben nem)\n",
    "* akármilyen pontos tört számot írhatunk, de kiíráskor kerekítődik az értéke ([a dokumentációban](https://docs.python.org/3/tutorial/floatingpoint.html) részletesen le van írva, hogyan működik a `float` ábrázolása Pythonban)\n",
    "* ha a műveleteknél bármelyik paraméter `float` típusú szám, akkor az eredmény is `float` típusú lesz\n",
    "* az osztás (`/`) művelet mindig `float` típusú számod ad eredményül"
   ]
  },
  {
   "cell_type": "markdown",
   "metadata": {},
   "source": [
    "## Változók"
   ]
  },
  {
   "cell_type": "markdown",
   "metadata": {},
   "source": [
    "Érvényes változónevek:\n",
    "\n",
    "* Csak betűket (kis- és nagybetűk), számokat és alulvonást (_)tartalmazhat\n",
    "* Nem kezdődhet számmal\n",
    "* Nem tartalmazhat csak számokat\n",
    "* De alulvonással kezdődhet\n",
    "\n",
    "Érvényes változónevek: `a`, `_a`, `a1`, `eggs3`, `_123`\n",
    "\n",
    "Hibás változónevek: `1a`, `1`, `123_` és a *kulcsszavak*"
   ]
  },
  {
   "cell_type": "markdown",
   "metadata": {},
   "source": [
    "A változók definiálásuk után felhasználhatók:"
   ]
  },
  {
   "cell_type": "code",
   "execution_count": 12,
   "metadata": {},
   "outputs": [
    {
     "name": "stdout",
     "output_type": "stream",
     "text": [
      "1.58122475863836e-05\n"
     ]
    }
   ],
   "source": [
    "speed_of_light = 299792.458  # fénysebesség, km/s\n",
    "au = 149597870  # csillagászati egység, km\n",
    "seconds_in_year = 60 * 60 * 24 * 365.256  # másodpercek száma egy évben\n",
    "light_year = speed_of_light * seconds_in_year  # fényév\n",
    "\n",
    "print(au / light_year)  # hány fényév egy csillagászati egység"
   ]
  },
  {
   "cell_type": "markdown",
   "metadata": {},
   "source": [
    "Ismeretlen változó használata hibát ad:"
   ]
  },
  {
   "cell_type": "code",
   "execution_count": 13,
   "metadata": {},
   "outputs": [
    {
     "ename": "NameError",
     "evalue": "name 'b' is not defined",
     "output_type": "error",
     "traceback": [
      "\u001b[0;31m---------------------------------------------------------------------------\u001b[0m",
      "\u001b[0;31mNameError\u001b[0m                                 Traceback (most recent call last)",
      "\u001b[0;32m<ipython-input-13-89e6c98d9288>\u001b[0m in \u001b[0;36m<module>\u001b[0;34m\u001b[0m\n\u001b[0;32m----> 1\u001b[0;31m \u001b[0mb\u001b[0m\u001b[0;34m\u001b[0m\u001b[0;34m\u001b[0m\u001b[0m\n\u001b[0m",
      "\u001b[0;31mNameError\u001b[0m: name 'b' is not defined"
     ]
    }
   ],
   "source": [
    "b"
   ]
  },
  {
   "cell_type": "markdown",
   "metadata": {},
   "source": [
    "A `NameError` lesz a hiba, és a hibaüzenetben megmondja, hogy a `b` változó nincs definiálva. A hibák kezelésével később foglalkozunk."
   ]
  },
  {
   "cell_type": "markdown",
   "metadata": {},
   "source": [
    "Ugyanazt az értéket egyszerre több változóhoz is rendelhetjük:"
   ]
  },
  {
   "cell_type": "code",
   "execution_count": 14,
   "metadata": {},
   "outputs": [
    {
     "name": "stdout",
     "output_type": "stream",
     "text": [
      "0 0 0\n"
     ]
    }
   ],
   "source": [
    "a = b = c = 0\n",
    "print(a, b, c)"
   ]
  },
  {
   "cell_type": "markdown",
   "metadata": {},
   "source": [
    "Különböző értékek adása több változóhoz:"
   ]
  },
  {
   "cell_type": "code",
   "execution_count": 15,
   "metadata": {},
   "outputs": [
    {
     "name": "stdout",
     "output_type": "stream",
     "text": [
      "1 2 3\n"
     ]
    }
   ],
   "source": [
    "x, y, z = 1, 2, 3\n",
    "print(x, y, z)"
   ]
  },
  {
   "cell_type": "markdown",
   "metadata": {},
   "source": [
    "Változók értékeinek felcserélése a C típusú nyelvekben egy ideiglenes változó bevezetésével lehetséges:"
   ]
  },
  {
   "cell_type": "code",
   "execution_count": 16,
   "metadata": {},
   "outputs": [
    {
     "name": "stdout",
     "output_type": "stream",
     "text": [
      "20 13\n"
     ]
    }
   ],
   "source": [
    "# fel akarjuk cserélni az `a` és `b` változók értékét\n",
    "a, b = 13, 20\n",
    "\n",
    "temp = a\n",
    "a = b\n",
    "b = temp\n",
    "\n",
    "print(a, b)"
   ]
  },
  {
   "cell_type": "markdown",
   "metadata": {},
   "source": [
    "Pythonban a változók felcserélése egy darab értékadással megtörténhet:"
   ]
  },
  {
   "cell_type": "code",
   "execution_count": 17,
   "metadata": {},
   "outputs": [
    {
     "name": "stdout",
     "output_type": "stream",
     "text": [
      "20 13\n"
     ]
    }
   ],
   "source": [
    "a, b = 13, 20\n",
    "\n",
    "a, b = b, a  # itt történik a változók értékeinek felcserélése\n",
    "print(a, b)"
   ]
  },
  {
   "cell_type": "markdown",
   "metadata": {},
   "source": [
    "Mi történik itt?\n",
    "\n",
    "* Amikor értéket adunk egy változónak, az értékadás jobb oldala mindig előbb fog kiértékelődni Pythonban, mint a bal oldal. Tehát az `a, b = b, a` értékadásnál a `b, a` mint egy rendezett pár létrejön a számítógép memóriájában. \n",
    "* A bal oldalon két változónév található, a Python a háttérben kibontja a memóriában lévő `b, a` rendezett párt.\n",
    "* Ezután a bal oldalon lévő `a` változónak megfelelteti a pár első elemét, amit korábban `b`-nek hívtunk.\n",
    "* Ezután a bal oldalon lévő `b` változónak megfelelteti a pár második elemét, amit korábban `a`-nak hívtunk.\n",
    "\n",
    "A folyamat eredménye az lesz, hogy az `a` és a `b` változó értéke felcserélődött."
   ]
  }
 ],
 "metadata": {
  "kernelspec": {
   "display_name": "Python 3",
   "language": "python",
   "name": "python3"
  },
  "language_info": {
   "codemirror_mode": {
    "name": "ipython",
    "version": 3
   },
   "file_extension": ".py",
   "mimetype": "text/x-python",
   "name": "python",
   "nbconvert_exporter": "python",
   "pygments_lexer": "ipython3",
   "version": "3.8.5"
  },
  "toc-showcode": false
 },
 "nbformat": 4,
 "nbformat_minor": 4
}
