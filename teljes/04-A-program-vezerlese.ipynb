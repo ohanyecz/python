{
 "cells": [
  {
   "cell_type": "markdown",
   "metadata": {},
   "source": [
    "# A program futásának vezérlése"
   ]
  },
  {
   "cell_type": "markdown",
   "metadata": {},
   "source": [
    "Az összetett utasítások több utasítást tartalmaznak, ezzel befolyásolhatják a program futását. Az `if`, `while` és `for` utasítások valamilyen elágazást, illetve egy utasítássorozat ismétlését (*iterálását*) teszik lehetővé.\n",
    "\n",
    "Minden ilyen utasítás több részből tevődik össze. Mindig egy speciális kulcsszóval kezdődik és kettősponttal végződik. A kettő közötti részben egy vagy több logikai állítást fogalmazunk meg, aminek a teljesülése esetén fusson le a kettőspont utáni rész."
   ]
  },
  {
   "cell_type": "markdown",
   "metadata": {},
   "source": [
    "Az `if`, `while` és `for` mellett sok más összetett utasítás is létezik: `try`, `with`, `def`, `class`. Ezekkel később foglalkozunk."
   ]
  },
  {
   "cell_type": "markdown",
   "metadata": {},
   "source": [
    "## A Python egy strukturált nyelv"
   ]
  },
  {
   "cell_type": "markdown",
   "metadata": {},
   "source": [
    "A C típusú programozási nyelvekben az egybefüggő kódrészeket kapcsos zárójelekkel különítik el:\n",
    "```C++\n",
    "if (i == 10) {\n",
    "    std::cout << i << std::endl;\n",
    "}\n",
    "```\n",
    "Ekkor nem számít, hogy mennyi szóközzel beljebb kezdjük a sort, mert a kapcsos zárójel jelöli ki azt a részt, ami az elágazásba tartozik.\n",
    "\n",
    "A Python nem ezt használja: az egybefüggő kódrészeket négy szóközzel kell beljebb vinni (*indentálni*). Ezt bizonyos környezetek (mint a Jupyter és a jobb fejlesztői környezetek) megcsinálják, ha a kettőspont után ENTER-t nyomunk. A TAB használata kerülendő."
   ]
  },
  {
   "cell_type": "markdown",
   "metadata": {},
   "source": [
    "## Elágazás"
   ]
  },
  {
   "cell_type": "markdown",
   "metadata": {},
   "source": [
    "Az `if` utasítás segítségével meghatározhatjuk, hogy bizonyos körülmények teljesülése esetén a programunk a megfelelő utasításokat hajtsa végre. Ha a feltétel igaz, végrehajtjuk az `if` blokkon belüli kódot:"
   ]
  },
  {
   "cell_type": "code",
   "execution_count": 1,
   "metadata": {},
   "outputs": [
    {
     "name": "stdout",
     "output_type": "stream",
     "text": [
      "The meaning of life!\n"
     ]
    }
   ],
   "source": [
    "x = 42\n",
    "if x == 42:\n",
    "    print(\"The meaning of life!\")"
   ]
  },
  {
   "cell_type": "markdown",
   "metadata": {},
   "source": [
    "Az `if`-ek egymásba ágyazhatók (figyeljünk az indentálásra!):"
   ]
  },
  {
   "cell_type": "code",
   "execution_count": 2,
   "metadata": {},
   "outputs": [
    {
     "name": "stdout",
     "output_type": "stream",
     "text": [
      "Tanuljunk Python-t!\n"
     ]
    }
   ],
   "source": [
    "day = \"Csütörtök\"\n",
    "time = 18\n",
    "\n",
    "if day == \"Csütörtök\":\n",
    "    if time == 18:\n",
    "        print(\"Tanuljunk Python-t!\")"
   ]
  },
  {
   "cell_type": "markdown",
   "metadata": {},
   "source": [
    "A feltételbe tetszőlegesen hosszú állítások írhatók, amiket a logikai operátorokkal köthetünk össze. A fenti kód ez alapján egyszerűbben leírható:"
   ]
  },
  {
   "cell_type": "code",
   "execution_count": 3,
   "metadata": {},
   "outputs": [
    {
     "name": "stdout",
     "output_type": "stream",
     "text": [
      "Tanuljunk Python-t!\n"
     ]
    }
   ],
   "source": [
    "day = \"Csütörtök\"\n",
    "time = 18\n",
    "\n",
    "if day == \"Csütörtök\" and time == 18:\n",
    "    print(\"Tanuljunk Python-t!\")"
   ]
  },
  {
   "cell_type": "markdown",
   "metadata": {},
   "source": [
    "Látható, hogy az egymásba ágyazott `if` utasítások egyszerűsíthetők, ha az `and` kulcsszóval összekötjük a logikai feltételüket."
   ]
  },
  {
   "cell_type": "markdown",
   "metadata": {},
   "source": [
    "Bonyolultabb elágazások is leírhatók az `elif` kulcsszó segítségével. Az `elif` az `else if` rövidítése, ami egy alternatív ágat jelöl. Ha az `if` feltétele nem teljesül, és van `elif` ág, akkor ennek a feltétele is ellenőrzésre kerül:"
   ]
  },
  {
   "cell_type": "code",
   "execution_count": 4,
   "metadata": {},
   "outputs": [
    {
     "name": "stdout",
     "output_type": "stream",
     "text": [
      "Azért pihenjünk is! :)\n"
     ]
    }
   ],
   "source": [
    "day = \"Péntek\"\n",
    "time = 18\n",
    "\n",
    "if day == \"Csütörtök\" and time == 18:\n",
    "    print(\"Tanuljunk Python-t!\")\n",
    "elif day == \"Péntek\":\n",
    "    print(\"Azért pihenjünk is! :)\")"
   ]
  },
  {
   "cell_type": "markdown",
   "metadata": {},
   "source": [
    "Az `elif` ágakból tetszőlegesen sok lehet. De melyik ág fog lefutni? A Python egyesével értékeli ki a feltételeket az `if`-től addig, amíg nem talál egy feltételt, ami igaz lesz. Majd annak a feltételnek a kódjait lefuttatja és kilép az elágazás szerkezetéből, azaz nem nézi meg, hogy van-e más feltétel ami igaz lenne. "
   ]
  },
  {
   "cell_type": "markdown",
   "metadata": {},
   "source": [
    "Az elágazások végére írhatunk egy olyan részt az `else` kulcsszóval, ami akkor fut le, ha az előtte lévő feltételek *mindegyike* hamis volt. Ebből legfeljebb egy szerepelhet egy elágazási szerkezetben:"
   ]
  },
  {
   "cell_type": "code",
   "execution_count": 5,
   "metadata": {},
   "outputs": [
    {
     "name": "stdout",
     "output_type": "stream",
     "text": [
      "Hétvége! :))\n"
     ]
    }
   ],
   "source": [
    "day = \"Szombat\"\n",
    "\n",
    "if day == \"Hétfő\":\n",
    "    print(\"Hétfő!\")\n",
    "elif day == \"Kedd\":\n",
    "    print(\"Kedd\")\n",
    "elif day == \"Szerda\":\n",
    "    print(\"Szerda\")\n",
    "elif day == \"Csütörtök\":\n",
    "    print(\"Szakkör!\")\n",
    "elif day == \"Péntek\":\n",
    "    print(\"Péntek :)\")\n",
    "else:\n",
    "    print(\"Hétvége! :))\")"
   ]
  },
  {
   "cell_type": "markdown",
   "metadata": {},
   "source": [
    "## Ciklusok"
   ]
  },
  {
   "cell_type": "markdown",
   "metadata": {},
   "source": [
    "Pythonban két fajta ciklus létezik: `for` és `while`. Ezekkel egy adott utasítássorozatot lehet megismételni."
   ]
  },
  {
   "cell_type": "markdown",
   "metadata": {},
   "source": [
    "### A `for` ciklus"
   ]
  },
  {
   "cell_type": "markdown",
   "metadata": {},
   "source": [
    "A `for` ciklus alapvetően különbözik a más nyelvekben megszokott `for` ciklustól. C++-ban például egy `for` ciklussal a számok egy listáján haladunk végig:\n",
    "```C++\n",
    "for (int i = 0; i < 10; ++i) {\n",
    "    std::cout << i << std::endl;\n",
    "}\n",
    "```"
   ]
  },
  {
   "cell_type": "markdown",
   "metadata": {},
   "source": [
    "Pythonban a `for` ciklus egy sorozat (pl: `list`, `range`, `set`) *elemein* megy végig, ezt az `in` kulcsszó segítségével fejezzük ki:"
   ]
  },
  {
   "cell_type": "code",
   "execution_count": 6,
   "metadata": {},
   "outputs": [
    {
     "name": "stdout",
     "output_type": "stream",
     "text": [
      "cica\n",
      "kutya\n",
      "elefánt\n",
      "zsiráf\n"
     ]
    }
   ],
   "source": [
    "animals = [\"cica\", \"kutya\", \"elefánt\", \"zsiráf\"]\n",
    "\n",
    "for animal in animals:\n",
    "    print(animal)"
   ]
  },
  {
   "cell_type": "markdown",
   "metadata": {},
   "source": [
    "Ciklusváltozónak bármilyen (érvényes) nevet adhatunk:"
   ]
  },
  {
   "cell_type": "code",
   "execution_count": 7,
   "metadata": {},
   "outputs": [
    {
     "name": "stdout",
     "output_type": "stream",
     "text": [
      "cica\n",
      "kutya\n",
      "elefánt\n",
      "zsiráf\n"
     ]
    }
   ],
   "source": [
    "for i in animals:\n",
    "    print(i)"
   ]
  },
  {
   "cell_type": "markdown",
   "metadata": {},
   "source": [
    "Természetesen több utasítást is lehet egy ciklusba írni:"
   ]
  },
  {
   "cell_type": "code",
   "execution_count": 8,
   "metadata": {},
   "outputs": [
    {
     "name": "stdout",
     "output_type": "stream",
     "text": [
      "Meow!\n",
      "woof\n",
      "Nem ismert hang\n",
      "Nem ismert hang\n"
     ]
    }
   ],
   "source": [
    "for i in animals:\n",
    "    if i == \"cica\":\n",
    "        print(\"Meow!\")\n",
    "    elif i == \"kutya\":\n",
    "        print(\"woof\")\n",
    "    else:\n",
    "        print(\"Nem ismert hang\")"
   ]
  },
  {
   "cell_type": "markdown",
   "metadata": {},
   "source": [
    "Ha `for` ciklussal szeretnénk adott számú műveletet elvégezni, akkor a beépített `range()` függvény használandó. Ha egy paramétert adunk meg, akkor 0-tól a megadott számig készíti el az egész számokat, de megadott szám már nem lesz benne:"
   ]
  },
  {
   "cell_type": "code",
   "execution_count": 9,
   "metadata": {},
   "outputs": [
    {
     "name": "stdout",
     "output_type": "stream",
     "text": [
      "[0, 1, 2, 3, 4, 5, 6, 7, 8, 9]\n"
     ]
    }
   ],
   "source": [
    "s = list(range(10))  # listává konvertáljuk\n",
    "print(s)"
   ]
  },
  {
   "cell_type": "markdown",
   "metadata": {},
   "source": [
    "Ha két paramétert adunk meg, akkor az első szám a kezdőszám, a második szám a vége lesz a számoknak:"
   ]
  },
  {
   "cell_type": "code",
   "execution_count": 10,
   "metadata": {},
   "outputs": [
    {
     "name": "stdout",
     "output_type": "stream",
     "text": [
      "[1, 2, 3, 4, 5, 6, 7, 8, 9, 10]\n"
     ]
    }
   ],
   "source": [
    "s = list(range(1, 11))\n",
    "print(s)"
   ]
  },
  {
   "cell_type": "markdown",
   "metadata": {},
   "source": [
    "Emellett van egy opcionális paraméter, amivel megadhatjuk, hogy minden hanyadik számot szeretnénk előállítani. Ez a harmadik paramétere lesz a `range()` függvénynek:"
   ]
  },
  {
   "cell_type": "code",
   "execution_count": 11,
   "metadata": {},
   "outputs": [
    {
     "name": "stdout",
     "output_type": "stream",
     "text": [
      "[0, 3, 6, 9, 12, 15, 18]\n"
     ]
    }
   ],
   "source": [
    "s = list(range(0, 20, 3))\n",
    "print(s)"
   ]
  },
  {
   "cell_type": "markdown",
   "metadata": {},
   "source": [
    "### A `while` ciklus"
   ]
  },
  {
   "cell_type": "markdown",
   "metadata": {},
   "source": [
    "A `while` kulcsszóval megadott ciklus addig fut, amíg a megadott feltétel teljesül:"
   ]
  },
  {
   "cell_type": "code",
   "execution_count": 12,
   "metadata": {},
   "outputs": [
    {
     "name": "stdout",
     "output_type": "stream",
     "text": [
      "0\n",
      "1\n",
      "2\n",
      "3\n",
      "4\n",
      "5\n",
      "6\n",
      "7\n",
      "8\n",
      "9\n",
      "10\n"
     ]
    }
   ],
   "source": [
    "a = 0\n",
    "while a <= 10:\n",
    "    print(a)\n",
    "    a = a + 1  # a += 1"
   ]
  },
  {
   "cell_type": "markdown",
   "metadata": {},
   "source": [
    "**Vigyázat**: ha nem változtatjuk a ciklusváltozó értékét vagy rosszul adjuk meg a ciklusfeltételt, végtelen ciklust (örökké futó) kaphatunk!"
   ]
  },
  {
   "cell_type": "code",
   "execution_count": 13,
   "metadata": {},
   "outputs": [],
   "source": [
    "# a = 0\n",
    "# while a < 10:  # nem növeljük a ciklusváltozó értékét\n",
    "#     print(a)"
   ]
  },
  {
   "cell_type": "code",
   "execution_count": 14,
   "metadata": {},
   "outputs": [],
   "source": [
    "# a = 0\n",
    "# while a >= 0:  # rossz a ciklusfeltétel\n",
    "#     print(a)\n",
    "#     a += 1"
   ]
  },
  {
   "cell_type": "markdown",
   "metadata": {},
   "source": [
    "Írjuk meg a Fibonacci-sorozat első `n` darab elemét kiíró ciklust! A Fibonacci-sorozat első két eleme 0 és 1, majd a következő elemet mindig az előző kettő összegéből kapjuk: 0,1,1,2,3,5,8,13,21,34,55,89..."
   ]
  },
  {
   "cell_type": "code",
   "execution_count": 15,
   "metadata": {},
   "outputs": [
    {
     "name": "stdout",
     "output_type": "stream",
     "text": [
      "0\n",
      "1\n",
      "1\n",
      "2\n",
      "3\n",
      "5\n",
      "8\n",
      "13\n",
      "21\n",
      "34\n"
     ]
    }
   ],
   "source": [
    "n = 10\n",
    "a, b = 0, 1\n",
    "\n",
    "# megoldás:\n",
    "while n > 0:\n",
    "    print(a)\n",
    "    a, b = b, a + b\n",
    "    n -= 1"
   ]
  },
  {
   "cell_type": "markdown",
   "metadata": {},
   "source": [
    "## Változók elérése az elágazáson és cikluson belül"
   ]
  },
  {
   "cell_type": "markdown",
   "metadata": {},
   "source": [
    "Az összetett utasításon belül a blokkon kívül, de még a blokk előtt definiált változók elérhetők:"
   ]
  },
  {
   "cell_type": "code",
   "execution_count": 16,
   "metadata": {},
   "outputs": [
    {
     "name": "stdout",
     "output_type": "stream",
     "text": [
      "137\n"
     ]
    }
   ],
   "source": [
    "a = 137\n",
    "day = \"Csütörtök\"\n",
    "\n",
    "if day == \"Csütörtök\":\n",
    "    print(a)"
   ]
  },
  {
   "cell_type": "code",
   "execution_count": 17,
   "metadata": {},
   "outputs": [
    {
     "name": "stdout",
     "output_type": "stream",
     "text": [
      "137\n",
      "137\n",
      "137\n",
      "137\n",
      "137\n",
      "137\n",
      "137\n",
      "137\n",
      "137\n",
      "137\n"
     ]
    }
   ],
   "source": [
    "a = 137\n",
    "\n",
    "for i in range(10):\n",
    "    print(a)"
   ]
  },
  {
   "cell_type": "markdown",
   "metadata": {},
   "source": [
    "A blokkon belül definiált változó a blokk után érhető el:"
   ]
  },
  {
   "cell_type": "code",
   "execution_count": 18,
   "metadata": {},
   "outputs": [
    {
     "name": "stdout",
     "output_type": "stream",
     "text": [
      "Tenuljunk Python-t!\n",
      "137\n"
     ]
    }
   ],
   "source": [
    "day = \"Csütörtök\"\n",
    "\n",
    "if day == \"Csütörtök\":\n",
    "    print(\"Tenuljunk Python-t!\")\n",
    "    x = 137\n",
    "\n",
    "print(x)"
   ]
  },
  {
   "cell_type": "code",
   "execution_count": 19,
   "metadata": {},
   "outputs": [
    {
     "name": "stdout",
     "output_type": "stream",
     "text": [
      "cica\n",
      "kutya\n",
      "elefánt\n",
      "zsiráf\n",
      "42\n"
     ]
    }
   ],
   "source": [
    "for i in animals:\n",
    "    print(i)\n",
    "    y = 42\n",
    "    \n",
    "print(y)"
   ]
  },
  {
   "cell_type": "markdown",
   "metadata": {},
   "source": [
    "**Vigyázat**: ez szintén különbözik más nyelvektől, ahol a blokkon belül definiált változók általában nem érhetők el a blokk után."
   ]
  },
  {
   "cell_type": "markdown",
   "metadata": {},
   "source": [
    "## A ciklus futásának megszakítása"
   ]
  },
  {
   "cell_type": "markdown",
   "metadata": {},
   "source": [
    "A ciklus futását két féle módon lehet megszakítani: a `break` és a `continue` utasítással. Mind a két utasítás csak a `for` vagy `while` utasításon belül lehet (különben hibát kapunk)."
   ]
  },
  {
   "cell_type": "code",
   "execution_count": 20,
   "metadata": {},
   "outputs": [
    {
     "name": "stdout",
     "output_type": "stream",
     "text": [
      "4\n",
      "3\n",
      "2\n",
      "1\n",
      "0\n",
      "Loop is  finished\n",
      "Value of n:  0\n"
     ]
    }
   ],
   "source": [
    "# Ezt a ciklust fogjuk módosítani\n",
    "\n",
    "n = 5\n",
    "while n > 0:\n",
    "    n = n - 1\n",
    "    print(n)\n",
    "print(\"Loop is  finished\")\n",
    "print(\"Value of n: \", n)"
   ]
  },
  {
   "cell_type": "markdown",
   "metadata": {},
   "source": [
    "A ciklusból kilépni a `break` utasítással lehet:"
   ]
  },
  {
   "cell_type": "code",
   "execution_count": 21,
   "metadata": {},
   "outputs": [
    {
     "name": "stdout",
     "output_type": "stream",
     "text": [
      "4\n",
      "3\n",
      "Loop is  finished\n",
      "Value of n:  2\n"
     ]
    }
   ],
   "source": [
    "n = 5\n",
    "while n > 0:\n",
    "    n = n - 1\n",
    "    if n == 2:\n",
    "        break\n",
    "    print(n)\n",
    "print(\"Loop is  finished\")\n",
    "print(\"Value of n: \", n)"
   ]
  },
  {
   "cell_type": "markdown",
   "metadata": {},
   "source": [
    "Ha a  `break` utasítás hatására kilépünk a ciklusból, a ciklusváltozó értéke a kilépéskor megmarad, ahogy a fenti példa mutatja."
   ]
  },
  {
   "cell_type": "markdown",
   "metadata": {},
   "source": [
    "Egy iterációt átugrani a `continue` utasítással lehet:"
   ]
  },
  {
   "cell_type": "code",
   "execution_count": 22,
   "metadata": {},
   "outputs": [
    {
     "name": "stdout",
     "output_type": "stream",
     "text": [
      "4\n",
      "3\n",
      "1\n",
      "0\n",
      "Loop is  finished\n",
      "Value of n:  0\n"
     ]
    }
   ],
   "source": [
    "n = 5\n",
    "while n > 0:\n",
    "    n = n - 1\n",
    "    if n == 2:\n",
    "        continue\n",
    "    print(n)\n",
    "print(\"Loop is  finished\")\n",
    "print(\"Value of n: \", n)"
   ]
  },
  {
   "cell_type": "markdown",
   "metadata": {},
   "source": [
    "**Vigyázat**: csak arra a ciklusra vannak hatással, amelyikben leírtuk:"
   ]
  },
  {
   "cell_type": "code",
   "execution_count": 23,
   "metadata": {},
   "outputs": [
    {
     "name": "stdout",
     "output_type": "stream",
     "text": [
      "\tBelső ciklus:  4\n",
      "\tBelső ciklus:  3\n",
      "Külső ciklus:  4\n",
      "\tBelső ciklus:  1\n",
      "\tBelső ciklus:  0\n",
      "Külső ciklus:  3\n",
      "Külső ciklus:  2\n",
      "Külső ciklus:  1\n",
      "Külső ciklus:  0\n",
      "Loop is  finished\n",
      "Value of n:  0\n"
     ]
    }
   ],
   "source": [
    "n = 5\n",
    "m = 5\n",
    "\n",
    "while n > 0:\n",
    "    n = n - 1\n",
    "    while m > 0:\n",
    "        m = m - 1\n",
    "        if m == 2:\n",
    "            break\n",
    "        print(\"\\tBelső ciklus: \", m)\n",
    "    print(\"Külső ciklus: \", n)\n",
    "print(\"Loop is  finished\")\n",
    "print(\"Value of n: \", n)"
   ]
  },
  {
   "cell_type": "markdown",
   "metadata": {},
   "source": [
    "## Feladatok"
   ]
  },
  {
   "cell_type": "markdown",
   "metadata": {},
   "source": [
    "### **1. feladat**: Az `ev` változóban megadott év szökőév? Használjunk elágazást! Az évszám változtatásával ellenőrizzük az elágazás helyességét!"
   ]
  },
  {
   "cell_type": "code",
   "execution_count": 24,
   "metadata": {},
   "outputs": [
    {
     "name": "stdout",
     "output_type": "stream",
     "text": [
      "Szökőév\n"
     ]
    }
   ],
   "source": [
    "ev = 2020\n",
    "\n",
    "# megoldás:\n",
    "\n",
    "if ev % 400 == 0:\n",
    "    print(\"Szökőév\")\n",
    "elif ev % 100 == 0:\n",
    "    print(\"Nem szökőév\")\n",
    "elif ev % 4 == 0:\n",
    "    print(\"Szökőév\")\n",
    "else:\n",
    "    print(\"Nem szökőév\")"
   ]
  },
  {
   "cell_type": "markdown",
   "metadata": {},
   "source": [
    "### **2. feladat**: Írjuk ki a `word` változóban megadott string karaktereit!"
   ]
  },
  {
   "cell_type": "code",
   "execution_count": 25,
   "metadata": {},
   "outputs": [
    {
     "name": "stdout",
     "output_type": "stream",
     "text": [
      "H\n",
      "e\n",
      "l\n",
      "l\n",
      "o\n",
      ",\n",
      " \n",
      "s\n",
      "z\n",
      "a\n",
      "k\n",
      "k\n",
      "ö\n",
      "r\n",
      "!\n"
     ]
    }
   ],
   "source": [
    "word = \"Hello, szakkör!\"\n",
    "\n",
    "# megoldás:\n",
    "for i in word:\n",
    "    print(i)"
   ]
  },
  {
   "cell_type": "markdown",
   "metadata": {},
   "source": [
    "### **3. feladat**: Írjuk ki a `quote` változóban megadott idézet nagybetűit!"
   ]
  },
  {
   "cell_type": "code",
   "execution_count": 26,
   "metadata": {},
   "outputs": [
    {
     "name": "stdout",
     "output_type": "stream",
     "text": [
      "D\n",
      "C\n",
      "G\n",
      "O\n",
      "B\n",
      "K\n",
      "Ö\n",
      "U\n",
      "V\n",
      "R\n"
     ]
    }
   ],
   "source": [
    "quote = \"\"\"\n",
    "De eltekintve a Csatornáktól, Gógyászattól, \n",
    "Oktatástól, Bortól, Közrendtől, Öntözéstől, Utaktól, \n",
    "Vízvezetéktől, mit tettek a Rómaiak értünk? \n",
    "\"\"\"\n",
    "\n",
    "# megoldás:\n",
    "for i in quote:\n",
    "    if i.isupper():\n",
    "        print(i)"
   ]
  },
  {
   "cell_type": "markdown",
   "metadata": {},
   "source": [
    "### **4. feladat**: Írjuk ki 0 és 100 között azokat a számokat, amik 7-tel oszthatók!"
   ]
  },
  {
   "cell_type": "code",
   "execution_count": 27,
   "metadata": {},
   "outputs": [
    {
     "name": "stdout",
     "output_type": "stream",
     "text": [
      "0\n",
      "7\n",
      "14\n",
      "21\n",
      "28\n",
      "35\n",
      "42\n",
      "49\n",
      "56\n",
      "63\n",
      "70\n",
      "77\n",
      "84\n",
      "91\n",
      "98\n"
     ]
    }
   ],
   "source": [
    "# 1. megoldás:\n",
    "for i in range(0, 101, 7):\n",
    "    print(i)"
   ]
  },
  {
   "cell_type": "code",
   "execution_count": 28,
   "metadata": {},
   "outputs": [
    {
     "name": "stdout",
     "output_type": "stream",
     "text": [
      "0\n",
      "7\n",
      "14\n",
      "21\n",
      "28\n",
      "35\n",
      "42\n",
      "49\n",
      "56\n",
      "63\n",
      "70\n",
      "77\n",
      "84\n",
      "91\n",
      "98\n"
     ]
    }
   ],
   "source": [
    "# 2. megoldás:\n",
    "for i in range(101):\n",
    "    if i % 7 == 0:\n",
    "        print(i)"
   ]
  },
  {
   "cell_type": "markdown",
   "metadata": {},
   "source": [
    "### **5. feladat**: Módosítsd úgy az alábbi ciklust, hogy megálljon, amikor megtalálja az első, nullánál nagyobb de 13-mal osztható számot! Legyen ez az utolsó szám, amit kiír!"
   ]
  },
  {
   "cell_type": "code",
   "execution_count": 29,
   "metadata": {},
   "outputs": [
    {
     "name": "stdout",
     "output_type": "stream",
     "text": [
      "0\n",
      "7\n",
      "14\n",
      "21\n",
      "28\n",
      "35\n",
      "42\n",
      "49\n",
      "56\n",
      "63\n",
      "70\n",
      "77\n",
      "84\n",
      "91\n"
     ]
    }
   ],
   "source": [
    "for i in range(0, 101, 7):\n",
    "    print(i)\n",
    "    # megoldás:\n",
    "    if i > 0 and i % 13 == 0:\n",
    "        break"
   ]
  },
  {
   "cell_type": "markdown",
   "metadata": {},
   "source": [
    "### **6. feladat**: Módosítsd úgy az alábbi ciklust, hogy csak a 3-mal vagy 5-tel osztható számokat írja ki! Használd a `continue` utasítást!"
   ]
  },
  {
   "cell_type": "code",
   "execution_count": 30,
   "metadata": {},
   "outputs": [
    {
     "name": "stdout",
     "output_type": "stream",
     "text": [
      "0\n",
      "3\n",
      "5\n",
      "6\n",
      "9\n",
      "10\n",
      "12\n",
      "15\n",
      "18\n",
      "20\n"
     ]
    }
   ],
   "source": [
    "# megoldás:\n",
    "for i in range(21):\n",
    "    if i % 3 != 0 and i % 5 != 0:\n",
    "        continue\n",
    "    print(i)"
   ]
  }
 ],
 "metadata": {
  "kernelspec": {
   "display_name": "Python 3",
   "language": "python",
   "name": "python3"
  },
  "language_info": {
   "codemirror_mode": {
    "name": "ipython",
    "version": 3
   },
   "file_extension": ".py",
   "mimetype": "text/x-python",
   "name": "python",
   "nbconvert_exporter": "python",
   "pygments_lexer": "ipython3",
   "version": "3.8.5"
  }
 },
 "nbformat": 4,
 "nbformat_minor": 4
}
