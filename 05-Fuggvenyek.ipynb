{
 "cells": [
  {
   "cell_type": "markdown",
   "metadata": {},
   "source": [
    "# Függvények"
   ]
  },
  {
   "cell_type": "markdown",
   "metadata": {},
   "source": [
    "A legtöbb programozási nyelv engedi, hogy a programozó által írt programokat külön, újrafelhasználható részekbe, függvényekbe szervezze. Ezek segítségével a kód olvashatóbb és fenntarthatóbb lesz."
   ]
  },
  {
   "cell_type": "markdown",
   "metadata": {},
   "source": [
    "A függvényekbe a következőket lehet írni:\n",
    "\n",
    "* A paraméterek listája, ami lehet üres is, ekkor nem vár a függvény paramétert.\n",
    "* Az első sor tartalmazhat egy string-et, ami a függvény dokumentációja lesz (docstring). Ezt használják bizonyos programok dokumentáció generálására.\n",
    "* A függvény törzsébe a lefuttatni kívánt utasítások kerülnek\n",
    "* A függvénynek lehet explicit visszatérési értéke, amit a `return` kulcsszóval adunk meg. Ha ez nem szerepel, akkor van egy implicit visszatérési érték: `None`"
   ]
  },
  {
   "cell_type": "markdown",
   "metadata": {},
   "source": [
    "Függvény definiálása a `def` kulcsszóval lehetséges, amit követi a függvény neve és a paraméterek listája:"
   ]
  },
  {
   "cell_type": "code",
   "execution_count": null,
   "metadata": {},
   "outputs": [],
   "source": []
  },
  {
   "cell_type": "markdown",
   "metadata": {},
   "source": [
    "Figyeljünk az indentálásra! Ha már definiálva van a függvény, *meghívhatjuk* tetszőleges paraméterrel:"
   ]
  },
  {
   "cell_type": "code",
   "execution_count": null,
   "metadata": {},
   "outputs": [],
   "source": []
  },
  {
   "cell_type": "markdown",
   "metadata": {},
   "source": [
    "A paraméter nélküli függvények meghívásakor is ki kell írni a zárójeleket:"
   ]
  },
  {
   "cell_type": "code",
   "execution_count": null,
   "metadata": {},
   "outputs": [],
   "source": []
  },
  {
   "cell_type": "markdown",
   "metadata": {},
   "source": [
    "**1. feladat**: Írjuk át a Fibonacci-sorozatot számoló függvényt, hogy a sorozat első `n` elemét tartalmazó listával térjen vissza!"
   ]
  },
  {
   "cell_type": "code",
   "execution_count": null,
   "metadata": {},
   "outputs": [],
   "source": []
  },
  {
   "cell_type": "markdown",
   "metadata": {},
   "source": [
    "### A függvényekben definiált változók láthatósága"
   ]
  },
  {
   "cell_type": "markdown",
   "metadata": {},
   "source": [
    "A függvény paraméterei csak a függvény hatóköréig érhetők el:"
   ]
  },
  {
   "cell_type": "code",
   "execution_count": null,
   "metadata": {},
   "outputs": [],
   "source": []
  },
  {
   "cell_type": "markdown",
   "metadata": {},
   "source": [
    "A függvényekben definiált változók nem érhetők el a függvényen kívül, de az azon kívül definiált változók igen:"
   ]
  },
  {
   "cell_type": "code",
   "execution_count": null,
   "metadata": {},
   "outputs": [],
   "source": []
  },
  {
   "cell_type": "markdown",
   "metadata": {},
   "source": [
    "Később még ezt finomítjuk."
   ]
  },
  {
   "cell_type": "markdown",
   "metadata": {},
   "source": [
    "## Alapértelmezett paraméterek"
   ]
  },
  {
   "cell_type": "markdown",
   "metadata": {},
   "source": [
    "Ha egy argumentumnak alapértelmezett értéket akarunk adni, akkor a függvény definiálásakor megtehetjük kulcs-érték párok segítségével:"
   ]
  },
  {
   "cell_type": "code",
   "execution_count": null,
   "metadata": {},
   "outputs": [],
   "source": []
  },
  {
   "cell_type": "markdown",
   "metadata": {},
   "source": [
    "Alapértelmezett argumentummal rendelkező függvényt többféleképpen meg lehet hívni:"
   ]
  },
  {
   "cell_type": "code",
   "execution_count": null,
   "metadata": {},
   "outputs": [],
   "source": []
  },
  {
   "cell_type": "code",
   "execution_count": null,
   "metadata": {},
   "outputs": [],
   "source": []
  },
  {
   "cell_type": "code",
   "execution_count": null,
   "metadata": {},
   "outputs": [],
   "source": []
  },
  {
   "cell_type": "markdown",
   "metadata": {},
   "source": [
    "**Fontos**: az alapértelmezett argumentum pontosan egyszer, a függvény definiálásakor értékelődik ki:"
   ]
  },
  {
   "cell_type": "code",
   "execution_count": null,
   "metadata": {},
   "outputs": [],
   "source": []
  },
  {
   "cell_type": "markdown",
   "metadata": {},
   "source": [
    "A Python ezen tulajdonsága miatt mutable objektumot (pl: listát) nem szabad megadni (habár a Python nem szól érte):"
   ]
  },
  {
   "cell_type": "code",
   "execution_count": null,
   "metadata": {},
   "outputs": [],
   "source": []
  },
  {
   "cell_type": "markdown",
   "metadata": {},
   "source": [
    "Lista esetén a fenti függvény összes meghívásakor a legfrisebb lista lesz az alapértelmezett argumentum."
   ]
  },
  {
   "cell_type": "markdown",
   "metadata": {},
   "source": [
    "A fenti példában van egy kötelezően megadandó argumentum és három alapértelmezett argumentum. Ezt a függvényt sok különböző módon meg lehet hívni:"
   ]
  },
  {
   "cell_type": "markdown",
   "metadata": {},
   "source": [
    "De ha a kötelezően megadandó argumentumot nem adjuk meg, hibát kapunk:"
   ]
  },
  {
   "cell_type": "code",
   "execution_count": null,
   "metadata": {},
   "outputs": [],
   "source": []
  },
  {
   "cell_type": "markdown",
   "metadata": {},
   "source": [
    "Az alapértelmezett argumentumokra a következő szabályok vonatkoznak:\n",
    "\n",
    "* a kötelezően megadandó argumentum a lista elejére kerül\n",
    "* az kulcs-érték párokkal megadott alapértelmezett argumentumok a kötelezően megadandó argumentumok után kerülnek\n",
    "* egy argumentumot legfeljebb egyszer lehet átadni\n",
    "* legfeljebb annyi argumentumot lehet megadni a híváskor, amennyit definiáláskor megadtunk (ez kiterjeszthető)"
   ]
  },
  {
   "cell_type": "markdown",
   "metadata": {},
   "source": [
    "### Lambda kifejezések"
   ]
  },
  {
   "cell_type": "markdown",
   "metadata": {},
   "source": [
    "Egyszerű függvények megadhatók névtelenül a `lambda` kulcsszóval:"
   ]
  },
  {
   "cell_type": "code",
   "execution_count": null,
   "metadata": {},
   "outputs": [],
   "source": []
  },
  {
   "cell_type": "markdown",
   "metadata": {},
   "source": [
    "Használatra egy példa:"
   ]
  },
  {
   "cell_type": "code",
   "execution_count": null,
   "metadata": {},
   "outputs": [],
   "source": []
  }
 ],
 "metadata": {
  "kernelspec": {
   "display_name": "Python 3",
   "language": "python",
   "name": "python3"
  },
  "language_info": {
   "codemirror_mode": {
    "name": "ipython",
    "version": 3
   },
   "file_extension": ".py",
   "mimetype": "text/x-python",
   "name": "python",
   "nbconvert_exporter": "python",
   "pygments_lexer": "ipython3",
   "version": "3.8.5"
  }
 },
 "nbformat": 4,
 "nbformat_minor": 4
}
