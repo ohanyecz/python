{
 "cells": [
  {
   "cell_type": "markdown",
   "metadata": {},
   "source": [
    "# Logikai kifejezések"
   ]
  },
  {
   "cell_type": "markdown",
   "metadata": {},
   "source": [
    "Különböző feltételek vizsgálata fontos, hogy a program további működésének az irányát meghatározzuk. A másodfokú egyenlet megoldóképkete ilyen. Attól függően, hogy a diszkrimináns pozitív vagy negatív, léteznek, illetve nem léteznek valós gyökök. Azaz itt van egy feltételünk, és a továbbhaladás irányát ez alapján kell meghatározni. Ez a feltétel lehet `True` vagy `False`. "
   ]
  },
  {
   "cell_type": "code",
   "execution_count": null,
   "metadata": {},
   "outputs": [],
   "source": []
  },
  {
   "cell_type": "code",
   "execution_count": null,
   "metadata": {},
   "outputs": [],
   "source": []
  },
  {
   "cell_type": "markdown",
   "metadata": {},
   "source": [
    "A `True` vagy `False` értéket egy `bool` típusú változóban tárolhatjuk. Tehát az `int` és `float` mellett van egy új típusunk."
   ]
  },
  {
   "cell_type": "markdown",
   "metadata": {},
   "source": [
    "## Logikai operátorok"
   ]
  },
  {
   "cell_type": "markdown",
   "metadata": {},
   "source": [
    "A Python három logikai operátort tartalmaz: `and`, `or`, `not`:"
   ]
  },
  {
   "cell_type": "code",
   "execution_count": null,
   "metadata": {},
   "outputs": [],
   "source": []
  },
  {
   "cell_type": "code",
   "execution_count": null,
   "metadata": {},
   "outputs": [],
   "source": []
  },
  {
   "cell_type": "code",
   "execution_count": null,
   "metadata": {},
   "outputs": [],
   "source": []
  },
  {
   "cell_type": "markdown",
   "metadata": {},
   "source": [
    "Figyeljük meg az `and` operátor működését:"
   ]
  },
  {
   "cell_type": "code",
   "execution_count": null,
   "metadata": {},
   "outputs": [],
   "source": []
  },
  {
   "cell_type": "markdown",
   "metadata": {},
   "source": [
    "Az `or` hasonlóan viselkedik:"
   ]
  },
  {
   "cell_type": "code",
   "execution_count": null,
   "metadata": {},
   "outputs": [],
   "source": []
  },
  {
   "cell_type": "markdown",
   "metadata": {},
   "source": [
    "Az `and` és `or` operátorok fenti működése miatt ezeket rövidzár (*short-circuit*) operátoroknak: az argumentumaik balról jobbra értékelődnek ki és a kiértékelés akkor áll le, amikor a kimenet már egyértelműen meghatározható."
   ]
  },
  {
   "cell_type": "markdown",
   "metadata": {},
   "source": [
    "Az operátorok precedenciája az erősebbtől a gyengébbig:\n",
    "\n",
    "* `not`\n",
    "* `and`\n",
    "* `or`"
   ]
  },
  {
   "cell_type": "markdown",
   "metadata": {},
   "source": [
    "Zárójelekkel megváltoztathatjuk a kiértékelés sorrendjét:"
   ]
  },
  {
   "cell_type": "code",
   "execution_count": null,
   "metadata": {},
   "outputs": [],
   "source": []
  },
  {
   "cell_type": "markdown",
   "metadata": {},
   "source": [
    "Pythonban a következő dolgok `False`-ként vannak értelmezve:"
   ]
  },
  {
   "cell_type": "code",
   "execution_count": null,
   "metadata": {},
   "outputs": [],
   "source": []
  },
  {
   "cell_type": "code",
   "execution_count": null,
   "metadata": {},
   "outputs": [],
   "source": []
  },
  {
   "cell_type": "code",
   "execution_count": null,
   "metadata": {},
   "outputs": [],
   "source": []
  },
  {
   "cell_type": "code",
   "execution_count": null,
   "metadata": {},
   "outputs": [],
   "source": []
  },
  {
   "cell_type": "markdown",
   "metadata": {},
   "source": [
    "Minden más `True`, például:"
   ]
  },
  {
   "cell_type": "code",
   "execution_count": null,
   "metadata": {},
   "outputs": [],
   "source": []
  },
  {
   "cell_type": "code",
   "execution_count": null,
   "metadata": {},
   "outputs": [],
   "source": []
  },
  {
   "cell_type": "markdown",
   "metadata": {},
   "source": [
    "Az `and` és `or` operátoroknak van egy elsőre furcsa működése:"
   ]
  },
  {
   "cell_type": "code",
   "execution_count": null,
   "metadata": {},
   "outputs": [],
   "source": [
    "'a' == ('a' or 'b')"
   ]
  },
  {
   "cell_type": "code",
   "execution_count": null,
   "metadata": {},
   "outputs": [],
   "source": [
    "'b' == ('a' or 'b')"
   ]
  },
  {
   "cell_type": "code",
   "execution_count": null,
   "metadata": {},
   "outputs": [],
   "source": [
    "'a' == ('a' and 'b')"
   ]
  },
  {
   "cell_type": "code",
   "execution_count": null,
   "metadata": {},
   "outputs": [],
   "source": [
    "'b' == ('a' and 'b')"
   ]
  },
  {
   "cell_type": "markdown",
   "metadata": {},
   "source": [
    "Ahelyett, hogy a logikai `True` vagy `False` értékkel térnének vissza, annak az argumentumnak az értékével térnek vissza, aminél eldönthető volt a kifejezés értéke."
   ]
  },
  {
   "cell_type": "markdown",
   "metadata": {},
   "source": [
    "## Összehasonlítások"
   ]
  },
  {
   "cell_type": "markdown",
   "metadata": {},
   "source": [
    "Összehasonlításokat a már biztosan ismert *operátor*-ok segítségével végezhetünk el: `<`, `<=`, `>`, `>=`, `==`, `!=`:"
   ]
  },
  {
   "cell_type": "code",
   "execution_count": null,
   "metadata": {},
   "outputs": [],
   "source": []
  },
  {
   "cell_type": "code",
   "execution_count": null,
   "metadata": {},
   "outputs": [],
   "source": []
  },
  {
   "cell_type": "code",
   "execution_count": null,
   "metadata": {},
   "outputs": [],
   "source": []
  },
  {
   "cell_type": "code",
   "execution_count": null,
   "metadata": {},
   "outputs": [],
   "source": []
  },
  {
   "cell_type": "code",
   "execution_count": null,
   "metadata": {},
   "outputs": [],
   "source": []
  },
  {
   "cell_type": "code",
   "execution_count": null,
   "metadata": {},
   "outputs": [],
   "source": []
  },
  {
   "cell_type": "markdown",
   "metadata": {},
   "source": [
    "Ezek mellett a Python bevezet még két új operátort: `is`, `is not`:"
   ]
  },
  {
   "cell_type": "code",
   "execution_count": null,
   "metadata": {},
   "outputs": [],
   "source": []
  },
  {
   "cell_type": "code",
   "execution_count": null,
   "metadata": {},
   "outputs": [],
   "source": []
  },
  {
   "cell_type": "code",
   "execution_count": null,
   "metadata": {},
   "outputs": [],
   "source": []
  },
  {
   "cell_type": "markdown",
   "metadata": {},
   "source": [
    "Összehasonlító operátorok precedenciája az erősebbtől a gyengébbig:\n",
    "\n",
    "* `in`, `not in`, `is`, `is not`, `<`, `<=`, `>`, `>=`, `!=`, `==`\n",
    "\n",
    "Nem elírás, tényleg ugyanolyan precedenciájúak a műveletek.\n",
    "\n",
    "A logikai operátorokkal kiegészítve a precedencia:\n",
    "\n",
    "* `in`, `not in`, `is`, `is not`, `<`, `<=`, `>`, `>=`, `!=`, `==`\n",
    "* `not`\n",
    "* `and`\n",
    "* `or`\n",
    "\n",
    "Az `in` és a `not in` operátorok azt tesztelik, hogy a paraméterül átadott elem benne van-e egy adatstruktúrában (ez lesz a következő rész)."
   ]
  },
  {
   "cell_type": "markdown",
   "metadata": {},
   "source": [
    "Az összehasonlító operátorok egymás után láncolhatók:"
   ]
  },
  {
   "cell_type": "code",
   "execution_count": null,
   "metadata": {},
   "outputs": [],
   "source": []
  }
 ],
 "metadata": {
  "kernelspec": {
   "display_name": "Python 3",
   "language": "python",
   "name": "python3"
  },
  "language_info": {
   "codemirror_mode": {
    "name": "ipython",
    "version": 3
   },
   "file_extension": ".py",
   "mimetype": "text/x-python",
   "name": "python",
   "nbconvert_exporter": "python",
   "pygments_lexer": "ipython3",
   "version": "3.8.5"
  }
 },
 "nbformat": 4,
 "nbformat_minor": 4
}
