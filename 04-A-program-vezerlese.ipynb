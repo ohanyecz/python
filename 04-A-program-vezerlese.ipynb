{
 "cells": [
  {
   "cell_type": "markdown",
   "metadata": {},
   "source": [
    "# A program futásának vezérlése"
   ]
  },
  {
   "cell_type": "markdown",
   "metadata": {},
   "source": [
    "Az összetett utasítások több utasítást tartalmaznak, ezzel befolyásolhatják a program futását. Az `if`, `while` és `for` utasítások valamilyen elágazást, illetve egy utasítássorozat ismétlését (*iterálását*) teszik lehetővé.\n",
    "\n",
    "Minden ilyen utasítás több részből tevődik össze. Mindig egy speciális kulcsszóval kezdődik és kettősponttal végződik. A kettő közötti részben egy vagy több logikai állítást fogalmazunk meg, aminek a teljesülése esetén fusson le a kettőspont utáni rész."
   ]
  },
  {
   "cell_type": "markdown",
   "metadata": {},
   "source": [
    "Az `if`, `while` és `for` mellett sok más összetett utasítás is létezik: `try`, `with`, `def`, `class`. Ezekkel később foglalkozunk."
   ]
  },
  {
   "cell_type": "markdown",
   "metadata": {},
   "source": [
    "## A Python egy strukturált nyelv"
   ]
  },
  {
   "cell_type": "markdown",
   "metadata": {},
   "source": [
    "A C típusú programozási nyelvekben az egybefüggő kódrészeket kapcsos zárójelekkel különítik el:\n",
    "```C++\n",
    "if (i == 10) {\n",
    "    std::cout << i << std::endl;\n",
    "}\n",
    "```\n",
    "Ekkor nem számít, hogy mennyi szóközzel beljebb kezdjük a sort, mert a kapcsos zárójel jelöli ki azt a részt, ami az elágazásba tartozik.\n",
    "\n",
    "A Python nem ezt használja: az egybefüggő kódrészeket négy szóközzel kell beljebb vinni (*indentálni*). Ezt bizonyos környezetek (mint a Jupyter) megcsinálják, ha a kettőspont után ENTER-t nyomunk. A TAB használata kerülendő."
   ]
  },
  {
   "cell_type": "markdown",
   "metadata": {},
   "source": [
    "## Elágazás"
   ]
  },
  {
   "cell_type": "markdown",
   "metadata": {},
   "source": [
    "Az `if` utasítás segítségével meghatározhatjuk, hogy bizonyos körülmények teljesülése esetén a programunk a megfelelő utasításokat hajtsa végre:"
   ]
  },
  {
   "cell_type": "code",
   "execution_count": null,
   "metadata": {},
   "outputs": [],
   "source": []
  },
  {
   "cell_type": "markdown",
   "metadata": {},
   "source": [
    "Az `if`-ek egymásba ágyazhatók (figyeljünk az indentálásra!):"
   ]
  },
  {
   "cell_type": "code",
   "execution_count": null,
   "metadata": {},
   "outputs": [],
   "source": []
  },
  {
   "cell_type": "markdown",
   "metadata": {},
   "source": [
    "Bonyolultabb elágazások is leírhatók:"
   ]
  },
  {
   "cell_type": "code",
   "execution_count": null,
   "metadata": {},
   "outputs": [],
   "source": []
  },
  {
   "cell_type": "markdown",
   "metadata": {},
   "source": [
    "## Ciklusok"
   ]
  },
  {
   "cell_type": "markdown",
   "metadata": {},
   "source": [
    "Pythonban két fajta ciklus létezik: `for` és `while`. Ezekkel egy adott utasítássorozatot lehet megismételni."
   ]
  },
  {
   "cell_type": "markdown",
   "metadata": {},
   "source": [
    "### A `for` ciklus"
   ]
  },
  {
   "cell_type": "markdown",
   "metadata": {},
   "source": [
    "A `for` ciklus alapvetően különbözik a más nyelvekben megszokott `for` ciklustól. C++-ban például egy `for` ciklussal a számok egy listáján haladunk végig:\n",
    "```C++\n",
    "for (int i = 0; i < 10; ++i) {\n",
    "    std::cout << i << std::endl;\n",
    "}\n",
    "```"
   ]
  },
  {
   "cell_type": "markdown",
   "metadata": {},
   "source": [
    "Pythonban a `for` ciklus egy sorozat (pl: `list`, `range`, `set`) *elemein* megy végig:"
   ]
  },
  {
   "cell_type": "code",
   "execution_count": null,
   "metadata": {},
   "outputs": [],
   "source": []
  },
  {
   "cell_type": "markdown",
   "metadata": {},
   "source": [
    "Ciklusváltozónak bármilyen (érvényes) nevet adhatunk:"
   ]
  },
  {
   "cell_type": "code",
   "execution_count": null,
   "metadata": {},
   "outputs": [],
   "source": []
  },
  {
   "cell_type": "markdown",
   "metadata": {},
   "source": [
    "Természetesen több utasítást is lehet egy ciklusba írni:"
   ]
  },
  {
   "cell_type": "code",
   "execution_count": null,
   "metadata": {},
   "outputs": [],
   "source": []
  },
  {
   "cell_type": "markdown",
   "metadata": {},
   "source": [
    "Ha `for` ciklussal szeretnénk adott számú műveletet elvégezni, akkor a `range()` függvény használandó:"
   ]
  },
  {
   "cell_type": "code",
   "execution_count": null,
   "metadata": {},
   "outputs": [],
   "source": []
  },
  {
   "cell_type": "markdown",
   "metadata": {},
   "source": [
    "### A `while` ciklus"
   ]
  },
  {
   "cell_type": "markdown",
   "metadata": {},
   "source": [
    "A `while` kulcsszóval megadott ciklus addig fut, amíg a megadott feltétel teljesül:"
   ]
  },
  {
   "cell_type": "code",
   "execution_count": null,
   "metadata": {},
   "outputs": [],
   "source": []
  },
  {
   "cell_type": "markdown",
   "metadata": {},
   "source": [
    "**Vigyázat**: rosszul megadott feltétel végtelen ciklust eredményezhet:"
   ]
  },
  {
   "cell_type": "code",
   "execution_count": null,
   "metadata": {},
   "outputs": [],
   "source": []
  },
  {
   "cell_type": "markdown",
   "metadata": {},
   "source": [
    "**1. feladat**: Írjuk meg a Fibonacci-sorozat első `n` darab elemét kiíró ciklust! A Fibonacci-sorozat első két eleme 0 és 1, majd a következő elemet mindig az előző kettő összegéből kapjuk: 0,1,1,2,3,5,8,13,21,34,55,89..."
   ]
  },
  {
   "cell_type": "code",
   "execution_count": null,
   "metadata": {},
   "outputs": [],
   "source": [
    "a, b = 0, 1\n",
    "\n",
    "# ide kerül a ciklus"
   ]
  },
  {
   "cell_type": "markdown",
   "metadata": {},
   "source": [
    "## Változók elérése az elágazáson és cikluson belül"
   ]
  },
  {
   "cell_type": "markdown",
   "metadata": {},
   "source": [
    "Az összetett utasításon belül a blokkon kívül, de még a blokk előtt definiált változók elérhetők:"
   ]
  },
  {
   "cell_type": "code",
   "execution_count": null,
   "metadata": {},
   "outputs": [],
   "source": []
  },
  {
   "cell_type": "markdown",
   "metadata": {},
   "source": [
    "A blokkon belül definiált változó a blokk után érhető el:"
   ]
  },
  {
   "cell_type": "code",
   "execution_count": null,
   "metadata": {},
   "outputs": [],
   "source": []
  },
  {
   "cell_type": "code",
   "execution_count": null,
   "metadata": {},
   "outputs": [],
   "source": []
  },
  {
   "cell_type": "markdown",
   "metadata": {},
   "source": [
    "**Vigyázat**: ez szintén különbözik más nyelvektől, ahol a blokkon belül definiált változók általában nem érhetők el a blokk után."
   ]
  },
  {
   "cell_type": "markdown",
   "metadata": {},
   "source": [
    "## A ciklus futásának megszakítása"
   ]
  },
  {
   "cell_type": "markdown",
   "metadata": {},
   "source": [
    "A ciklus futását két féle módon lehet megszakítani: a `break` és a `continue` utasítással. Mind a két utasítás csak a `for` vagy `while` utasításon belül lehet (különben hibát kapunk)."
   ]
  },
  {
   "cell_type": "code",
   "execution_count": null,
   "metadata": {},
   "outputs": [],
   "source": [
    "# Ezt a ciklust fogjuk módosítani\n",
    "\n",
    "n = 5\n",
    "while n > 0:\n",
    "    n = n - 1\n",
    "    print(n)\n",
    "print(\"Loop is  finished\")\n",
    "print(\"Value of n: \", n)"
   ]
  },
  {
   "cell_type": "markdown",
   "metadata": {},
   "source": [
    "A ciklusból kilépni a `break` utasítással lehet. Ha ez megtörténik, a ciklusváltozó értéke a kilépéskor megmarad:"
   ]
  },
  {
   "cell_type": "code",
   "execution_count": null,
   "metadata": {},
   "outputs": [],
   "source": []
  },
  {
   "cell_type": "markdown",
   "metadata": {},
   "source": [
    "Egy iterációt átugrani a `continue` utasítással lehet:"
   ]
  },
  {
   "cell_type": "code",
   "execution_count": null,
   "metadata": {},
   "outputs": [],
   "source": []
  },
  {
   "cell_type": "markdown",
   "metadata": {},
   "source": [
    "**Vigyázat**: csak a legbelső ciklusra vannak hatással:"
   ]
  },
  {
   "cell_type": "code",
   "execution_count": null,
   "metadata": {},
   "outputs": [],
   "source": []
  }
 ],
 "metadata": {
  "kernelspec": {
   "display_name": "Python 3",
   "language": "python",
   "name": "python3"
  },
  "language_info": {
   "codemirror_mode": {
    "name": "ipython",
    "version": 3
   },
   "file_extension": ".py",
   "mimetype": "text/x-python",
   "name": "python",
   "nbconvert_exporter": "python",
   "pygments_lexer": "ipython3",
   "version": "3.8.5"
  }
 },
 "nbformat": 4,
 "nbformat_minor": 4
}
