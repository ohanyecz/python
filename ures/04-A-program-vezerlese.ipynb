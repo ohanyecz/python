{
 "cells": [
  {
   "cell_type": "markdown",
   "metadata": {},
   "source": [
    "# A program futásának vezérlése"
   ]
  },
  {
   "cell_type": "markdown",
   "metadata": {},
   "source": [
    "Az összetett utasítások több utasítást tartalmaznak, ezzel befolyásolhatják a program futását. Az `if`, `while` és `for` utasítások valamilyen elágazást, illetve egy utasítássorozat ismétlését (*iterálását*) teszik lehetővé.\n",
    "\n",
    "Minden ilyen utasítás több részből tevődik össze. Mindig egy speciális kulcsszóval kezdődik és kettősponttal végződik. A kettő közötti részben egy vagy több logikai állítást fogalmazunk meg, aminek a teljesülése esetén fusson le a kettőspont utáni rész."
   ]
  },
  {
   "cell_type": "markdown",
   "metadata": {},
   "source": [
    "Az `if`, `while` és `for` mellett sok más összetett utasítás is létezik: `try`, `with`, `def`, `class`. Ezekkel később foglalkozunk."
   ]
  },
  {
   "cell_type": "markdown",
   "metadata": {},
   "source": [
    "## A Python egy strukturált nyelv"
   ]
  },
  {
   "cell_type": "markdown",
   "metadata": {},
   "source": [
    "A C típusú programozási nyelvekben az egybefüggő kódrészeket kapcsos zárójelekkel különítik el:\n",
    "```C++\n",
    "if (i == 10) {\n",
    "    std::cout << i << std::endl;\n",
    "}\n",
    "```\n",
    "Ekkor nem számít, hogy mennyi szóközzel beljebb kezdjük a sort, mert a kapcsos zárójel jelöli ki azt a részt, ami az elágazásba tartozik.\n",
    "\n",
    "A Python nem ezt használja: az egybefüggő kódrészeket négy szóközzel kell beljebb vinni (*indentálni*). Ezt bizonyos környezetek (mint a Jupyter és a jobb fejlesztői környezetek) megcsinálják, ha a kettőspont után ENTER-t nyomunk. A TAB használata kerülendő."
   ]
  },
  {
   "cell_type": "markdown",
   "metadata": {},
   "source": [
    "## Elágazás"
   ]
  },
  {
   "cell_type": "markdown",
   "metadata": {},
   "source": [
    "Az `if` utasítás segítségével meghatározhatjuk, hogy bizonyos körülmények teljesülése esetén a programunk a megfelelő utasításokat hajtsa végre. Ha a feltétel igaz, végrehajtjuk az `if` blokkon belüli kódot:"
   ]
  },
  {
   "cell_type": "code",
   "execution_count": null,
   "metadata": {},
   "outputs": [],
   "source": []
  },
  {
   "cell_type": "markdown",
   "metadata": {},
   "source": [
    "Az `if`-ek egymásba ágyazhatók (figyeljünk az indentálásra!):"
   ]
  },
  {
   "cell_type": "code",
   "execution_count": null,
   "metadata": {},
   "outputs": [],
   "source": []
  },
  {
   "cell_type": "markdown",
   "metadata": {},
   "source": [
    "A feltételbe tetszőlegesen hosszú állítások írhatók, amiket a logikai operátorokkal köthetünk össze. A fenti kód ez alapján egyszerűbben leírható:"
   ]
  },
  {
   "cell_type": "code",
   "execution_count": null,
   "metadata": {},
   "outputs": [],
   "source": []
  },
  {
   "cell_type": "markdown",
   "metadata": {},
   "source": [
    "Látható, hogy az egymásba ágyazott `if` utasítások egyszerűsíthetők, ha az `and` kulcsszóval összekötjük a logikai feltételüket."
   ]
  },
  {
   "cell_type": "markdown",
   "metadata": {},
   "source": [
    "Bonyolultabb elágazások is leírhatók az `elif` kulcsszó segítségével. Az `elif` az `else if` rövidítése, ami egy alternatív ágat jelöl. Ha az `if` feltétele nem teljesül, és van `elif` ág, akkor ennek a feltétele is ellenőrzésre kerül:"
   ]
  },
  {
   "cell_type": "code",
   "execution_count": null,
   "metadata": {},
   "outputs": [],
   "source": []
  },
  {
   "cell_type": "markdown",
   "metadata": {},
   "source": [
    "Az `elif` ágakból tetszőlegesen sok lehet. De melyik ág fog lefutni? A Python egyesével értékeli ki a feltételeket az `if`-től addig, amíg nem talál egy feltételt, ami igaz lesz. Majd annak a feltételnek a kódjait lefuttatja és kilép az elágazás szerkezetéből, azaz nem nézi meg, hogy van-e más feltétel ami igaz lenne. "
   ]
  },
  {
   "cell_type": "markdown",
   "metadata": {},
   "source": [
    "Az elágazások végére írhatunk egy olyan részt az `else` kulcsszóval, ami akkor fut le, ha az előtte lévő feltételek *mindegyike* hamis volt. Ebből legfeljebb egy szerepelhet egy elágazási szerkezetben:"
   ]
  },
  {
   "cell_type": "code",
   "execution_count": null,
   "metadata": {},
   "outputs": [],
   "source": []
  },
  {
   "cell_type": "markdown",
   "metadata": {},
   "source": [
    "## Ciklusok"
   ]
  },
  {
   "cell_type": "markdown",
   "metadata": {},
   "source": [
    "Pythonban két fajta ciklus létezik: `for` és `while`. Ezekkel egy adott utasítássorozatot lehet megismételni."
   ]
  },
  {
   "cell_type": "markdown",
   "metadata": {},
   "source": [
    "### A `for` ciklus"
   ]
  },
  {
   "cell_type": "markdown",
   "metadata": {},
   "source": [
    "A `for` ciklus alapvetően különbözik a más nyelvekben megszokott `for` ciklustól. C++-ban például egy `for` ciklussal a számok egy listáján haladunk végig:\n",
    "```C++\n",
    "for (int i = 0; i < 10; ++i) {\n",
    "    std::cout << i << std::endl;\n",
    "}\n",
    "```"
   ]
  },
  {
   "cell_type": "markdown",
   "metadata": {},
   "source": [
    "Pythonban a `for` ciklus egy sorozat (pl: `list`, `range`, `set`) *elemein* megy végig, ezt az `in` kulcsszó segítségével fejezzük ki:"
   ]
  },
  {
   "cell_type": "code",
   "execution_count": null,
   "metadata": {},
   "outputs": [],
   "source": []
  },
  {
   "cell_type": "markdown",
   "metadata": {},
   "source": [
    "Ciklusváltozónak bármilyen (érvényes) nevet adhatunk:"
   ]
  },
  {
   "cell_type": "code",
   "execution_count": null,
   "metadata": {},
   "outputs": [],
   "source": []
  },
  {
   "cell_type": "markdown",
   "metadata": {},
   "source": [
    "Természetesen több utasítást is lehet egy ciklusba írni:"
   ]
  },
  {
   "cell_type": "code",
   "execution_count": null,
   "metadata": {},
   "outputs": [],
   "source": []
  },
  {
   "cell_type": "markdown",
   "metadata": {},
   "source": [
    "Ha `for` ciklussal szeretnénk adott számú műveletet elvégezni, akkor a beépített `range()` függvény használandó. Ha egy paramétert adunk meg, akkor 0-tól a megadott számig készíti el az egész számokat, de megadott szám már nem lesz benne:"
   ]
  },
  {
   "cell_type": "code",
   "execution_count": null,
   "metadata": {},
   "outputs": [],
   "source": []
  },
  {
   "cell_type": "markdown",
   "metadata": {},
   "source": [
    "Ha két paramétert adunk meg, akkor az első szám a kezdőszám, a második szám a vége lesz a számoknak:"
   ]
  },
  {
   "cell_type": "code",
   "execution_count": null,
   "metadata": {},
   "outputs": [],
   "source": []
  },
  {
   "cell_type": "markdown",
   "metadata": {},
   "source": [
    "Emellett van egy opcionális paraméter, amivel megadhatjuk, hogy minden hanyadik számot szeretnénk előállítani. Ez a harmadik paramétere lesz a `range()` függvénynek:"
   ]
  },
  {
   "cell_type": "code",
   "execution_count": null,
   "metadata": {},
   "outputs": [],
   "source": []
  },
  {
   "cell_type": "markdown",
   "metadata": {},
   "source": [
    "### A `while` ciklus"
   ]
  },
  {
   "cell_type": "markdown",
   "metadata": {},
   "source": [
    "A `while` kulcsszóval megadott ciklus addig fut, amíg a megadott feltétel teljesül:"
   ]
  },
  {
   "cell_type": "code",
   "execution_count": null,
   "metadata": {},
   "outputs": [],
   "source": []
  },
  {
   "cell_type": "markdown",
   "metadata": {},
   "source": [
    "**Vigyázat**: ha nem változtatjuk a ciklusváltozó értékét vagy rosszul adjuk meg a ciklusfeltételt, végtelen ciklust (örökké futó) kaphatunk!"
   ]
  },
  {
   "cell_type": "code",
   "execution_count": null,
   "metadata": {},
   "outputs": [],
   "source": []
  },
  {
   "cell_type": "code",
   "execution_count": null,
   "metadata": {},
   "outputs": [],
   "source": []
  },
  {
   "cell_type": "markdown",
   "metadata": {},
   "source": [
    "Írjuk meg a Fibonacci-sorozat első `n` darab elemét kiíró ciklust! A Fibonacci-sorozat első két eleme 0 és 1, majd a következő elemet mindig az előző kettő összegéből kapjuk: 0,1,1,2,3,5,8,13,21,34,55,89..."
   ]
  },
  {
   "cell_type": "code",
   "execution_count": null,
   "metadata": {},
   "outputs": [],
   "source": [
    "n = 10\n",
    "a, b = 0, 1\n",
    "\n",
    "# megoldás:\n"
   ]
  },
  {
   "cell_type": "markdown",
   "metadata": {},
   "source": [
    "## Változók elérése az elágazáson és cikluson belül"
   ]
  },
  {
   "cell_type": "markdown",
   "metadata": {},
   "source": [
    "Az összetett utasításon belül a blokkon kívül, de még a blokk előtt definiált változók elérhetők:"
   ]
  },
  {
   "cell_type": "code",
   "execution_count": null,
   "metadata": {},
   "outputs": [],
   "source": []
  },
  {
   "cell_type": "code",
   "execution_count": null,
   "metadata": {},
   "outputs": [],
   "source": []
  },
  {
   "cell_type": "markdown",
   "metadata": {},
   "source": [
    "A blokkon belül definiált változó a blokk után érhető el:"
   ]
  },
  {
   "cell_type": "code",
   "execution_count": null,
   "metadata": {},
   "outputs": [],
   "source": []
  },
  {
   "cell_type": "code",
   "execution_count": null,
   "metadata": {},
   "outputs": [],
   "source": []
  },
  {
   "cell_type": "markdown",
   "metadata": {},
   "source": [
    "**Vigyázat**: ez szintén különbözik más nyelvektől, ahol a blokkon belül definiált változók általában nem érhetők el a blokk után."
   ]
  },
  {
   "cell_type": "markdown",
   "metadata": {},
   "source": [
    "## A ciklus futásának megszakítása"
   ]
  },
  {
   "cell_type": "markdown",
   "metadata": {},
   "source": [
    "A ciklus futását két féle módon lehet megszakítani: a `break` és a `continue` utasítással. Mind a két utasítás csak a `for` vagy `while` utasításon belül lehet (különben hibát kapunk)."
   ]
  },
  {
   "cell_type": "code",
   "execution_count": null,
   "metadata": {},
   "outputs": [],
   "source": [
    "# Ezt a ciklust fogjuk módosítani\n",
    "\n",
    "n = 5\n",
    "while n > 0:\n",
    "    n = n - 1\n",
    "    print(n)\n",
    "print(\"Loop is  finished\")\n",
    "print(\"Value of n: \", n)"
   ]
  },
  {
   "cell_type": "markdown",
   "metadata": {},
   "source": [
    "A ciklusból kilépni a `break` utasítással lehet:"
   ]
  },
  {
   "cell_type": "code",
   "execution_count": null,
   "metadata": {},
   "outputs": [],
   "source": []
  },
  {
   "cell_type": "markdown",
   "metadata": {},
   "source": [
    "Ha a  `break` utasítás hatására kilépünk a ciklusból, a ciklusváltozó értéke a kilépéskor megmarad, ahogy a fenti példa mutatja."
   ]
  },
  {
   "cell_type": "markdown",
   "metadata": {},
   "source": [
    "Egy iterációt átugrani a `continue` utasítással lehet:"
   ]
  },
  {
   "cell_type": "code",
   "execution_count": null,
   "metadata": {},
   "outputs": [],
   "source": []
  },
  {
   "cell_type": "markdown",
   "metadata": {},
   "source": [
    "**Vigyázat**: csak arra a ciklusra vannak hatással, amelyikben leírtuk:"
   ]
  },
  {
   "cell_type": "code",
   "execution_count": null,
   "metadata": {},
   "outputs": [],
   "source": []
  },
  {
   "cell_type": "markdown",
   "metadata": {},
   "source": [
    "## Feladatok"
   ]
  },
  {
   "cell_type": "markdown",
   "metadata": {},
   "source": [
    "### **1. feladat**: Az `ev` változóban megadott év szökőév? Használjunk elágazást! Az évszám változtatásával ellenőrizzük az elágazás helyességét!"
   ]
  },
  {
   "cell_type": "code",
   "execution_count": null,
   "metadata": {},
   "outputs": [],
   "source": [
    "ev = 2020\n",
    "\n",
    "# megoldás:\n"
   ]
  },
  {
   "cell_type": "markdown",
   "metadata": {},
   "source": [
    "### **2. feladat**: Írjuk ki a `word` változóban megadott string karaktereit!"
   ]
  },
  {
   "cell_type": "code",
   "execution_count": null,
   "metadata": {},
   "outputs": [],
   "source": [
    "word = \"Hello, szakkör!\"\n",
    "\n",
    "# megoldás:\n"
   ]
  },
  {
   "cell_type": "markdown",
   "metadata": {},
   "source": [
    "### **3. feladat**: Írjuk ki a `quote` változóban megadott idézet nagybetűit!"
   ]
  },
  {
   "cell_type": "code",
   "execution_count": null,
   "metadata": {},
   "outputs": [],
   "source": [
    "quote = \"\"\"\n",
    "De eltekintve a Csatornáktól, Gógyászattól, \n",
    "Oktatástól, Bortól, Közrendtől, Öntözéstől, Utaktól, \n",
    "Vízvezetéktől, mit tettek a Rómaiak értünk? \n",
    "\"\"\"\n",
    "\n",
    "# megoldás:\n"
   ]
  },
  {
   "cell_type": "markdown",
   "metadata": {},
   "source": [
    "### **4. feladat**: Írjuk ki 0 és 100 között azokat a számokat, amik 7-tel oszthatók!"
   ]
  },
  {
   "cell_type": "code",
   "execution_count": null,
   "metadata": {},
   "outputs": [],
   "source": [
    "# megoldás:\n"
   ]
  },
  {
   "cell_type": "markdown",
   "metadata": {},
   "source": [
    "### **5. feladat**: Módosítsd úgy az alábbi ciklust, hogy megálljon, amikor megtalálja az első, nullánál nagyobb de 13-mal osztható számot! Legyen ez az utolsó szám, amit kiír!"
   ]
  },
  {
   "cell_type": "code",
   "execution_count": null,
   "metadata": {},
   "outputs": [],
   "source": [
    "for i in range(0, 101, 7):\n",
    "    print(i)"
   ]
  },
  {
   "cell_type": "markdown",
   "metadata": {},
   "source": [
    "### **6. feladat**: Módosítsd úgy az alábbi ciklust, hogy csak a 3-mal vagy 5-tel osztható számokat írja ki! Használd a `continue` utasítást!"
   ]
  },
  {
   "cell_type": "code",
   "execution_count": null,
   "metadata": {},
   "outputs": [],
   "source": [
    "for i in range(21):\n",
    "    print(i)"
   ]
  }
 ],
 "metadata": {
  "kernelspec": {
   "display_name": "Python 3",
   "language": "python",
   "name": "python3"
  },
  "language_info": {
   "codemirror_mode": {
    "name": "ipython",
    "version": 3
   },
   "file_extension": ".py",
   "mimetype": "text/x-python",
   "name": "python",
   "nbconvert_exporter": "python",
   "pygments_lexer": "ipython3",
   "version": "3.8.5"
  }
 },
 "nbformat": 4,
 "nbformat_minor": 4
}
