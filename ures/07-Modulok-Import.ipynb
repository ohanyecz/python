{
 "cells": [
  {
   "cell_type": "markdown",
   "metadata": {},
   "source": [
    "# Modulok, `import`"
   ]
  },
  {
   "cell_type": "markdown",
   "metadata": {},
   "source": [
    "Gyakran előfordul, hogy egy függvényt szeretnénk azután is felhasználni, hogy kikapcsoltuk a számítógépet, minden egyes alkalommal újra meg kéne írni a függvényeket. Ezért ésszerű lenne egy olyan rendszer létrehozása, ami valamilyen módon megtartja a függvényeinket, hogy később újra fel tudjuk használni ezeket. \n",
    "\n",
    "Amikor hosszabb programot írunk, akkor egy *szkriptet* írunk. Ez azt jelenti, hogy egy szövegszerkesztőben (nem Word, nem Jegyzettömb) megírjuk a futtatni kívánt programot, majd ezt a *fájlt* futtatjuk le. Amikor egy program már tényleg nagy lesz, ésszerűnek tűnik az egyes összefüggő részeket külön fájlokba szerkeszteni, és ezeket *importálni* abba a skriptbe, ahol használni szeretnénk.\n",
    "\n",
    "Amikor függvényeket és változókat fájlokba szerkesztünk, akkor *modularizáljuk* a programot, azaz jól elkülöníthető részekre bontjuk a programunkat. Egy ilyen modult általában a *főmodulba* importálunk, aminek a futtatásával megkapjuk a szkriptünk eredményét. Egy ilyen modul a `.py` fájlkiterjesztést kapja. \n",
    "\n",
    "Összefoglalva:\n",
    "- a modul függvényeket és változókat tartalmazó fájl\n",
    "- amikor használni akarunk egy modult, importáljuk\n",
    "- a programot, amit futtatunk, főmodulnak (angolul simán *main*) hívjuk\n",
    "- minden modul a `.py` kiterjesztést kapja"
   ]
  },
  {
   "cell_type": "markdown",
   "metadata": {},
   "source": [
    "Egy modult a fájl neve alapján importálunk be, ahol a kiterjesztéseket elhagyjuk. Ha például egy modul neve `awesome.py`, akkor azt az `import awesome` módon tudjuk beimportálni. Az `import` utasításokat mindig a modulok elejére írjuk.\n",
    "\n",
    "Hogyan tudunk használni egy beimportált függvényt? Amikor beimportálunk egy modult, akkor az abban definiált függvények és változók bekerülnek a Python szimbólumtáblájába (ahonnan tudni fogja, hogy mit kell meghívni), és ezeket a pont (`.`) operátor segítségével tudjuk elérni. Ha az `awesome` modulban van egy `print_hello()` függvény, akkor azt az `awesome.print_hello()` módon tudjuk elérni."
   ]
  },
  {
   "cell_type": "markdown",
   "metadata": {},
   "source": [
    "### **Közös feladat**: Készítsünk és használjunk egy modult!\n",
    "\n",
    "- Készítsünk egy modult, ami a függvényeknél megírt Fibonacci-sorozatokat számoló függvényeket tartalmazza! A modul neve legyen `fibonacci.py`!\n",
    "- Importáljuk be a `main.py` modulba!\n",
    "- Hívjuk meg az egyik függvényt a főmodulban!"
   ]
  },
  {
   "cell_type": "markdown",
   "metadata": {},
   "source": [
    "Mi van akkor, ha két különböző modulban ugyanolyan nevű függvények vannak? Minden modulnak van egy saját szimbólumtáblája, ami a modulban definiált változókat és függvényeket tartalmazza, így ez nem fordulhat elő. Később látni fogjuk, hogy van az importálásnak olyan fajtája, ami nem veszi ezt figyelembe, így okozhat gondot."
   ]
  },
  {
   "cell_type": "markdown",
   "metadata": {},
   "source": [
    "## Különböző `import` módok"
   ]
  },
  {
   "cell_type": "markdown",
   "metadata": {},
   "source": [
    "Az `import` lehetővé teszi, hogy konkrét függvényt importáljunk a modulba és ne kelljen a `.` operátort használni. Ehhez a `from` kulcsszót használhatjuk. Ennek a formája a következő: `from modulnév import függvények`. Az `import` kulcsszó után vesszővel elválasztva egyszerre több függvényt is írhatunk. Ilyenkor a függvényekhez tartozó zárójeleket nem írjuk ki."
   ]
  },
  {
   "cell_type": "code",
   "execution_count": null,
   "metadata": {},
   "outputs": [],
   "source": []
  },
  {
   "cell_type": "markdown",
   "metadata": {},
   "source": [
    "Ha beimportáltuk a függvényeket, ugyanúgy tudjuk használni, mint eddig:"
   ]
  },
  {
   "cell_type": "code",
   "execution_count": null,
   "metadata": {},
   "outputs": [],
   "source": []
  },
  {
   "cell_type": "markdown",
   "metadata": {},
   "source": [
    "Ennek a hátránya, hogy ilyenkor csak azok a függvények importálódnak be, amiket kiírtunk az `import` során, különben a Python szólni fog, hogy olyan függvényt akarunk használni, amit nem definiáltunk:"
   ]
  },
  {
   "cell_type": "code",
   "execution_count": null,
   "metadata": {},
   "outputs": [],
   "source": []
  },
  {
   "cell_type": "markdown",
   "metadata": {},
   "source": [
    "Lehetőség van az összes függvény és változó beimportálására úgy, hogy nem kell a `.` segítségével meghívni. Ezt a `*` segítségével tehetjük meg. Ha egy függvény alulvonással (`_`) kezdődik, azokat így nem lehet beimportálni."
   ]
  },
  {
   "cell_type": "code",
   "execution_count": null,
   "metadata": {},
   "outputs": [],
   "source": []
  },
  {
   "cell_type": "markdown",
   "metadata": {},
   "source": [
    "Vigyázzunk, mert ha másik modulban van egy ugyanolyan nevű függvény, akkor csak az egyik lesz elérhető (hogy melyik, az az importálás sorrendjétől függ). Ezért ezt ne használjuk (és rossz programozói viselkedés is, ha mégis)."
   ]
  },
  {
   "cell_type": "markdown",
   "metadata": {},
   "source": [
    "Ha egy importálandó modul neve hosszú, akkor az `as` kulcsszóval adhatunk neki másik nevet. Innentől az új néven tudunk hivatkozni a modulra, a függvények nevei, ahogy eddig, nem változnak:"
   ]
  },
  {
   "cell_type": "code",
   "execution_count": null,
   "metadata": {},
   "outputs": [],
   "source": []
  },
  {
   "cell_type": "markdown",
   "metadata": {},
   "source": [
    "Végül lehetőség van a fentiek kombinálására (a `*`-ot itt se használjuk!):"
   ]
  },
  {
   "cell_type": "code",
   "execution_count": null,
   "metadata": {},
   "outputs": [],
   "source": []
  },
  {
   "cell_type": "markdown",
   "metadata": {},
   "source": [
    "## A Python Standard Library\n",
    "\n",
    "A [Python Standard Library](https://docs.python.org/3/library/index.html) modulok gyűjteménye, ami a Python feltelepítésekor elérhetőek. Gyakran használt modulok (a neveik a dokumentációra mutatnak):\n",
    "\n",
    "- a [`math`](https://docs.python.org/3/library/math.html) modul matematikai függvényeket tartalmaz\n",
    "- a [`random`](https://docs.python.org/3/library/random.html) modul randomszám generátorokat tartalmaz\n",
    "- a [`time`](https://docs.python.org/3/library/time.html) modul idővel kapcsolatos átváltások végezhetők el\n",
    "\n",
    "A továbbiakban egy korántsem teljes bemutatása lesz az egyes moduloknak."
   ]
  },
  {
   "cell_type": "markdown",
   "metadata": {},
   "source": [
    "### `math`"
   ]
  },
  {
   "cell_type": "code",
   "execution_count": null,
   "metadata": {},
   "outputs": [],
   "source": []
  },
  {
   "cell_type": "markdown",
   "metadata": {},
   "source": [
    "Néhány konstans definiálva van benne:"
   ]
  },
  {
   "cell_type": "code",
   "execution_count": null,
   "metadata": {},
   "outputs": [],
   "source": []
  },
  {
   "cell_type": "code",
   "execution_count": null,
   "metadata": {},
   "outputs": [],
   "source": []
  },
  {
   "cell_type": "markdown",
   "metadata": {},
   "source": [
    "És egy csomó más függvény, például:"
   ]
  },
  {
   "cell_type": "code",
   "execution_count": null,
   "metadata": {},
   "outputs": [],
   "source": []
  },
  {
   "cell_type": "code",
   "execution_count": null,
   "metadata": {},
   "outputs": [],
   "source": []
  },
  {
   "cell_type": "code",
   "execution_count": null,
   "metadata": {},
   "outputs": [],
   "source": []
  },
  {
   "cell_type": "code",
   "execution_count": null,
   "metadata": {},
   "outputs": [],
   "source": []
  },
  {
   "cell_type": "code",
   "execution_count": null,
   "metadata": {},
   "outputs": [],
   "source": []
  },
  {
   "cell_type": "code",
   "execution_count": null,
   "metadata": {},
   "outputs": [],
   "source": []
  },
  {
   "cell_type": "markdown",
   "metadata": {},
   "source": [
    "### `random`"
   ]
  },
  {
   "cell_type": "code",
   "execution_count": null,
   "metadata": {},
   "outputs": [],
   "source": []
  },
  {
   "cell_type": "markdown",
   "metadata": {},
   "source": [
    "A `random` modullal random számokat lehet generálni különböző eloszlások szerint, valamint valamilyen sorozatból (például listából) lehet véletlenszerűen elemeket kiválasztani."
   ]
  },
  {
   "cell_type": "markdown",
   "metadata": {},
   "source": [
    "Egy random `float` generálása a [0.0 ,1.0) intervallumban:"
   ]
  },
  {
   "cell_type": "code",
   "execution_count": null,
   "metadata": {},
   "outputs": [],
   "source": []
  },
  {
   "cell_type": "markdown",
   "metadata": {},
   "source": [
    "Egy random `int` típusú számot a `randrange()` függvénnyel lehet generálni a megadott intervallumon belül:"
   ]
  },
  {
   "cell_type": "code",
   "execution_count": null,
   "metadata": {},
   "outputs": [],
   "source": []
  },
  {
   "cell_type": "markdown",
   "metadata": {},
   "source": [
    "Egy sorozatból (listából, halmazból, stb.) a `choice()` függvénnyel lehet egy random elemet kiszedni:"
   ]
  },
  {
   "cell_type": "code",
   "execution_count": null,
   "metadata": {},
   "outputs": [],
   "source": []
  },
  {
   "cell_type": "markdown",
   "metadata": {},
   "source": [
    "Visszatevéses kiválasztást a `choices()` függvénnyel lehet csinálni. Az első paraméterbe a sorozatot (listát, halmazt, stb), a másodikba az elemek súlyát lehet (ez nem szükséges, de ugyanolyan hosszúnak kell lenni, mint a sorozatnak), végül az kiválasztott elemek számát lehet megadni:"
   ]
  },
  {
   "cell_type": "code",
   "execution_count": null,
   "metadata": {},
   "outputs": [],
   "source": []
  },
  {
   "cell_type": "code",
   "execution_count": null,
   "metadata": {},
   "outputs": [],
   "source": []
  },
  {
   "cell_type": "markdown",
   "metadata": {},
   "source": [
    "Visszatevés nélküli kiválasztást a `sample()` függvénnyel lehet csinálni. Az első paraméterbe egy sorozatot (listát, halmazt, stb.) kell megadni, a másodikba meg a kiválasztott elemek számát. A visszatérési érték egy lista lesz az elemekkel:"
   ]
  },
  {
   "cell_type": "code",
   "execution_count": null,
   "metadata": {},
   "outputs": [],
   "source": []
  },
  {
   "cell_type": "markdown",
   "metadata": {},
   "source": [
    "### `time`"
   ]
  },
  {
   "cell_type": "markdown",
   "metadata": {},
   "source": [
    "A `time` modul függvényeit a leggyakrabban időmérésre, illetve várakozásra használják, így ezeket fogjuk mi is megnézni."
   ]
  },
  {
   "cell_type": "code",
   "execution_count": null,
   "metadata": {},
   "outputs": [],
   "source": []
  },
  {
   "cell_type": "markdown",
   "metadata": {},
   "source": [
    "Ha várakozni szeretnénk valahol a programban, akkor azt a `sleep()` függvénnyel mondhatjuk meg. Paraméterül egy számot kell megadni, ami megmondja, hány másodpercig várjon a program. Fontos, hogy eközben nem történik semmi más, csak áll a program futása."
   ]
  },
  {
   "cell_type": "code",
   "execution_count": null,
   "metadata": {},
   "outputs": [],
   "source": []
  },
  {
   "cell_type": "markdown",
   "metadata": {},
   "source": [
    "A `time()` függvénnyel lekérhetjük az aktuális időt, ami 1970. január 1. 00:00 óta eltelt másodperceket adja vissza:"
   ]
  },
  {
   "cell_type": "code",
   "execution_count": null,
   "metadata": {},
   "outputs": [],
   "source": []
  },
  {
   "cell_type": "markdown",
   "metadata": {},
   "source": [
    "A `time()` függvény kiválóan alkalmas az eltelt idő mérésére:"
   ]
  },
  {
   "cell_type": "code",
   "execution_count": null,
   "metadata": {},
   "outputs": [],
   "source": []
  }
 ],
 "metadata": {
  "kernelspec": {
   "display_name": "Python 3",
   "language": "python",
   "name": "python3"
  },
  "language_info": {
   "codemirror_mode": {
    "name": "ipython",
    "version": 3
   },
   "file_extension": ".py",
   "mimetype": "text/x-python",
   "name": "python",
   "nbconvert_exporter": "python",
   "pygments_lexer": "ipython3",
   "version": "3.8.5"
  }
 },
 "nbformat": 4,
 "nbformat_minor": 4
}
