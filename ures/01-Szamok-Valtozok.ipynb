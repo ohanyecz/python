{
 "cells": [
  {
   "cell_type": "markdown",
   "metadata": {},
   "source": [
    "# Számok, változók, string-ek"
   ]
  },
  {
   "cell_type": "markdown",
   "metadata": {},
   "source": [
    "## Egész és tört számok"
   ]
  },
  {
   "cell_type": "markdown",
   "metadata": {},
   "source": [
    "Számokkal végezhető műveletek: `+`, `-`, `*`, `/`, `//`, `**`, `%`"
   ]
  },
  {
   "cell_type": "code",
   "execution_count": null,
   "metadata": {},
   "outputs": [],
   "source": []
  },
  {
   "cell_type": "code",
   "execution_count": null,
   "metadata": {},
   "outputs": [],
   "source": []
  },
  {
   "cell_type": "code",
   "execution_count": null,
   "metadata": {},
   "outputs": [],
   "source": []
  },
  {
   "cell_type": "code",
   "execution_count": null,
   "metadata": {},
   "outputs": [],
   "source": []
  },
  {
   "cell_type": "code",
   "execution_count": null,
   "metadata": {},
   "outputs": [],
   "source": []
  },
  {
   "cell_type": "code",
   "execution_count": null,
   "metadata": {},
   "outputs": [],
   "source": []
  },
  {
   "cell_type": "code",
   "execution_count": null,
   "metadata": {},
   "outputs": [],
   "source": []
  },
  {
   "cell_type": "markdown",
   "metadata": {},
   "source": [
    "A számok típusa a beépített `type()` függvénnyel kérhető le:"
   ]
  },
  {
   "cell_type": "code",
   "execution_count": null,
   "metadata": {},
   "outputs": [],
   "source": []
  },
  {
   "cell_type": "code",
   "execution_count": null,
   "metadata": {},
   "outputs": [],
   "source": []
  },
  {
   "cell_type": "markdown",
   "metadata": {},
   "source": [
    "Az operátorok precedenciája megmondja, hogy melyik műveletet végzi el a Python előbb. Az erősebb predecendiájú művelet mindig elsőbbséget élvez, ezután következnek a gyengébb precedenciájú műveletek. \n",
    "\n",
    "Pythonban a számokon értelmezett műveletek precedenciája az erősebbtől a gyengébbig:\n",
    "* `**`\n",
    "* `*`, `/`, `//`, `%`\n",
    "* `+`, `-`\n",
    "\n",
    "Az ugyanolyan precedenciájú műveletek abban a sorrendben hajtódnak végre, ahogy leírtuk. \n",
    "\n",
    "Az alábbi kifejezésben a hatványozás (`**`) előbb fog elvégződni, mint a szorzás (`*`), majd ezt követi az összeadás (`+`):"
   ]
  },
  {
   "cell_type": "code",
   "execution_count": null,
   "metadata": {},
   "outputs": [],
   "source": []
  },
  {
   "cell_type": "markdown",
   "metadata": {},
   "source": [
    "Zárójelekkel a műveletek végzési sorrendje módosítható:"
   ]
  },
  {
   "cell_type": "code",
   "execution_count": null,
   "metadata": {},
   "outputs": [],
   "source": []
  },
  {
   "cell_type": "markdown",
   "metadata": {},
   "source": [
    "Néhány megjegyzés:\n",
    "\n",
    "* akármilyen kicsi és nagy számok leírhatók (C típusú nyelvekben nem)\n",
    "* akármilyen pontos tört számot írhatunk, de kiíráskor kerekítődik az értéke ([a dokumentációban](https://docs.python.org/3/tutorial/floatingpoint.html) részletesen le van írva, hogyan működik a `float` ábrázolása Pythonban)\n",
    "* ha a műveleteknél bármelyik paraméter `float` típusú szám, akkor az eredmény is `float` típusú lesz\n",
    "* az osztás (`/`) művelet mindig `float` típusú számod ad eredményül"
   ]
  },
  {
   "cell_type": "markdown",
   "metadata": {},
   "source": [
    "## Változók"
   ]
  },
  {
   "cell_type": "markdown",
   "metadata": {},
   "source": [
    "Érvényes változónevek:\n",
    "\n",
    "* Csak betűket (kis- és nagybetűk), számokat és alulvonást (_)tartalmazhat\n",
    "* Nem kezdődhet számmal\n",
    "* Nem tartalmazhat csak számokat\n",
    "* De alulvonással kezdődhet\n",
    "\n",
    "Érvényes változónevek: `a`, `_a`, `a1`, `eggs3`, `_123`\n",
    "\n",
    "Hibás változónevek: `1a`, `1`, `123_` és a *kulcsszavak*"
   ]
  },
  {
   "cell_type": "markdown",
   "metadata": {},
   "source": [
    "A változók definiálásuk után felhasználhatók:"
   ]
  },
  {
   "cell_type": "code",
   "execution_count": null,
   "metadata": {},
   "outputs": [],
   "source": []
  },
  {
   "cell_type": "markdown",
   "metadata": {},
   "source": [
    "Ismeretlen változó használata hibát ad:"
   ]
  },
  {
   "cell_type": "code",
   "execution_count": null,
   "metadata": {},
   "outputs": [],
   "source": []
  },
  {
   "cell_type": "markdown",
   "metadata": {},
   "source": [
    "A `NameError` lesz a hiba, és a hibaüzenetben megmondja, hogy a `b` változó nincs definiálva. A hibák kezelésével később foglalkozunk."
   ]
  },
  {
   "cell_type": "markdown",
   "metadata": {},
   "source": [
    "Ugyanazt az értéket egyszerre több változóhoz is rendelhetjük:"
   ]
  },
  {
   "cell_type": "code",
   "execution_count": null,
   "metadata": {},
   "outputs": [],
   "source": []
  },
  {
   "cell_type": "markdown",
   "metadata": {},
   "source": [
    "Különböző értékek adása több változóhoz:"
   ]
  },
  {
   "cell_type": "code",
   "execution_count": null,
   "metadata": {},
   "outputs": [],
   "source": []
  },
  {
   "cell_type": "markdown",
   "metadata": {},
   "source": [
    "Változók értékeinek felcserélése a C típusú nyelvekben egy ideiglenes változó bevezetésével lehetséges:"
   ]
  },
  {
   "cell_type": "code",
   "execution_count": null,
   "metadata": {},
   "outputs": [],
   "source": []
  },
  {
   "cell_type": "markdown",
   "metadata": {},
   "source": [
    "Pythonban a változók felcserélése egy darab értékadással megtörténhet:"
   ]
  },
  {
   "cell_type": "code",
   "execution_count": null,
   "metadata": {},
   "outputs": [],
   "source": []
  },
  {
   "cell_type": "markdown",
   "metadata": {},
   "source": [
    "Mi történik itt?\n",
    "\n",
    "* Amikor értéket adunk egy változónak, az értékadás jobb oldala mindig előbb fog kiértékelődni Pythonban, mint a bal oldal. Tehát az `a, b = b, a` értékadásnál a `b, a` mint egy rendezett pár létrejön a számítógép memóriájában. \n",
    "* A bal oldalon két változónév található, a Python a háttérben kibontja a memóriában lévő `b, a` rendezett párt.\n",
    "* Ezután a bal oldalon lévő `a` változónak megfelelteti a pár első elemét, amit korábban `b`-nek hívtunk.\n",
    "* Ezután a bal oldalon lévő `b` változónak megfelelteti a pár második elemét, amit korábban `a`-nak hívtunk.\n",
    "\n",
    "A folyamat eredménye az lesz, hogy az `a` és a `b` változó értéke felcserélődött."
   ]
  }
 ],
 "metadata": {
  "kernelspec": {
   "display_name": "Python 3",
   "language": "python",
   "name": "python3"
  },
  "language_info": {
   "codemirror_mode": {
    "name": "ipython",
    "version": 3
   },
   "file_extension": ".py",
   "mimetype": "text/x-python",
   "name": "python",
   "nbconvert_exporter": "python",
   "pygments_lexer": "ipython3",
   "version": "3.8.5"
  }
 },
 "nbformat": 4,
 "nbformat_minor": 4
}
