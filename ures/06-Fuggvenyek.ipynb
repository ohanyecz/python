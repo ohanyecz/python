{
 "cells": [
  {
   "cell_type": "markdown",
   "metadata": {},
   "source": [
    "# Függvények"
   ]
  },
  {
   "cell_type": "markdown",
   "metadata": {},
   "source": [
    "A legtöbb programozási nyelv engedi, hogy a programozó által írt programokat külön, újrafelhasználható részekbe, függvényekbe szervezze. Ezek segítségével a kód olvashatóbb és fenntarthatóbb lesz."
   ]
  },
  {
   "cell_type": "markdown",
   "metadata": {},
   "source": [
    "A függvényekbe a következőket lehet írni:\n",
    "\n",
    "* A paraméterek listája, ami lehet üres is, ekkor nem vár a függvény paramétert.\n",
    "* Az első sor tartalmazhat egy string-et, ami a függvény dokumentációja lesz (docstring). Ezt használják bizonyos programok dokumentáció generálására.\n",
    "* A függvény törzsébe a lefuttatni kívánt utasítások kerülnek.\n",
    "* A függvénynek lehet explicit visszatérési értéke, amit a `return` kulcsszóval adunk meg. Ha ez nem szerepel, akkor van egy implicit visszatérési érték: `None`"
   ]
  },
  {
   "cell_type": "markdown",
   "metadata": {},
   "source": [
    "Függvény definiálása a `def` kulcsszóval lehetséges, amit a függvény neve és a paraméterek listája követ:"
   ]
  },
  {
   "cell_type": "code",
   "execution_count": null,
   "metadata": {},
   "outputs": [],
   "source": []
  },
  {
   "cell_type": "markdown",
   "metadata": {},
   "source": [
    "Figyeljünk az indentálásra! Ha már definiálva van a függvény, *meghívhatjuk* tetszőleges paraméterrel:"
   ]
  },
  {
   "cell_type": "code",
   "execution_count": null,
   "metadata": {},
   "outputs": [],
   "source": []
  },
  {
   "cell_type": "markdown",
   "metadata": {},
   "source": [
    "Ha rossz *típusú* dolgot adunk át, hibát kaphatunk:"
   ]
  },
  {
   "cell_type": "code",
   "execution_count": null,
   "metadata": {},
   "outputs": [],
   "source": []
  },
  {
   "cell_type": "markdown",
   "metadata": {},
   "source": [
    "A paraméter nélküli függvények meghívásakor is ki kell írni a zárójeleket:"
   ]
  },
  {
   "cell_type": "code",
   "execution_count": null,
   "metadata": {},
   "outputs": [],
   "source": []
  },
  {
   "cell_type": "code",
   "execution_count": null,
   "metadata": {},
   "outputs": [],
   "source": []
  },
  {
   "cell_type": "markdown",
   "metadata": {},
   "source": [
    "A ciklusoknál írtunk egy ciklust, ami megadja az első `n` darab Fibonacci-számot. Írjuk át ezt egy függvénybe, ami azt várja paraméterül, hogy hány számot írjon ki a függvény!"
   ]
  },
  {
   "cell_type": "code",
   "execution_count": null,
   "metadata": {},
   "outputs": [],
   "source": []
  },
  {
   "cell_type": "code",
   "execution_count": null,
   "metadata": {},
   "outputs": [],
   "source": []
  },
  {
   "cell_type": "markdown",
   "metadata": {},
   "source": [
    "## Visszatérési értékek megadása"
   ]
  },
  {
   "cell_type": "markdown",
   "metadata": {},
   "source": [
    "Egy függvény rendelkezhet visszatérési értékkel annak érdekében, hogy a függvény eredményét később fel tudjuk használni. A visszatérési értéket a `return` kulcsszóval adhatjuk meg. Ahogy korábban volt szó róla, ha nem adunk meg egy visszatérési értéket, akkor is rendelkezni fog egyel a függvény. Ez lesz a `None`, amit más nyelvekben null, nil néven neveznek. A `None` egy speciális érték, aminek az intuitív jelentése, hogy \"nincs itt semmi\", és a típusa `NoneType`."
   ]
  },
  {
   "cell_type": "markdown",
   "metadata": {},
   "source": [
    "A következő függvénynek tehát `None` lesz a visszatérési értéke, mert nincs benne `return` érték:"
   ]
  },
  {
   "cell_type": "code",
   "execution_count": null,
   "metadata": {},
   "outputs": [],
   "source": []
  },
  {
   "cell_type": "markdown",
   "metadata": {},
   "source": [
    "A `print()` függvényt használva kiírható a visszatérési érték ilyenkor is:"
   ]
  },
  {
   "cell_type": "code",
   "execution_count": null,
   "metadata": {},
   "outputs": [],
   "source": []
  },
  {
   "cell_type": "markdown",
   "metadata": {},
   "source": [
    "Az előző függvény visszatérési értéke legyen a művelet eredménye:"
   ]
  },
  {
   "cell_type": "code",
   "execution_count": null,
   "metadata": {},
   "outputs": [],
   "source": []
  },
  {
   "cell_type": "code",
   "execution_count": null,
   "metadata": {},
   "outputs": [],
   "source": []
  },
  {
   "cell_type": "markdown",
   "metadata": {},
   "source": [
    "A függvények visszatérési értékét természetesen átadhatjuk egy változónak:"
   ]
  },
  {
   "cell_type": "code",
   "execution_count": null,
   "metadata": {},
   "outputs": [],
   "source": []
  },
  {
   "cell_type": "markdown",
   "metadata": {},
   "source": [
    "## Alapértelmezett paraméterek"
   ]
  },
  {
   "cell_type": "markdown",
   "metadata": {},
   "source": [
    "Ha egy argumentumnak alapértelmezett értéket akarunk adni, akkor a függvény definiálásakor megtehetjük kulcs-érték párok segítségével:"
   ]
  },
  {
   "cell_type": "code",
   "execution_count": null,
   "metadata": {},
   "outputs": [],
   "source": []
  },
  {
   "cell_type": "markdown",
   "metadata": {},
   "source": [
    "Alapértelmezett argumentummal rendelkező függvényt többféleképpen meg lehet hívni:"
   ]
  },
  {
   "cell_type": "code",
   "execution_count": null,
   "metadata": {},
   "outputs": [],
   "source": []
  },
  {
   "cell_type": "code",
   "execution_count": null,
   "metadata": {},
   "outputs": [],
   "source": []
  },
  {
   "cell_type": "code",
   "execution_count": null,
   "metadata": {},
   "outputs": [],
   "source": []
  },
  {
   "cell_type": "markdown",
   "metadata": {},
   "source": [
    "De ha a kötelezően megadandó argumentumot nem adjuk meg, hibát kapunk:"
   ]
  },
  {
   "cell_type": "code",
   "execution_count": null,
   "metadata": {},
   "outputs": [],
   "source": []
  },
  {
   "cell_type": "markdown",
   "metadata": {},
   "source": [
    "Az alapértelmezett argumentumokra a következő szabályok vonatkoznak:\n",
    "\n",
    "* a kötelezően megadandó argumentum a lista elejére kerül\n",
    "* az kulcs-érték párokkal megadott alapértelmezett argumentumok a kötelezően megadandó argumentumok után kerülnek\n",
    "* egy argumentumot legfeljebb egyszer lehet átadni\n",
    "* legfeljebb annyi argumentumot lehet megadni a híváskor, amennyit definiáláskor megadtunk (ez kiterjeszthető)"
   ]
  },
  {
   "cell_type": "markdown",
   "metadata": {},
   "source": [
    "**Fontos**: az alapértelmezett argumentum pontosan egyszer, a függvény definiálásakor értékelődik ki:"
   ]
  },
  {
   "cell_type": "code",
   "execution_count": null,
   "metadata": {},
   "outputs": [],
   "source": []
  },
  {
   "cell_type": "markdown",
   "metadata": {},
   "source": [
    "A Python ezen tulajdonsága miatt mutable objektumot (pl: listát) nem szabad megadni alapértelmezett argumentumként (habár a Python nem szól miatta):"
   ]
  },
  {
   "cell_type": "code",
   "execution_count": null,
   "metadata": {},
   "outputs": [],
   "source": []
  },
  {
   "cell_type": "markdown",
   "metadata": {},
   "source": [
    "Lista esetén a fenti függvény összes meghívásakor a legfrisebb lista lesz az alapértelmezett argumentum."
   ]
  },
  {
   "cell_type": "markdown",
   "metadata": {},
   "source": [
    "## Dokumentációs string (*docstring*)"
   ]
  },
  {
   "cell_type": "markdown",
   "metadata": {},
   "source": [
    "A dokumentációs string szerepe, hogy elmagyarázza a felhasználónak, mit csinál a függvény. A szabályok a következők:\n",
    "\n",
    "- az első sor egy rövid, tömör leírása a függvény működésének\n",
    "- további bekezdések hozzáadhatók, ebben részletezni lehet a működést\n",
    "- megadhatók továbbá a paraméterek jelentései és a visszatérési érték\n",
    "\n",
    "A dokumentációs string nem csinál semmit, csak dokumentálja a függvény működését. Ebből szoktak az automatikus dokumentum-generáló programok dokumentumot generálni."
   ]
  },
  {
   "cell_type": "code",
   "execution_count": null,
   "metadata": {},
   "outputs": [],
   "source": []
  },
  {
   "cell_type": "markdown",
   "metadata": {},
   "source": [
    "Jupyter-ben két módja van a docstring lekérésének. Az egyik a Python-ba beépített `help()` függvény, aminek a paraméterébe megadjuk a függvény *nevét* zárójelek nélkül:"
   ]
  },
  {
   "cell_type": "code",
   "execution_count": null,
   "metadata": {},
   "outputs": [],
   "source": []
  },
  {
   "cell_type": "markdown",
   "metadata": {},
   "source": [
    "A másik módja: a program írása közben a függvény zárójelei között Shift+Tab billentyűkömbinációval lekérhetjük a dokumentációt. Más fejlesztői környezetekben ez máshogy megy."
   ]
  },
  {
   "cell_type": "code",
   "execution_count": null,
   "metadata": {},
   "outputs": [],
   "source": []
  },
  {
   "cell_type": "markdown",
   "metadata": {},
   "source": [
    "## Lambda kifejezések"
   ]
  },
  {
   "cell_type": "markdown",
   "metadata": {},
   "source": [
    "Egyszerű függvények megadhatók névtelenül a `lambda` kulcsszóval. A következő függvény visszaadja a paraméterül kapott két szám összegét:"
   ]
  },
  {
   "cell_type": "code",
   "execution_count": null,
   "metadata": {},
   "outputs": [],
   "source": []
  },
  {
   "cell_type": "markdown",
   "metadata": {},
   "source": [
    "Ami ezzel a függvénnyel ekvivalens"
   ]
  },
  {
   "cell_type": "code",
   "execution_count": null,
   "metadata": {},
   "outputs": [],
   "source": []
  },
  {
   "cell_type": "markdown",
   "metadata": {},
   "source": [
    "A `lambda` függvény használatára egy példa:"
   ]
  },
  {
   "cell_type": "code",
   "execution_count": null,
   "metadata": {},
   "outputs": [],
   "source": []
  },
  {
   "cell_type": "markdown",
   "metadata": {},
   "source": [
    "Akkor hasznosak, ha egy függvényt szeretnénk átadni egy másik függvénynek és nem akarjuk fölöslegesen deiniálni azt (mert mondjuk csak egyszer használnánk). A listáknál a `sort()` metódus ilyen, ott megadhatjuk, hogy milyen elv szerint rendezze a lista elemeit:"
   ]
  },
  {
   "cell_type": "code",
   "execution_count": null,
   "metadata": {},
   "outputs": [],
   "source": []
  },
  {
   "cell_type": "markdown",
   "metadata": {},
   "source": [
    "A fenti kód ekvivalens ezzel:"
   ]
  },
  {
   "cell_type": "code",
   "execution_count": null,
   "metadata": {},
   "outputs": [],
   "source": []
  },
  {
   "cell_type": "markdown",
   "metadata": {},
   "source": [
    "## Feladatok"
   ]
  },
  {
   "cell_type": "markdown",
   "metadata": {},
   "source": [
    "### **1. feladat**: Írjuk át a Fibonacci-sorozatot megadó függvényt úgy, hogy a sorozat első `n` elemének a listájával térjen vissza! Írjunk hozzá docstring-et is! A sorozat elemeit ne írja ki a függvény."
   ]
  },
  {
   "cell_type": "code",
   "execution_count": null,
   "metadata": {},
   "outputs": [],
   "source": [
    "# megoldás:\n"
   ]
  },
  {
   "cell_type": "markdown",
   "metadata": {},
   "source": [
    "### **2. feladat**: A szinusz függvény közelíthető az alábbi sorozattal: \n",
    "\n",
    "$$\\sin x \\simeq (-1)^n \\frac{x^{2n+1}}{(2n+1)!}$$\n",
    "\n",
    "Ez a sorozat az első `n` tag összegével közelíti a szinuszt, de figyeljünk, hogy az `x` radiánban, és nem fokban van megadva! Ha például csak az első 3 tagot vesszük figyelembe:\n",
    "\n",
    "$$\\sin x \\simeq x - \\frac{x^3}{3!} + \\frac{x^5}{5!}$$\n",
    "\n",
    "Írjunk egy függvényt, ami a fenti végtelen sorozat alapján megadja a szinusz közelítő értékét! \n",
    "\n",
    "Tipp: használjuk az itt definiált `factorial()` függvényt, ami egy természetes szám faktoriálisát számolja ki!"
   ]
  },
  {
   "cell_type": "code",
   "execution_count": null,
   "metadata": {},
   "outputs": [],
   "source": [
    "def factorial(n):\n",
    "    if n == 0 or n == 1:\n",
    "        return 1\n",
    "    \n",
    "    result = 1\n",
    "    for i in range(1, n+1):\n",
    "        result *= i\n",
    "    return result\n",
    "    \n",
    "# megoldás: \n"
   ]
  },
  {
   "cell_type": "markdown",
   "metadata": {},
   "source": [
    "### **3. feladat**: Írjunk egy függvényt, ami két `float` típusú számról megmondja, hogy *nagyjából* egyenlők-e!\n",
    "\n",
    "A *nagyjából* egyenlő azt jelenti, hogy a két szám valamilyen pontossággal megegyezik. Ehhez vegyünk fel egy argumentumot, aminek a változtatásával tetszőlegesen pontosan össze tudunk számokat hasonlítani. Legyen az alapértelmezett pontosság `0.00001`! Lásd a példákat!\n",
    "\n",
    "Tipp: használjuk a beépített `abs()` függvényt, ami megadja egy szám abszolút értékét!\n",
    "\n",
    "A függvény futására példák:\n",
    "```python\n",
    "print(isclose(0.33333, 1/3))\n",
    "True\n",
    "\n",
    "print(isclose(0.3333, 1/3))\n",
    "False\n",
    "\n",
    "print(isclose(0.3333, 1/3, 1e-4))\n",
    "True\n",
    "```"
   ]
  },
  {
   "cell_type": "code",
   "execution_count": null,
   "metadata": {},
   "outputs": [],
   "source": [
    "# megoldás: \n"
   ]
  }
 ],
 "metadata": {
  "kernelspec": {
   "display_name": "Python 3",
   "language": "python",
   "name": "python3"
  },
  "language_info": {
   "codemirror_mode": {
    "name": "ipython",
    "version": 3
   },
   "file_extension": ".py",
   "mimetype": "text/x-python",
   "name": "python",
   "nbconvert_exporter": "python",
   "pygments_lexer": "ipython3",
   "version": "3.8.5"
  }
 },
 "nbformat": 4,
 "nbformat_minor": 4
}
