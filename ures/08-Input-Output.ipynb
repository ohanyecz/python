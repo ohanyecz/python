{
 "cells": [
  {
   "cell_type": "markdown",
   "metadata": {},
   "source": [
    "# Input/Output"
   ]
  },
  {
   "cell_type": "markdown",
   "metadata": {},
   "source": [
    "A legtöbb programozási nyelvben lehetőség van\n",
    "\n",
    "- kérni valamilyen adatot a felhaszálótól és\n",
    "- fájlból beolvasni (Input) és kiírni (Output) az adatokat.\n",
    "\n",
    "Ebben a részben ezzel a két dologgal foglalkozunk."
   ]
  },
  {
   "cell_type": "markdown",
   "metadata": {},
   "source": [
    "## Adat kérése a felhasználótól: az `input()` függvény"
   ]
  },
  {
   "cell_type": "markdown",
   "metadata": {},
   "source": [
    "A beépített `input()` függvénnyel lehetőség van adatot kérni a felhasználótól. Ez a függvény addig vár, amíg egy ENTER lenyomásával végzünk az adat megadásával:"
   ]
  },
  {
   "cell_type": "code",
   "execution_count": null,
   "metadata": {},
   "outputs": [],
   "source": []
  },
  {
   "cell_type": "markdown",
   "metadata": {},
   "source": [
    "Ez a függvény *mindig* string típusú adattal fog visszatérni. Ha például azt akarjuk ellenőrizni, hogy a megadott szám nagyobb vagy egyenlő mint négy, akkor az `int()` függvényt felhasználva átkonvertálhatjuk az `input()`-ból származó adatot:"
   ]
  },
  {
   "cell_type": "code",
   "execution_count": null,
   "metadata": {},
   "outputs": [],
   "source": []
  },
  {
   "cell_type": "markdown",
   "metadata": {},
   "source": [
    "Az `input()` függvénynek átadható egy string, amivel jelezhető, hogy a program most adatot vár:"
   ]
  },
  {
   "cell_type": "code",
   "execution_count": null,
   "metadata": {},
   "outputs": [],
   "source": []
  },
  {
   "cell_type": "markdown",
   "metadata": {},
   "source": [
    "## Adat olvasása fájlból és írása fájlba: az `open()` függvény"
   ]
  },
  {
   "cell_type": "markdown",
   "metadata": {},
   "source": [
    "Sokszor előfordul, hogy egy fájlban lévő adatokat kell feldolgoznunk, vagy a feldolgozott adatokat kell fájlba kiírni. Ehhez nyújt segítséget az `open()` függvény. Ennek a függvénynek leggyakrabban két paramétert adunk át: az első paraméter a fájl neve, amiből beolvasunk vagy amibe írunk, a második paraméter meg a fájl megnyitásának módja. Ebben a paraméterben azt jelezzük a Pythonnak, hogy mit fogunk csinálni a fájlal:\n",
    "\n",
    "- az `r` mód azt jelöli, hogy csak olvassuk a fájlt (ez az alapértelmezett)\n",
    "- a `w` mód azt jelöli, hogy a fájlba írunk (ha már van olyan nevű fájl, amit megnyitottunk, akkor az törlődni fog)\n",
    "- az `a` mód a hozzáadást jelöli, ez egy fájl végére hozzáírja azt, amit szeretnénk\n",
    "- az `r+` mód olvasást és írást jelöl."
   ]
  },
  {
   "cell_type": "markdown",
   "metadata": {},
   "source": [
    "Nyissuk meg a *data* mappában található *rr_lyrae.txt* fájlt, ami a TESS űrtávcső méréseit tartalmazza. Figyeljünk arra, hogy az adatok nem ebben a mappában találhatók, ezért ebből egyel vissza kell lépni a `../` segítségével, majd elérhetjük a `data/rr_lyrae.txt` útvonalon:"
   ]
  },
  {
   "cell_type": "code",
   "execution_count": null,
   "metadata": {},
   "outputs": [],
   "source": []
  },
  {
   "cell_type": "markdown",
   "metadata": {},
   "source": [
    "Ennek a megnyitási módnak van egy hátránya: mindig a programozónak kell bezárnia a fájlt a `close()` metódussal:"
   ]
  },
  {
   "cell_type": "code",
   "execution_count": null,
   "metadata": {},
   "outputs": [],
   "source": []
  },
  {
   "cell_type": "markdown",
   "metadata": {},
   "source": [
    "Sok hiba forrása lehet, ha ezt elfelejtjük kiírni, ezért inkább a `with` kulcsszót használjuk a fájl megnyitására. Ez egy összetett utasítás, ami gondoskodni fog nekünk a fájl bezárásáról, így nem kell a `close()` metódussal foglalkozni. Néhány esetben hasznos lehet a fenti mód, de ritkán fordul elő.\n",
    "\n",
    "A `with` kulcsszó után az `open()` függvényt kell használni a fájl megnyitására, amit az `as` kulcsszó követ, ami után a megnyitott fájlnak adhatunk egy nevet, majd a `:` zárja a sort. \n",
    "\n",
    "Egy fájl tartalmát string formában lehet beolvasni, aminek több módja is van. Az egyik mód a `read()` metódus, ami a fájl teljes tartalmát beolvassa egy string-be:"
   ]
  },
  {
   "cell_type": "code",
   "execution_count": null,
   "metadata": {},
   "outputs": [],
   "source": []
  },
  {
   "cell_type": "markdown",
   "metadata": {},
   "source": [
    "A `readlines()` metódus egy listát ad, aminek egy eleme a fájl egy sorát fogja tartalmazni:"
   ]
  },
  {
   "cell_type": "code",
   "execution_count": null,
   "metadata": {},
   "outputs": [],
   "source": []
  },
  {
   "cell_type": "markdown",
   "metadata": {},
   "source": [
    "A `readline()` metódus pontosan egy sort olvas be a fájlból:"
   ]
  },
  {
   "cell_type": "code",
   "execution_count": null,
   "metadata": {},
   "outputs": [],
   "source": []
  },
  {
   "cell_type": "markdown",
   "metadata": {},
   "source": [
    "Figyeljük meg az üres sort az adatok között! Ez azért van, mert a fájl beolvasásakor az újsor karakterek (`\\n`) mindig beolvasásra kerülnek és a kiíráskor egy üres sort fognak eredményezni! Mivel egy sor az egy string, használhatjuk rá a Stringeknél megismert `strip()` metódust, ami ezeket az újsor karaktereket fogja levágni.\n",
    "\n",
    "Ha a `readline()` használatakor elérünk a fájl végére, akkor egy üres stringet (`''`) kapunk eredményül."
   ]
  },
  {
   "cell_type": "markdown",
   "metadata": {},
   "source": [
    "Lehetőség van egy fájl tartalmát soronként beolvasni. Ezt egy ciklussal hatékonyan megtehetjük és nem fogja a fájl teljes tartalmát a számítógép memóriájában tartani, mint a `read()` vagy `readlines()` metódusok:"
   ]
  },
  {
   "cell_type": "code",
   "execution_count": null,
   "metadata": {},
   "outputs": [],
   "source": []
  },
  {
   "cell_type": "markdown",
   "metadata": {},
   "source": [
    "Fájlba íráskor a `write()` metódus használandó. Ez egy stringet vár paraméterül, amit abba a fájlba fog kiírni, amit megnyitottunk a `with` kulcsszóval. Fontos, hogy ha írni akarunk a fájlba, akkor a mode `w` legyen, különben hibát kapunk!"
   ]
  },
  {
   "cell_type": "code",
   "execution_count": null,
   "metadata": {},
   "outputs": [],
   "source": []
  },
  {
   "cell_type": "markdown",
   "metadata": {},
   "source": [
    "Természetesen listát is kiírhatunk egy fájlba, de a lista elemeit stringgé kell konvertálni:"
   ]
  },
  {
   "cell_type": "code",
   "execution_count": null,
   "metadata": {},
   "outputs": [],
   "source": []
  },
  {
   "cell_type": "markdown",
   "metadata": {},
   "source": [
    "## Feladatok"
   ]
  },
  {
   "cell_type": "markdown",
   "metadata": {},
   "source": [
    "### **1. feladat**: Készítsük el a következő programot:\n",
    "\n",
    "- Generáljunk egy random egész számot 0 és 100 között és tároljuk el egy változóban\n",
    "- Addig kérjünk a felhasználótól egy számot, amíg nem találja el, de írjuk ki, hogy a random szám nagyobb-e vagy kisebb, mint amit a felhasználó megadott!"
   ]
  },
  {
   "cell_type": "code",
   "execution_count": null,
   "metadata": {},
   "outputs": [],
   "source": [
    "# megoldás: \n"
   ]
  },
  {
   "cell_type": "markdown",
   "metadata": {},
   "source": [
    "### **2. feladat**: Írjunk egy kő-papír-olló játékot, ami az alábbi dolgokat tudja:\n",
    "\n",
    "- A játék egy bemenetet vár a felhasználótól: kő vagy papír vagy olló. Ha nem ezt adja meg, a program kérjen ismét bemenetet a felhasználótól\n",
    "- A játék addig fusson, amíg a felhasználó a `q` vagy `quit` vagy `exit` bemenetet nem ad meg\n",
    "- A játék minden körben generáljon egy saját kezet: kő vagy papír vagy olló\n",
    "- Minden körben írja ki az eredmény meghatározása előtt, de a felhasználó által megadott kéz után a gép által generált kezet\n",
    "- A játék végén írja ki, hogy a gépnek és a felhasználónak hány pontja lett. A döntetlen és vereség 0 pont, győzelem 1 pont\n",
    "\n",
    "A szabályok:\n",
    "\n",
    "- a kő legyőzi az ollót\n",
    "- az olló legyőzi a papírt\n",
    "- a papír legyőzi a követ\n",
    "- ugyanolyan kezek döntetlenre végződnek\n",
    "\n",
    "Sok helyes megoldás létezik."
   ]
  },
  {
   "cell_type": "code",
   "execution_count": null,
   "metadata": {},
   "outputs": [],
   "source": []
  }
 ],
 "metadata": {
  "kernelspec": {
   "display_name": "Python 3",
   "language": "python",
   "name": "python3"
  },
  "language_info": {
   "codemirror_mode": {
    "name": "ipython",
    "version": 3
   },
   "file_extension": ".py",
   "mimetype": "text/x-python",
   "name": "python",
   "nbconvert_exporter": "python",
   "pygments_lexer": "ipython3",
   "version": "3.8.5"
  }
 },
 "nbformat": 4,
 "nbformat_minor": 4
}
