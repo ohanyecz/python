{
 "cells": [
  {
   "cell_type": "markdown",
   "metadata": {},
   "source": [
    "# String-ek"
   ]
  },
  {
   "cell_type": "markdown",
   "metadata": {},
   "source": [
    "Pythonban egy string-et vagy szimpla idézőjelek között, vagy dupla idézőjelek között lehet megadni:"
   ]
  },
  {
   "cell_type": "code",
   "execution_count": null,
   "metadata": {},
   "outputs": [],
   "source": []
  },
  {
   "cell_type": "code",
   "execution_count": null,
   "metadata": {},
   "outputs": [],
   "source": []
  },
  {
   "cell_type": "markdown",
   "metadata": {},
   "source": [
    "A kétfajta megadási mód között nincs különbség."
   ]
  },
  {
   "cell_type": "markdown",
   "metadata": {},
   "source": [
    "A különböző idézőjeleket lehet keverni. Ha a string-ben van idézőjel, ami nem ugyanolyan, mint ahogy a string-et megadtuk, akkor az kiíródik. Figyeljük meg az alábbi két string-ben az idézőjelek fajtáját:"
   ]
  },
  {
   "cell_type": "code",
   "execution_count": null,
   "metadata": {},
   "outputs": [],
   "source": []
  },
  {
   "cell_type": "code",
   "execution_count": null,
   "metadata": {},
   "outputs": [],
   "source": []
  },
  {
   "cell_type": "markdown",
   "metadata": {},
   "source": [
    "Két vagy több string-et össze lehet adni, aminek az eredménye egy string lesz:"
   ]
  },
  {
   "cell_type": "code",
   "execution_count": null,
   "metadata": {},
   "outputs": [],
   "source": []
  },
  {
   "cell_type": "markdown",
   "metadata": {},
   "source": [
    "Egy string-et meg lehet szorozni egy egész számmal, aminek az eredménye egy string lesz az eredeti string számszorosával:"
   ]
  },
  {
   "cell_type": "code",
   "execution_count": null,
   "metadata": {},
   "outputs": [],
   "source": []
  },
  {
   "cell_type": "markdown",
   "metadata": {},
   "source": [
    "**Vigyázat**: más nyelvekben általában egy külön függvény van erre definiálva."
   ]
  },
  {
   "cell_type": "markdown",
   "metadata": {},
   "source": [
    "A string-ek konkrét karakterét ki lehet szedni *indexeléssel*. Pythonban nincs karakter típus, a karakter is egy string, aminek a hossza 1. Az első karakter indexe 0:"
   ]
  },
  {
   "cell_type": "code",
   "execution_count": null,
   "metadata": {},
   "outputs": [],
   "source": []
  },
  {
   "cell_type": "code",
   "execution_count": null,
   "metadata": {},
   "outputs": [],
   "source": []
  },
  {
   "cell_type": "markdown",
   "metadata": {},
   "source": [
    "Negatív szám is használható indexelésre, ekkor a string hátuljáról kell számolni az indexeket a -1-től kezdve:"
   ]
  },
  {
   "cell_type": "code",
   "execution_count": null,
   "metadata": {},
   "outputs": [],
   "source": []
  },
  {
   "cell_type": "code",
   "execution_count": null,
   "metadata": {},
   "outputs": [],
   "source": []
  },
  {
   "cell_type": "markdown",
   "metadata": {},
   "source": [
    "Hátulról miért -1-től számoljuk, amikor elölről 0-től? Az ok egyszerű: -0 = 0, ezért a -0-dik index is az első karaktert fogja kiírni."
   ]
  },
  {
   "cell_type": "markdown",
   "metadata": {},
   "source": [
    "Hibát kapunk, ha túl nagy indexű karaktert akarunk kiszedni:"
   ]
  },
  {
   "cell_type": "code",
   "execution_count": null,
   "metadata": {},
   "outputs": [],
   "source": []
  },
  {
   "cell_type": "markdown",
   "metadata": {},
   "source": [
    "Az `IndexError` egy másfajta hibaüzenet (a `NameError` volt a másik), ami akkor jön elő, ha olyan elemre vagyunk kíváncsiak, ami a string-ben (vagy később a listákban) nem létezik. Ezt jelenti a `string index out of range` üzenet."
   ]
  },
  {
   "cell_type": "markdown",
   "metadata": {},
   "source": [
    "Egy string hosszát lekérhetjük a beépített `len()` függvénnyel:"
   ]
  },
  {
   "cell_type": "code",
   "execution_count": null,
   "metadata": {},
   "outputs": [],
   "source": []
  },
  {
   "cell_type": "markdown",
   "metadata": {},
   "source": [
    "Lehetőség van egy string szeletelése (*slice*), azaz a string egy részének kiszedésére a kettőspont (`:`) operátor segítségével:"
   ]
  },
  {
   "cell_type": "code",
   "execution_count": null,
   "metadata": {},
   "outputs": [],
   "source": []
  },
  {
   "cell_type": "markdown",
   "metadata": {},
   "source": [
    "**Figyelem**: ha ilyen módon adjuk meg az indexelést, a kettőspont utáni indexnek megfelelő pozíción lévő karakter már nem íródik ki! Azaz a `v[0:3]` csak a 0,1,2 indexen lévő karaktereket fogja kiírni!"
   ]
  },
  {
   "cell_type": "markdown",
   "metadata": {},
   "source": [
    "A szeleteknek van alapértelmezett értéke. Ha a string elejéről akarunk kiírni néhány karaktert, a 0 elhagyható a `:` előtt:"
   ]
  },
  {
   "cell_type": "code",
   "execution_count": null,
   "metadata": {},
   "outputs": [],
   "source": []
  },
  {
   "cell_type": "markdown",
   "metadata": {},
   "source": [
    "Ha a negyedik indexű pozíciótól a string végéig akarjuk azt kiírni, akkor az utolsó karakter indexe elhagyható:"
   ]
  },
  {
   "cell_type": "code",
   "execution_count": null,
   "metadata": {},
   "outputs": [],
   "source": []
  },
  {
   "cell_type": "markdown",
   "metadata": {},
   "source": [
    "Hasonló igaz a string hátuljáról is. Ha az utolsó néhány karatert akarjuk kiírni, a -1 elhagyható a `:` után:"
   ]
  },
  {
   "cell_type": "code",
   "execution_count": null,
   "metadata": {},
   "outputs": [],
   "source": []
  },
  {
   "cell_type": "markdown",
   "metadata": {},
   "source": [
    "A Python le tudja kezelni, ha a szeletelés során túl nagy indexet adunk meg:"
   ]
  },
  {
   "cell_type": "code",
   "execution_count": null,
   "metadata": {},
   "outputs": [],
   "source": []
  },
  {
   "cell_type": "code",
   "execution_count": null,
   "metadata": {},
   "outputs": [],
   "source": []
  },
  {
   "cell_type": "markdown",
   "metadata": {},
   "source": [
    "Hogyan működik az indexelés? Pythonban minden index 0-val kezdődik és a string, lista, stb. hosszáig tart. \n",
    "\n",
    "Az alábbi példában a \"Hello\" string hossza 5 (idézőjelek nélkül), a string látható a táblázat első sorában. A közvetlenül alatta lévő sor a string elejétől mutatja, hogy melyik index melyik karakterre mutat. Az utolsó sor pedig ugyanez, csak a string végétől az elejéig mutatja az indexek értékét.\n",
    "\n",
    "| H  | e  | l  | l  | o  |\n",
    "|----|----|----|----|----|\n",
    "| 0  | 1  | 2  | 3  | 4  |\n",
    "| -5 | -4 | -3 | -2 | -1 |"
   ]
  },
  {
   "cell_type": "markdown",
   "metadata": {},
   "source": [
    "## Feladatok"
   ]
  },
  {
   "cell_type": "markdown",
   "metadata": {},
   "source": [
    "### **1. feladat**: Adott egy `count` változó, amiben azt tároljuk, hogy hányszor szeretnénk ismételni egy `word` nevű, string típusú változót. A `res` változóban tároljuk el a `count`-szor megismételt `word`-öt, majd írjuk is ki!"
   ]
  },
  {
   "cell_type": "code",
   "execution_count": null,
   "metadata": {},
   "outputs": [],
   "source": [
    "count = 2\n",
    "word = \"palacsinta\"\n",
    "\n",
    "# megoldás:\n"
   ]
  },
  {
   "cell_type": "markdown",
   "metadata": {},
   "source": [
    "### **2. feladat**: Írd ki az előző feladatban szereplő `word` változónak az első két karakterének és az utolsó három karakterének az összegét! (Eredményül tehát a `panta` string-et kell kapni.)"
   ]
  },
  {
   "cell_type": "code",
   "execution_count": null,
   "metadata": {},
   "outputs": [],
   "source": [
    "word = \"palacsinta\"\n",
    "\n",
    "# megoldás:\n"
   ]
  },
  {
   "cell_type": "markdown",
   "metadata": {},
   "source": [
    "### ***3. feladat**: Cseréld le a `word`-ben kapott string-ben az első karakternek megegyező karaktereket `*`-ra! \n",
    "\n",
    "Például: a `hahaha` string eredményének a `ha*a*a` kell kapnunk. \n",
    "\n",
    "(Hint: a `word.replace(old, new)` metódus a `word` nevű string típusú változóban az `old` karaktert minden előfordulását kicseréli a `new` karakterre. Pl. `\"alma\".replace(a, '*')` az `*lm*` string-et eredményezi)"
   ]
  },
  {
   "cell_type": "code",
   "execution_count": null,
   "metadata": {},
   "outputs": [],
   "source": [
    "word = \"bubble\"\n",
    "\n",
    "# megoldás:\n"
   ]
  },
  {
   "cell_type": "markdown",
   "metadata": {},
   "source": [
    "### Műveletek string-ekkel"
   ]
  },
  {
   "cell_type": "markdown",
   "metadata": {},
   "source": [
    "Nézzünk meg néhány műveletet, amit a stringekkel lehet csinálni Pythonban! A vonatkozó dokumentáció [itt érhető el](https://docs.python.org/3/library/stdtypes.html#string-methods)."
   ]
  },
  {
   "cell_type": "markdown",
   "metadata": {},
   "source": [
    "Egy string első karakterét nagybetűssé tehetünk a `capitalize()` metódussal:"
   ]
  },
  {
   "cell_type": "code",
   "execution_count": null,
   "metadata": {},
   "outputs": [],
   "source": []
  },
  {
   "cell_type": "markdown",
   "metadata": {},
   "source": [
    "Ellenőrizhetjük, hogy egy string azzal végződik-e, amivel szeretnénk, hogy végződjön. Erre az `endswith()` metódus használható. Ennek az eredménye egy logikai érték lesz (következő részben részletesen lesz róla szó):"
   ]
  },
  {
   "cell_type": "code",
   "execution_count": null,
   "metadata": {},
   "outputs": [],
   "source": []
  },
  {
   "cell_type": "code",
   "execution_count": null,
   "metadata": {},
   "outputs": [],
   "source": []
  },
  {
   "cell_type": "markdown",
   "metadata": {},
   "source": [
    "Hasonlóan, a `startswith()` metódus a string elején ellenőrzi, hogy a paraméterül átadott string-el kezdődik-e:"
   ]
  },
  {
   "cell_type": "code",
   "execution_count": null,
   "metadata": {},
   "outputs": [],
   "source": []
  },
  {
   "cell_type": "code",
   "execution_count": null,
   "metadata": {},
   "outputs": [],
   "source": []
  },
  {
   "cell_type": "markdown",
   "metadata": {},
   "source": [
    "Egy string-ről az `isnumeric()` metódussal lehet ellenőrizni, hogy a string egy számot reprezentál-e:"
   ]
  },
  {
   "cell_type": "code",
   "execution_count": null,
   "metadata": {},
   "outputs": [],
   "source": []
  },
  {
   "cell_type": "code",
   "execution_count": null,
   "metadata": {},
   "outputs": [],
   "source": []
  },
  {
   "cell_type": "markdown",
   "metadata": {},
   "source": [
    "Egy string-ről az `isalpha()` metódussal eldönthető, hogy csak betűket tartalmaz-e:"
   ]
  },
  {
   "cell_type": "code",
   "execution_count": null,
   "metadata": {},
   "outputs": [],
   "source": []
  },
  {
   "cell_type": "code",
   "execution_count": null,
   "metadata": {},
   "outputs": [],
   "source": []
  },
  {
   "cell_type": "code",
   "execution_count": null,
   "metadata": {},
   "outputs": [],
   "source": []
  },
  {
   "cell_type": "markdown",
   "metadata": {},
   "source": [
    "Egy string-ről eldönthető az `isupper()` metódussal, hogy csak nagy betűt tartalmaz:"
   ]
  },
  {
   "cell_type": "code",
   "execution_count": null,
   "metadata": {},
   "outputs": [],
   "source": []
  },
  {
   "cell_type": "code",
   "execution_count": null,
   "metadata": {},
   "outputs": [],
   "source": []
  },
  {
   "cell_type": "code",
   "execution_count": null,
   "metadata": {},
   "outputs": [],
   "source": []
  },
  {
   "cell_type": "code",
   "execution_count": null,
   "metadata": {},
   "outputs": [],
   "source": []
  },
  {
   "cell_type": "markdown",
   "metadata": {},
   "source": [
    "Hasonlóan, az `islower()` metódus megmondja, hogy csak kis betűt tartalmaz-e:"
   ]
  },
  {
   "cell_type": "code",
   "execution_count": null,
   "metadata": {},
   "outputs": [],
   "source": []
  },
  {
   "cell_type": "code",
   "execution_count": null,
   "metadata": {},
   "outputs": [],
   "source": []
  },
  {
   "cell_type": "code",
   "execution_count": null,
   "metadata": {},
   "outputs": [],
   "source": []
  },
  {
   "cell_type": "code",
   "execution_count": null,
   "metadata": {},
   "outputs": [],
   "source": []
  },
  {
   "cell_type": "markdown",
   "metadata": {},
   "source": [
    "Egy string-et a `lower()` metódussal kisbetűssé lehet tenni:"
   ]
  },
  {
   "cell_type": "code",
   "execution_count": null,
   "metadata": {},
   "outputs": [],
   "source": []
  },
  {
   "cell_type": "markdown",
   "metadata": {},
   "source": [
    "Az `upper()` metódussal pedig csak nagybetűket tartalmazó string-é lehet tenni az eredeti string-et:"
   ]
  },
  {
   "cell_type": "code",
   "execution_count": null,
   "metadata": {},
   "outputs": [],
   "source": []
  },
  {
   "cell_type": "markdown",
   "metadata": {},
   "source": [
    "A string elején lévő karaktereket az `lstrip()`, a string végén lévő karaktereket az `rstrip()` metódussal, valamint az ezeknek átadott karaktereket lehet levágni. Ha nem adunk át paramétert, akkor a space karaktereket vágja le:"
   ]
  },
  {
   "cell_type": "code",
   "execution_count": null,
   "metadata": {},
   "outputs": [],
   "source": []
  },
  {
   "cell_type": "code",
   "execution_count": null,
   "metadata": {},
   "outputs": [],
   "source": []
  },
  {
   "cell_type": "code",
   "execution_count": null,
   "metadata": {},
   "outputs": [],
   "source": []
  },
  {
   "cell_type": "code",
   "execution_count": null,
   "metadata": {},
   "outputs": [],
   "source": []
  },
  {
   "cell_type": "markdown",
   "metadata": {},
   "source": [
    "Egy string-et szét lehet választani az általunk megadott karakter alapján a `split()` metódussal. Ennek az eredménye egy string-eket tartalmazó lista lesz. Ha nem adjuk meg, milyen karakter szerint válasszuk szét a string-ek, akkor szóközök szerint választódik szét:"
   ]
  },
  {
   "cell_type": "code",
   "execution_count": null,
   "metadata": {},
   "outputs": [],
   "source": []
  },
  {
   "cell_type": "code",
   "execution_count": null,
   "metadata": {},
   "outputs": [],
   "source": []
  },
  {
   "cell_type": "code",
   "execution_count": null,
   "metadata": {},
   "outputs": [],
   "source": []
  },
  {
   "cell_type": "code",
   "execution_count": null,
   "metadata": {},
   "outputs": [],
   "source": []
  },
  {
   "cell_type": "code",
   "execution_count": null,
   "metadata": {},
   "outputs": [],
   "source": []
  },
  {
   "cell_type": "markdown",
   "metadata": {},
   "source": [
    "A `split()` metódusnak még egy opcionális paramétere, amiben megmondhatjuk, hogy *legfeljebb* hányszor válasszuk szét a string-et. Ha ezt nem adjuk meg, vagy `-1`-et adunk neki, akkor annyi részre bontódik a string, amennyire lehet. Ha nem adunk meg karaktert, ami alapján szét akarjuk választani a string-et, akkor a szóközök szerint választja szét:"
   ]
  },
  {
   "cell_type": "code",
   "execution_count": null,
   "metadata": {},
   "outputs": [],
   "source": []
  },
  {
   "cell_type": "markdown",
   "metadata": {},
   "source": [
    "Az `lstrip()` és `rstrip()` metódusok mellett van egy `strip()` metódus, ami a string elején és végén vágja le a megadott karakterek kombinációit. Ha nem adunk át semmit, akkor alapértelmezetten a szóközöket vágja le:"
   ]
  },
  {
   "cell_type": "code",
   "execution_count": null,
   "metadata": {},
   "outputs": [],
   "source": []
  },
  {
   "cell_type": "code",
   "execution_count": null,
   "metadata": {},
   "outputs": [],
   "source": []
  }
 ],
 "metadata": {
  "kernelspec": {
   "display_name": "Python 3",
   "language": "python",
   "name": "python3"
  },
  "language_info": {
   "codemirror_mode": {
    "name": "ipython",
    "version": 3
   },
   "file_extension": ".py",
   "mimetype": "text/x-python",
   "name": "python",
   "nbconvert_exporter": "python",
   "pygments_lexer": "ipython3",
   "version": "3.8.5"
  }
 },
 "nbformat": 4,
 "nbformat_minor": 4
}
