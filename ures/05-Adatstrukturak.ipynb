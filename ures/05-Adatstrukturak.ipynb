{
 "cells": [
  {
   "cell_type": "markdown",
   "metadata": {},
   "source": [
    "# Adatstruktúrák"
   ]
  },
  {
   "cell_type": "markdown",
   "metadata": {},
   "source": [
    "Pythonban több összetett adattípus is meg van adva, amikkel több különböző értéket csoportosíthatunk. Ilyen adattípus a lista (`list`), könyvtár (dictionary, `dict`), rendezett pár (tuple, `tuple`), halmaz (set, `set`)."
   ]
  },
  {
   "cell_type": "markdown",
   "metadata": {},
   "source": [
    "## Listák (`List`)"
   ]
  },
  {
   "cell_type": "markdown",
   "metadata": {},
   "source": [
    "A listákban listaszerűen, vesszővel elválasztva soroljuk fel a lista elemeit szögletes zárójelek között:"
   ]
  },
  {
   "cell_type": "code",
   "execution_count": null,
   "metadata": {},
   "outputs": [],
   "source": []
  },
  {
   "cell_type": "markdown",
   "metadata": {},
   "source": [
    "Üres listát a szögletes zárójelekkel vagy a `list()` beépített függvénnyel készíthetünk:"
   ]
  },
  {
   "cell_type": "code",
   "execution_count": null,
   "metadata": {},
   "outputs": [],
   "source": []
  },
  {
   "cell_type": "code",
   "execution_count": null,
   "metadata": {},
   "outputs": [],
   "source": []
  },
  {
   "cell_type": "markdown",
   "metadata": {},
   "source": [
    "Pythonban a listák elemei lehetnek különböző típusúak (ez más nyelvekre jellemzően nem igaz):"
   ]
  },
  {
   "cell_type": "code",
   "execution_count": null,
   "metadata": {},
   "outputs": [],
   "source": []
  },
  {
   "cell_type": "markdown",
   "metadata": {},
   "source": [
    "A string-eknél megszokott módon, indexeléssel kiszedhetjük a lista egy elemét.\n",
    "\n",
    "A harmadik indexű, azaz a negyedik elem a listában:"
   ]
  },
  {
   "cell_type": "code",
   "execution_count": null,
   "metadata": {},
   "outputs": [],
   "source": []
  },
  {
   "cell_type": "markdown",
   "metadata": {},
   "source": [
    "Az első három elem a listában:"
   ]
  },
  {
   "cell_type": "code",
   "execution_count": null,
   "metadata": {},
   "outputs": [],
   "source": []
  },
  {
   "cell_type": "markdown",
   "metadata": {},
   "source": [
    "A negatív indexek is működnek a string-eknél megszokott módon:"
   ]
  },
  {
   "cell_type": "code",
   "execution_count": null,
   "metadata": {},
   "outputs": [],
   "source": []
  },
  {
   "cell_type": "markdown",
   "metadata": {},
   "source": [
    "### Néhány művelet, amik listákra értelmezve vannak"
   ]
  },
  {
   "cell_type": "markdown",
   "metadata": {},
   "source": [
    "A listákra értelmezve van az összeadás művelet, ami a paraméterül kapott listákat egy listává fűzi össze:"
   ]
  },
  {
   "cell_type": "code",
   "execution_count": null,
   "metadata": {},
   "outputs": [],
   "source": []
  },
  {
   "cell_type": "code",
   "execution_count": null,
   "metadata": {},
   "outputs": [],
   "source": []
  },
  {
   "cell_type": "markdown",
   "metadata": {},
   "source": [
    "A listák, a string-ekkel ellentétben, megváltoztatható (*mutable*) objektumok, azaz a tartalmuk megváltoztatható. \n",
    "\n",
    "Cseréljük ki a `v` listában a negyedik elemet 25-re:"
   ]
  },
  {
   "cell_type": "code",
   "execution_count": null,
   "metadata": {},
   "outputs": [],
   "source": []
  },
  {
   "cell_type": "markdown",
   "metadata": {},
   "source": [
    "Az `append()` metódussal egy új elem adható a lista végére:"
   ]
  },
  {
   "cell_type": "code",
   "execution_count": null,
   "metadata": {},
   "outputs": [],
   "source": []
  },
  {
   "cell_type": "markdown",
   "metadata": {},
   "source": [
    "A lista hossza a `len()` beépített függvénnyel kérhető le:"
   ]
  },
  {
   "cell_type": "code",
   "execution_count": null,
   "metadata": {},
   "outputs": [],
   "source": []
  },
  {
   "cell_type": "markdown",
   "metadata": {},
   "source": [
    "Egy adott elem indexét az `index()` metődussal kaphatjuk meg:"
   ]
  },
  {
   "cell_type": "code",
   "execution_count": null,
   "metadata": {},
   "outputs": [],
   "source": []
  },
  {
   "cell_type": "markdown",
   "metadata": {},
   "source": [
    "Ha olyan elemet adunk meg, ami nincs a listában, hibát kapunk:"
   ]
  },
  {
   "cell_type": "code",
   "execution_count": null,
   "metadata": {},
   "outputs": [],
   "source": []
  },
  {
   "cell_type": "markdown",
   "metadata": {},
   "source": [
    "A logikai kifejezéseknél megismerkedtünk az `in` és `not in` operátorokkal. Ezek azt tesztelik, hogy egy adott elem benne van-e a listában vagy sem:"
   ]
  },
  {
   "cell_type": "code",
   "execution_count": null,
   "metadata": {},
   "outputs": [],
   "source": []
  },
  {
   "cell_type": "code",
   "execution_count": null,
   "metadata": {},
   "outputs": [],
   "source": []
  },
  {
   "cell_type": "markdown",
   "metadata": {},
   "source": [
    "Egy listát lemásolhatunk a `copy()` metódussal. Ez a lemásolt lista tartalmával megegyező, új listát ad vissza:"
   ]
  },
  {
   "cell_type": "code",
   "execution_count": null,
   "metadata": {},
   "outputs": [],
   "source": []
  },
  {
   "cell_type": "markdown",
   "metadata": {},
   "source": [
    "Egy lista elemeinek a sorrendje megfordítható a `reverse()` metódussal. Ez nem hoz létre új listát, abban a listában fordítja meg az elemek sorrendjét, amelyikre meghívtuk:"
   ]
  },
  {
   "cell_type": "code",
   "execution_count": null,
   "metadata": {},
   "outputs": [],
   "source": []
  },
  {
   "cell_type": "markdown",
   "metadata": {},
   "source": [
    "A `count()` metódus megszámolja, hogy a paraméterül átadott elem hányszor fordul elő a listában:"
   ]
  },
  {
   "cell_type": "code",
   "execution_count": null,
   "metadata": {},
   "outputs": [],
   "source": []
  },
  {
   "cell_type": "markdown",
   "metadata": {},
   "source": [
    "## Könyvtárak (`Dict`)"
   ]
  },
  {
   "cell_type": "markdown",
   "metadata": {},
   "source": [
    "A könyvtárak felépítése alapvetően különbözik a listától. A könyvtár elemeit kulcsokkal (*key*) indexeljük, ami immutable kell legyen (pl: string vagy egész szám). Minden kulcshoz tartozik egy érték (*value*), azzal a megkötéssel, hogy egy kulcshoz egy érték tartozhat (egy könyvtáron belül). "
   ]
  },
  {
   "cell_type": "markdown",
   "metadata": {},
   "source": [
    "Készítsünk egy könyvtárat, ami embereket és azok telefonszámait tárolja. A könyvtár elemeit, azaz a kulcs-érték párokat kapcsos zárójelek (`{}`) között, kettősponttal (`:`) elválasztva adjuk meg:"
   ]
  },
  {
   "cell_type": "code",
   "execution_count": null,
   "metadata": {},
   "outputs": [],
   "source": []
  },
  {
   "cell_type": "markdown",
   "metadata": {},
   "source": [
    "**Fontos**: a könyvtár kulcsai rendezetlenül tárolódnak, azaz nem feltétlenül a beszúrás sorrendjében kapjuk vissza az elemeket!"
   ]
  },
  {
   "cell_type": "markdown",
   "metadata": {},
   "source": [
    "Üres könyvtárat a kapcsos zárójelekkel vagy a `dict()` beépített függvénnyel készíthetünk:"
   ]
  },
  {
   "cell_type": "code",
   "execution_count": null,
   "metadata": {},
   "outputs": [],
   "source": []
  },
  {
   "cell_type": "code",
   "execution_count": null,
   "metadata": {},
   "outputs": [],
   "source": []
  },
  {
   "cell_type": "markdown",
   "metadata": {},
   "source": [
    "A könyvtár egy konkrét kulcsához tartozó értéket lekérhetjük a következő módon. A könyvtár neve után szögletes zárójelek közé beírjuk a kulcsot, aminek az értékére kíváncsiak vagyunk. Zénó telefonszámát tehát így kérhetjük le:"
   ]
  },
  {
   "cell_type": "code",
   "execution_count": null,
   "metadata": {},
   "outputs": [],
   "source": []
  },
  {
   "cell_type": "markdown",
   "metadata": {},
   "source": [
    "Hasonlóan a listákhoz, ha egy nem létező kulcs értékét kérjük le, hibát kapunk:"
   ]
  },
  {
   "cell_type": "code",
   "execution_count": null,
   "metadata": {},
   "outputs": [],
   "source": []
  },
  {
   "cell_type": "markdown",
   "metadata": {},
   "source": [
    "Természetesen a könyvtárhoz hozzá lehet adni új kulcs-érték párokat. Kázmér telefonszáma 137, ezt hozzá szeretnénk adni a könyvtárunkhoz. Ezt egy egyszerű értékadással megtehetjük, aminek a bal oldalán a könyvtár egy új kulcsa, a jobb oldalán pedig annak a kulcsnak az értéke szerepel:"
   ]
  },
  {
   "cell_type": "code",
   "execution_count": null,
   "metadata": {},
   "outputs": [],
   "source": []
  },
  {
   "cell_type": "markdown",
   "metadata": {},
   "source": [
    "Lehetőség van a könyvtár teljes tartalmának kiírására is:"
   ]
  },
  {
   "cell_type": "code",
   "execution_count": null,
   "metadata": {},
   "outputs": [],
   "source": []
  },
  {
   "cell_type": "markdown",
   "metadata": {},
   "source": [
    "A könyvtárban egy kulcs értéke különbözhet a többi érték típusától:"
   ]
  },
  {
   "cell_type": "code",
   "execution_count": null,
   "metadata": {},
   "outputs": [],
   "source": []
  },
  {
   "cell_type": "markdown",
   "metadata": {},
   "source": [
    "De ki is törölhetünk egy konkrét kulcshoz tartozó értéket a kulcssal együtt a `del` kulcsszó használatával:"
   ]
  },
  {
   "cell_type": "code",
   "execution_count": null,
   "metadata": {},
   "outputs": [],
   "source": []
  },
  {
   "cell_type": "markdown",
   "metadata": {},
   "source": [
    "A `del` kulcsszó használata néha hibát eredményezhet, ha nem figyelünk oda, mi történik a körülötte lévő kódban (jellemzően ciklusoknál lehet gond). Ezért óvatosan használjuk!"
   ]
  },
  {
   "cell_type": "markdown",
   "metadata": {},
   "source": [
    "### A könyvtárakon értelmezett műveletek"
   ]
  },
  {
   "cell_type": "markdown",
   "metadata": {},
   "source": [
    "Egy könyvtárban tárolt kulcsokat a `keys()` metódussal kérhetjük le:"
   ]
  },
  {
   "cell_type": "code",
   "execution_count": null,
   "metadata": {},
   "outputs": [],
   "source": []
  },
  {
   "cell_type": "markdown",
   "metadata": {},
   "source": [
    "Az értékeket pedig a `values()` metódussal kérhetjük le:"
   ]
  },
  {
   "cell_type": "code",
   "execution_count": null,
   "metadata": {},
   "outputs": [],
   "source": []
  },
  {
   "cell_type": "markdown",
   "metadata": {},
   "source": [
    "A kulcs-érték párok pedig az `items()` metódussal:"
   ]
  },
  {
   "cell_type": "code",
   "execution_count": null,
   "metadata": {},
   "outputs": [],
   "source": []
  },
  {
   "cell_type": "markdown",
   "metadata": {},
   "source": [
    "A fenti metódusok kimenetei látszólag tartalmazzák a kért információkat. Ezeket lehet listává alakítani, hogy később kényelmesebben használhassuk:"
   ]
  },
  {
   "cell_type": "code",
   "execution_count": null,
   "metadata": {},
   "outputs": [],
   "source": []
  },
  {
   "cell_type": "markdown",
   "metadata": {},
   "source": [
    "## Párok (`tuple`)"
   ]
  },
  {
   "cell_type": "markdown",
   "metadata": {},
   "source": [
    "Egy harmadik adatszerkezet a rendezett pár, vagy tuple. Valójában nem csak egy párt tárolhatunk vele, hanem akárhány elemből állhat."
   ]
  },
  {
   "cell_type": "markdown",
   "metadata": {},
   "source": [
    "Egy tuple elemeit zárójelek között, vesszővel elválasztva adhatjuk meg:"
   ]
  },
  {
   "cell_type": "code",
   "execution_count": null,
   "metadata": {},
   "outputs": [],
   "source": []
  },
  {
   "cell_type": "markdown",
   "metadata": {},
   "source": [
    "A tuple típusa `tuple`:"
   ]
  },
  {
   "cell_type": "code",
   "execution_count": null,
   "metadata": {},
   "outputs": [],
   "source": []
  },
  {
   "cell_type": "markdown",
   "metadata": {},
   "source": [
    "A zárójelek egyszerűbb esetekben elhagyhatók, például ha egy változónak adjuk át, tehát a fenti tuple pontosan ugyanaz lesz, mint ez:"
   ]
  },
  {
   "cell_type": "code",
   "execution_count": null,
   "metadata": {},
   "outputs": [],
   "source": []
  },
  {
   "cell_type": "markdown",
   "metadata": {},
   "source": [
    "A string-eknél és a listáknál megszokott módon lehet indexelni, szeletelni a tuple objektumokat."
   ]
  },
  {
   "cell_type": "markdown",
   "metadata": {},
   "source": [
    "A tuple a string-ekhez hasonlóan immutable, azaz megváltoztathatatlan objektum. Ha például az első elemét meg akarjuk változtatni, hibát kapunk:"
   ]
  },
  {
   "cell_type": "code",
   "execution_count": null,
   "metadata": {},
   "outputs": [],
   "source": []
  },
  {
   "cell_type": "markdown",
   "metadata": {},
   "source": [
    "Maga a `tuple` ugyan megváltoztathatatlan, de megváltoztatható objektumokat, például listákat tartalmazhatnak:"
   ]
  },
  {
   "cell_type": "code",
   "execution_count": null,
   "metadata": {},
   "outputs": [],
   "source": []
  },
  {
   "cell_type": "markdown",
   "metadata": {},
   "source": [
    "Hogyan lehet egy elemet tartalmazó `tuple`-t csinálni? Ha zárójelek közé egy elemet írunk, az nem lesz `tuple`:"
   ]
  },
  {
   "cell_type": "code",
   "execution_count": null,
   "metadata": {},
   "outputs": [],
   "source": []
  },
  {
   "cell_type": "markdown",
   "metadata": {},
   "source": [
    "Figyeljük meg, hogy `int` az `egyelem` nevű változó típusa! Vessző kiírásával már helyes típusú lesz az objektum:"
   ]
  },
  {
   "cell_type": "code",
   "execution_count": null,
   "metadata": {},
   "outputs": [],
   "source": []
  },
  {
   "cell_type": "markdown",
   "metadata": {},
   "source": [
    "És nulla elemű `tuple`-t hogyan csinálunk? Két zárójel leírásával megoldható:"
   ]
  },
  {
   "cell_type": "code",
   "execution_count": null,
   "metadata": {},
   "outputs": [],
   "source": []
  }
 ],
 "metadata": {
  "kernelspec": {
   "display_name": "Python 3",
   "language": "python",
   "name": "python3"
  },
  "language_info": {
   "codemirror_mode": {
    "name": "ipython",
    "version": 3
   },
   "file_extension": ".py",
   "mimetype": "text/x-python",
   "name": "python",
   "nbconvert_exporter": "python",
   "pygments_lexer": "ipython3",
   "version": "3.8.5"
  }
 },
 "nbformat": 4,
 "nbformat_minor": 4
}
